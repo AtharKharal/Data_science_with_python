{
  "nbformat": 4,
  "nbformat_minor": 0,
  "metadata": {
    "colab": {
      "name": "titanic_with_tpot.ipynb",
      "version": "0.3.2",
      "provenance": [],
      "collapsed_sections": [],
      "include_colab_link": true
    },
    "kernelspec": {
      "name": "python3",
      "display_name": "Python 3"
    }
  },
  "cells": [
    {
      "cell_type": "markdown",
      "metadata": {
        "id": "view-in-github",
        "colab_type": "text"
      },
      "source": [
        "<a href=\"https://colab.research.google.com/github/AtharKharal/Data_science_with_python/blob/master/titanic_with_tpot.ipynb\" target=\"_parent\"><img src=\"https://colab.research.google.com/assets/colab-badge.svg\" alt=\"Open In Colab\"/></a>"
      ]
    },
    {
      "metadata": {
        "id": "mGsLugsnhLAG",
        "colab_type": "code",
        "colab": {}
      },
      "cell_type": "code",
      "source": [
        "#================== Installing featuretools and its compatibilities   #numpy==1.14.6\n",
        "\n",
        "#!pip install tornado==4.5.3 featuretools==0.6.1 pandas==0.24.1\n",
        "\n",
        "\n",
        "\n",
        "#================== Installing auto-sklearn on colab\n",
        "#!sudo apt-get install build-essential swig\n",
        "#!curl https://raw.githubusercontent.com/automl/auto-sklearn/master/requirements.txt | xargs -n 1 -L 1 pip install\n",
        "#!pip install auto-sklearn"
      ],
      "execution_count": 0,
      "outputs": []
    },
    {
      "metadata": {
        "id": "lpnaRvXDhZDp",
        "colab_type": "code",
        "colab": {}
      },
      "cell_type": "code",
      "source": [
        "import numpy as np\n",
        "import pandas as pd\n",
        "#import featuretools as ft\n",
        "#from featuretools.primitives import make_trans_primitive\n",
        "#import featuretools.variable_types as vt"
      ],
      "execution_count": 0,
      "outputs": []
    },
    {
      "metadata": {
        "id": "0zuQDoJHhcRH",
        "colab_type": "code",
        "colab": {
          "base_uri": "https://localhost:8080/",
          "height": 51
        },
        "outputId": "0cfd9e7a-b4e2-4608-decd-5b52e8d5dd03"
      },
      "cell_type": "code",
      "source": [
        "# Go to the CSV file in Google Drive, right-click on it and select \n",
        "# “Get shareable link”. The link will be copied into your clipboard. \n",
        "# Paste this link into following a string variable i.e. link:\n",
        "\n",
        "link = 'https://drive.google.com/open?id=1Aua9sDD9LK3vakKn_ZzqPqv4xvYIOHxc'  # The shareable link\n",
        "\n",
        "# Code to read csv file into Colaboratory:\n",
        "!pip install -U -q PyDrive\n",
        "from pydrive.auth import GoogleAuth\n",
        "from pydrive.drive import GoogleDrive\n",
        "from google.colab import auth\n",
        "from oauth2client.client import GoogleCredentials\n",
        "# Authenticate and create the PyDrive client.\n",
        "auth.authenticate_user()\n",
        "gauth = GoogleAuth()\n",
        "gauth.credentials = GoogleCredentials.get_application_default()\n",
        "drive = GoogleDrive(gauth)\n",
        "\n",
        "\n",
        "fluff, id = link.split('=')   # Verify that you have everything after '=' by using print(id)\n",
        "\n",
        "# Finally reading the data into a dataframe\n",
        "\n",
        "downloaded = drive.CreateFile({'id':id}) \n",
        "downloaded.GetContentFile('dummy_file_name.csv')  \n",
        "df1 = pd.read_csv('dummy_file_name.csv')"
      ],
      "execution_count": 2,
      "outputs": [
        {
          "output_type": "stream",
          "text": [
            "\u001b[?25l\r\u001b[K    1% |▎                               | 10kB 18.7MB/s eta 0:00:01\r\u001b[K    2% |▋                               | 20kB 1.8MB/s eta 0:00:01\r\u001b[K    3% |█                               | 30kB 2.6MB/s eta 0:00:01\r\u001b[K    4% |█▎                              | 40kB 1.7MB/s eta 0:00:01\r\u001b[K    5% |█▋                              | 51kB 2.1MB/s eta 0:00:01\r\u001b[K    6% |██                              | 61kB 2.5MB/s eta 0:00:01\r\u001b[K    7% |██▎                             | 71kB 2.8MB/s eta 0:00:01\r\u001b[K    8% |██▋                             | 81kB 3.1MB/s eta 0:00:01\r\u001b[K    9% |███                             | 92kB 3.5MB/s eta 0:00:01\r\u001b[K    10% |███▎                            | 102kB 2.8MB/s eta 0:00:01\r\u001b[K    11% |███▋                            | 112kB 2.8MB/s eta 0:00:01\r\u001b[K    12% |████                            | 122kB 4.0MB/s eta 0:00:01\r\u001b[K    13% |████▎                           | 133kB 4.0MB/s eta 0:00:01\r\u001b[K    14% |████▋                           | 143kB 7.7MB/s eta 0:00:01\r\u001b[K    15% |█████                           | 153kB 7.8MB/s eta 0:00:01\r\u001b[K    16% |█████▎                          | 163kB 7.9MB/s eta 0:00:01\r\u001b[K    17% |█████▋                          | 174kB 8.1MB/s eta 0:00:01\r\u001b[K    18% |██████                          | 184kB 8.3MB/s eta 0:00:01\r\u001b[K    19% |██████▎                         | 194kB 8.4MB/s eta 0:00:01\r\u001b[K    20% |██████▋                         | 204kB 41.9MB/s eta 0:00:01\r\u001b[K    21% |███████                         | 215kB 8.4MB/s eta 0:00:01\r\u001b[K    22% |███████▎                        | 225kB 8.4MB/s eta 0:00:01\r\u001b[K    23% |███████▋                        | 235kB 8.4MB/s eta 0:00:01\r\u001b[K    24% |████████                        | 245kB 8.4MB/s eta 0:00:01\r\u001b[K    25% |████████▎                       | 256kB 8.5MB/s eta 0:00:01\r\u001b[K    26% |████████▋                       | 266kB 8.2MB/s eta 0:00:01\r\u001b[K    27% |█████████                       | 276kB 8.3MB/s eta 0:00:01\r\u001b[K    29% |█████████▎                      | 286kB 8.3MB/s eta 0:00:01\r\u001b[K    30% |█████████▋                      | 296kB 8.3MB/s eta 0:00:01\r\u001b[K    31% |██████████                      | 307kB 8.5MB/s eta 0:00:01\r\u001b[K    32% |██████████▎                     | 317kB 47.4MB/s eta 0:00:01\r\u001b[K    33% |██████████▋                     | 327kB 51.1MB/s eta 0:00:01\r\u001b[K    34% |███████████                     | 337kB 52.5MB/s eta 0:00:01\r\u001b[K    35% |███████████▎                    | 348kB 47.1MB/s eta 0:00:01\r\u001b[K    36% |███████████▋                    | 358kB 46.6MB/s eta 0:00:01\r\u001b[K    37% |████████████                    | 368kB 54.2MB/s eta 0:00:01\r\u001b[K    38% |████████████▎                   | 378kB 54.9MB/s eta 0:00:01\r\u001b[K    39% |████████████▋                   | 389kB 55.2MB/s eta 0:00:01\r\u001b[K    40% |█████████████                   | 399kB 9.6MB/s eta 0:00:01\r\u001b[K    41% |█████████████▎                  | 409kB 9.5MB/s eta 0:00:01\r\u001b[K    42% |█████████████▋                  | 419kB 9.5MB/s eta 0:00:01\r\u001b[K    43% |██████████████                  | 430kB 9.5MB/s eta 0:00:01\r\u001b[K    44% |██████████████▎                 | 440kB 9.5MB/s eta 0:00:01\r\u001b[K    45% |██████████████▋                 | 450kB 9.5MB/s eta 0:00:01\r\u001b[K    46% |███████████████                 | 460kB 9.5MB/s eta 0:00:01\r\u001b[K    47% |███████████████▎                | 471kB 9.5MB/s eta 0:00:01\r\u001b[K    48% |███████████████▋                | 481kB 9.5MB/s eta 0:00:01\r\u001b[K    49% |████████████████                | 491kB 9.5MB/s eta 0:00:01\r\u001b[K    50% |████████████████▎               | 501kB 49.9MB/s eta 0:00:01\r\u001b[K    51% |████████████████▋               | 512kB 48.2MB/s eta 0:00:01\r\u001b[K    52% |█████████████████               | 522kB 49.2MB/s eta 0:00:01\r\u001b[K    53% |█████████████████▎              | 532kB 50.3MB/s eta 0:00:01\r\u001b[K    54% |█████████████████▋              | 542kB 50.5MB/s eta 0:00:01\r\u001b[K    55% |██████████████████              | 552kB 56.9MB/s eta 0:00:01\r\u001b[K    57% |██████████████████▎             | 563kB 59.6MB/s eta 0:00:01\r\u001b[K    58% |██████████████████▋             | 573kB 60.5MB/s eta 0:00:01\r\u001b[K    59% |███████████████████             | 583kB 60.2MB/s eta 0:00:01\r\u001b[K    60% |███████████████████▎            | 593kB 58.9MB/s eta 0:00:01\r\u001b[K    61% |███████████████████▋            | 604kB 58.6MB/s eta 0:00:01\r\u001b[K    62% |████████████████████            | 614kB 64.4MB/s eta 0:00:01\r\u001b[K    63% |████████████████████▎           | 624kB 63.6MB/s eta 0:00:01\r\u001b[K    64% |████████████████████▋           | 634kB 63.5MB/s eta 0:00:01\r\u001b[K    65% |█████████████████████           | 645kB 62.9MB/s eta 0:00:01\r\u001b[K    66% |█████████████████████▎          | 655kB 61.1MB/s eta 0:00:01\r\u001b[K    67% |█████████████████████▋          | 665kB 46.3MB/s eta 0:00:01\r\u001b[K    68% |██████████████████████          | 675kB 10.5MB/s eta 0:00:01\r\u001b[K    69% |██████████████████████▎         | 686kB 10.5MB/s eta 0:00:01\r\u001b[K    70% |██████████████████████▋         | 696kB 10.5MB/s eta 0:00:01\r\u001b[K    71% |███████████████████████         | 706kB 10.5MB/s eta 0:00:01\r\u001b[K    72% |███████████████████████▎        | 716kB 10.4MB/s eta 0:00:01\r\u001b[K    73% |███████████████████████▋        | 727kB 10.4MB/s eta 0:00:01\r\u001b[K    74% |████████████████████████        | 737kB 10.4MB/s eta 0:00:01\r\u001b[K    75% |████████████████████████▎       | 747kB 10.4MB/s eta 0:00:01\r\u001b[K    76% |████████████████████████▋       | 757kB 10.4MB/s eta 0:00:01\r\u001b[K    77% |████████████████████████▉       | 768kB 10.9MB/s eta 0:00:01\r\u001b[K    78% |█████████████████████████▏      | 778kB 53.7MB/s eta 0:00:01\r\u001b[K    79% |█████████████████████████▌      | 788kB 52.7MB/s eta 0:00:01\r\u001b[K    80% |█████████████████████████▉      | 798kB 52.4MB/s eta 0:00:01\r\u001b[K    81% |██████████████████████████▏     | 808kB 52.2MB/s eta 0:00:01\r\u001b[K    82% |██████████████████████████▌     | 819kB 52.9MB/s eta 0:00:01\r\u001b[K    83% |██████████████████████████▉     | 829kB 53.4MB/s eta 0:00:01\r\u001b[K    85% |███████████████████████████▏    | 839kB 52.8MB/s eta 0:00:01\r\u001b[K    86% |███████████████████████████▌    | 849kB 54.0MB/s eta 0:00:01\r\u001b[K    87% |███████████████████████████▉    | 860kB 46.4MB/s eta 0:00:01\r\u001b[K    88% |████████████████████████████▏   | 870kB 45.9MB/s eta 0:00:01\r\u001b[K    89% |████████████████████████████▌   | 880kB 47.2MB/s eta 0:00:01\r\u001b[K    90% |████████████████████████████▉   | 890kB 49.1MB/s eta 0:00:01\r\u001b[K    91% |█████████████████████████████▏  | 901kB 49.8MB/s eta 0:00:01\r\u001b[K    92% |█████████████████████████████▌  | 911kB 50.3MB/s eta 0:00:01\r\u001b[K    93% |█████████████████████████████▉  | 921kB 51.9MB/s eta 0:00:01\r\u001b[K    94% |██████████████████████████████▏ | 931kB 52.3MB/s eta 0:00:01\r\u001b[K    95% |██████████████████████████████▌ | 942kB 52.7MB/s eta 0:00:01\r\u001b[K    96% |██████████████████████████████▉ | 952kB 52.5MB/s eta 0:00:01\r\u001b[K    97% |███████████████████████████████▏| 962kB 64.3MB/s eta 0:00:01\r\u001b[K    98% |███████████████████████████████▌| 972kB 66.1MB/s eta 0:00:01\r\u001b[K    99% |███████████████████████████████▉| 983kB 64.4MB/s eta 0:00:01\r\u001b[K    100% |████████████████████████████████| 993kB 20.2MB/s \n",
            "\u001b[?25h  Building wheel for PyDrive (setup.py) ... \u001b[?25ldone\n",
            "\u001b[?25h"
          ],
          "name": "stdout"
        }
      ]
    },
    {
      "metadata": {
        "id": "GtuNjYRojF6e",
        "colab_type": "code",
        "colab": {
          "base_uri": "https://localhost:8080/",
          "height": 204
        },
        "outputId": "f6157a43-9195-4a9c-ef71-c04063fbc021"
      },
      "cell_type": "code",
      "source": [
        "df1.head()"
      ],
      "execution_count": 3,
      "outputs": [
        {
          "output_type": "execute_result",
          "data": {
            "text/html": [
              "<div>\n",
              "<style scoped>\n",
              "    .dataframe tbody tr th:only-of-type {\n",
              "        vertical-align: middle;\n",
              "    }\n",
              "\n",
              "    .dataframe tbody tr th {\n",
              "        vertical-align: top;\n",
              "    }\n",
              "\n",
              "    .dataframe thead th {\n",
              "        text-align: right;\n",
              "    }\n",
              "</style>\n",
              "<table border=\"1\" class=\"dataframe\">\n",
              "  <thead>\n",
              "    <tr style=\"text-align: right;\">\n",
              "      <th></th>\n",
              "      <th>Survived</th>\n",
              "      <th>Sex</th>\n",
              "      <th>Age</th>\n",
              "      <th>FamilySize</th>\n",
              "      <th>FamilyOneSurvived</th>\n",
              "      <th>FamilyAllDied</th>\n",
              "      <th>FareAdj</th>\n",
              "    </tr>\n",
              "  </thead>\n",
              "  <tbody>\n",
              "    <tr>\n",
              "      <th>0</th>\n",
              "      <td>0</td>\n",
              "      <td>0</td>\n",
              "      <td>0.2750</td>\n",
              "      <td>0.181818</td>\n",
              "      <td>0</td>\n",
              "      <td>1</td>\n",
              "      <td>7.25000</td>\n",
              "    </tr>\n",
              "    <tr>\n",
              "      <th>1</th>\n",
              "      <td>1</td>\n",
              "      <td>1</td>\n",
              "      <td>0.4750</td>\n",
              "      <td>0.181818</td>\n",
              "      <td>0</td>\n",
              "      <td>0</td>\n",
              "      <td>35.64165</td>\n",
              "    </tr>\n",
              "    <tr>\n",
              "      <th>2</th>\n",
              "      <td>1</td>\n",
              "      <td>1</td>\n",
              "      <td>0.3250</td>\n",
              "      <td>0.090909</td>\n",
              "      <td>0</td>\n",
              "      <td>0</td>\n",
              "      <td>7.92500</td>\n",
              "    </tr>\n",
              "    <tr>\n",
              "      <th>3</th>\n",
              "      <td>1</td>\n",
              "      <td>1</td>\n",
              "      <td>0.4375</td>\n",
              "      <td>0.181818</td>\n",
              "      <td>0</td>\n",
              "      <td>1</td>\n",
              "      <td>26.55000</td>\n",
              "    </tr>\n",
              "    <tr>\n",
              "      <th>4</th>\n",
              "      <td>0</td>\n",
              "      <td>0</td>\n",
              "      <td>0.4375</td>\n",
              "      <td>0.090909</td>\n",
              "      <td>1</td>\n",
              "      <td>0</td>\n",
              "      <td>8.05000</td>\n",
              "    </tr>\n",
              "  </tbody>\n",
              "</table>\n",
              "</div>"
            ],
            "text/plain": [
              "   Survived  Sex     Age  FamilySize  FamilyOneSurvived  FamilyAllDied  \\\n",
              "0         0    0  0.2750    0.181818                  0              1   \n",
              "1         1    1  0.4750    0.181818                  0              0   \n",
              "2         1    1  0.3250    0.090909                  0              0   \n",
              "3         1    1  0.4375    0.181818                  0              1   \n",
              "4         0    0  0.4375    0.090909                  1              0   \n",
              "\n",
              "    FareAdj  \n",
              "0   7.25000  \n",
              "1  35.64165  \n",
              "2   7.92500  \n",
              "3  26.55000  \n",
              "4   8.05000  "
            ]
          },
          "metadata": {
            "tags": []
          },
          "execution_count": 3
        }
      ]
    },
    {
      "metadata": {
        "id": "E0PzPu9Ehhsu",
        "colab_type": "code",
        "colab": {}
      },
      "cell_type": "code",
      "source": [
        "!pip install tpot"
      ],
      "execution_count": 0,
      "outputs": []
    },
    {
      "metadata": {
        "id": "sf7_wsHThijv",
        "colab_type": "code",
        "colab": {}
      },
      "cell_type": "code",
      "source": [
        "import sklearn.model_selection\n",
        "import tpot"
      ],
      "execution_count": 0,
      "outputs": []
    },
    {
      "metadata": {
        "id": "0gGI_mR1hnye",
        "colab_type": "code",
        "colab": {}
      },
      "cell_type": "code",
      "source": [
        "X, y = df1, target\n",
        "\n",
        "X_train, X_test, y_train, y_test = sklearn.model_selection.train_test_split(X, y)\n",
        "\n",
        "tpot = tpot.TPOTClassifier(generations=100, population_size=100, verbosity=2, \n",
        "                           n_jobs = -1, cv=5, config_dict='TPOT light'\n",
        "                          )\n",
        "\n",
        "# many more parameters may be set as follows:\n",
        "# scoring = 'neg_mean_absolute_error', max_time_mins = 480, n_jobs = -1,\n",
        "# cv = 5, config_dict='TPOT light'\n",
        "\n",
        "tpot.fit(X_train, y_train)"
      ],
      "execution_count": 0,
      "outputs": []
    },
    {
      "metadata": {
        "id": "zpXoMzmpho45",
        "colab_type": "code",
        "colab": {}
      },
      "cell_type": "code",
      "source": [
        "print(tpot.score(X_test, y_test))\n",
        "#y_hat = tpot.predict(X_test)"
      ],
      "execution_count": 0,
      "outputs": []
    },
    {
      "metadata": {
        "id": "eWE7q-REhuJB",
        "colab_type": "code",
        "colab": {}
      },
      "cell_type": "code",
      "source": [
        "tpot.export(\"titanic_ppl.py\")"
      ],
      "execution_count": 0,
      "outputs": []
    },
    {
      "metadata": {
        "id": "rnQBBhffiAdH",
        "colab_type": "text"
      },
      "cell_type": "markdown",
      "source": [
        "#auto-sklearn"
      ]
    },
    {
      "metadata": {
        "id": "yjdbhwsiiIQ_",
        "colab_type": "code",
        "colab": {}
      },
      "cell_type": "code",
      "source": [
        "import autosklearn.classification\n",
        "import sklearn.model_selection\n",
        "import sklearn.datasets\n",
        "import sklearn.metrics"
      ],
      "execution_count": 0,
      "outputs": []
    },
    {
      "metadata": {
        "id": "_1_D2WsxiMfv",
        "colab_type": "code",
        "colab": {}
      },
      "cell_type": "code",
      "source": [
        "X, y = fm, target\n",
        "X_train, X_test, y_train, y_test = sklearn.model_selection.train_test_split(X, y, random_state=1)\n",
        "automl = autosklearn.classification.AutoSklearnClassifier()\n",
        "automl.fit(X_train, y_train )\n",
        "\n",
        "y_hat = automl.predict(X_test)\n",
        "\n",
        "print(\"Accuracy score\", sklearn.metrics.accuracy_score(y_test, y_hat))"
      ],
      "execution_count": 0,
      "outputs": []
    }
  ]
}