{
  "nbformat": 4,
  "nbformat_minor": 0,
  "metadata": {
    "colab": {
      "name": "kaggle_featuretools_TPOT.ipynb",
      "version": "0.3.2",
      "provenance": [],
      "collapsed_sections": [],
      "include_colab_link": true
    },
    "kernelspec": {
      "name": "python3",
      "display_name": "Python 3"
    }
  },
  "cells": [
    {
      "cell_type": "markdown",
      "metadata": {
        "id": "view-in-github",
        "colab_type": "text"
      },
      "source": [
        "<a href=\"https://colab.research.google.com/github/AtharKharal/Data_science_with_python/blob/dev-branch/kaggle_featuretools_TPOT.ipynb\" target=\"_parent\"><img src=\"https://colab.research.google.com/assets/colab-badge.svg\" alt=\"Open In Colab\"/></a>"
      ]
    },
    {
      "metadata": {
        "id": "uVE69DdTVAT-",
        "colab_type": "code",
        "colab": {}
      },
      "cell_type": "code",
      "source": [
        "# install kaggle API and make a directory called kaggle\n",
        "!pip install -U -q kaggle\n",
        "!mkdir -p ~/.kaggle\n",
        "\n",
        "# import the API key into colab\n",
        "# if needed API key may be downloaded from personal kaggle account as API Token\n",
        "from google.colab import files\n",
        "files.upload()\n",
        "\n",
        "# copy the API key to the kaggle directory\n",
        "!cp kaggle.json ~/.kaggle/\n",
        "\n",
        "!kaggle -h"
      ],
      "execution_count": 0,
      "outputs": []
    },
    {
      "metadata": {
        "id": "fLm--EAqeVSf",
        "colab_type": "code",
        "colab": {}
      },
      "cell_type": "code",
      "source": [
        "!kaggle competitions download microsoft-malware-prediction \n",
        "!ls"
      ],
      "execution_count": 0,
      "outputs": []
    },
    {
      "metadata": {
        "id": "R8CtxzsYXmpY",
        "colab_type": "code",
        "outputId": "9066f4dd-e780-408c-f33a-45232504a9f0",
        "colab": {
          "base_uri": "https://localhost:8080/",
          "height": 71
        }
      },
      "cell_type": "code",
      "source": [
        "import pandas as pd\n",
        "\n",
        "#following line works only if there is only one file inside zip folder, \n",
        "data = pd.read_csv('/content/train.csv.zip', compression='zip', header=0, sep=',', quotechar='\"')\n",
        "\n",
        "data.head()\n"
      ],
      "execution_count": 0,
      "outputs": [
        {
          "output_type": "stream",
          "text": [
            "/usr/local/lib/python3.6/dist-packages/IPython/core/interactiveshell.py:2718: DtypeWarning: Columns (28) have mixed types. Specify dtype option on import or set low_memory=False.\n",
            "  interactivity=interactivity, compiler=compiler, result=result)\n"
          ],
          "name": "stderr"
        }
      ]
    },
    {
      "metadata": {
        "id": "kUW1kWXKn6Ib",
        "colab_type": "code",
        "colab": {}
      },
      "cell_type": "code",
      "source": [
        "#for more than one file in zip folder use to zipfile package, as follows\n",
        "import pandas as pd\n",
        "from zipfile import ZipFile\n",
        "zip_file = ZipFile('/content/train.csv.zip')\n",
        "data=pd.read_csv(zip_file.open(name='train.csv'))  \n",
        "\n",
        "#following may also be tried\n",
        "#data=pd.read_csv(zip_file.extract(member = 'train.csv'))\n",
        "\n",
        "data.head()"
      ],
      "execution_count": 0,
      "outputs": []
    },
    {
      "metadata": {
        "id": "BIeuME2tX4kr",
        "colab_type": "code",
        "outputId": "6cc3b90b-f751-4aab-9e47-18744f06c02f",
        "colab": {
          "base_uri": "https://localhost:8080/",
          "height": 71
        }
      },
      "cell_type": "code",
      "source": [
        "import pandas as pd\n",
        "from zipfile import ZipFile\n",
        "zip_file = ZipFile('/content/train.csv.zip',mode='r')\n",
        "\n",
        "ff = zip_file.open('train.csv')\n",
        "df1=pd.read_csv(ff)"
      ],
      "execution_count": 0,
      "outputs": [
        {
          "output_type": "stream",
          "text": [
            "/usr/local/lib/python3.6/dist-packages/IPython/core/interactiveshell.py:2718: DtypeWarning: Columns (28) have mixed types. Specify dtype option on import or set low_memory=False.\n",
            "  interactivity=interactivity, compiler=compiler, result=result)\n"
          ],
          "name": "stderr"
        }
      ]
    },
    {
      "metadata": {
        "id": "Ovtc3R4wqGsh",
        "colab_type": "code",
        "outputId": "fee03cf0-f80d-4dc9-bb88-59dfa09564d2",
        "colab": {
          "base_uri": "https://localhost:8080/",
          "height": 71
        }
      },
      "cell_type": "code",
      "source": [
        "import pandas as pd\n",
        "df1=pd.read_csv('train.csv')\n",
        "df1.head()"
      ],
      "execution_count": 0,
      "outputs": [
        {
          "output_type": "stream",
          "text": [
            "/usr/local/lib/python3.6/dist-packages/IPython/core/interactiveshell.py:2718: DtypeWarning: Columns (28) have mixed types. Specify dtype option on import or set low_memory=False.\n",
            "  interactivity=interactivity, compiler=compiler, result=result)\n"
          ],
          "name": "stderr"
        }
      ]
    }
  ]
}