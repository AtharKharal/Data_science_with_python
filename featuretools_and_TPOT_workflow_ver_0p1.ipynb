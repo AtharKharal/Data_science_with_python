{
  "nbformat": 4,
  "nbformat_minor": 0,
  "metadata": {
    "colab": {
      "name": "featuretools and TPOT workflow_ver_0p1.ipynb",
      "version": "0.3.2",
      "provenance": [],
      "collapsed_sections": [
        "kj0iTXcGg8DJ"
      ],
      "include_colab_link": true
    },
    "kernelspec": {
      "name": "python3",
      "display_name": "Python 3"
    },
    "accelerator": "TPU"
  },
  "cells": [
    {
      "cell_type": "markdown",
      "metadata": {
        "id": "view-in-github",
        "colab_type": "text"
      },
      "source": [
        "<a href=\"https://colab.research.google.com/github/AtharKharal/Data_science_with_python/blob/dev-branch/featuretools_and_TPOT_workflow_ver_0p1.ipynb\" target=\"_parent\"><img src=\"https://colab.research.google.com/assets/colab-badge.svg\" alt=\"Open In Colab\"/></a>"
      ]
    },
    {
      "metadata": {
        "id": "wtCP7HPn67Mr",
        "colab_type": "code",
        "colab": {}
      },
      "cell_type": "code",
      "source": [
        "import numpy as np\n",
        "import pandas as pd\n",
        "import featuretools as ft\n",
        "import sklearn as sk\n",
        "import featuretools as ft"
      ],
      "execution_count": 0,
      "outputs": []
    },
    {
      "metadata": {
        "id": "ojhoYZrJcxkq",
        "colab_type": "text"
      },
      "cell_type": "markdown",
      "source": [
        "#Reading Data"
      ]
    },
    {
      "metadata": {
        "id": "kj0iTXcGg8DJ",
        "colab_type": "text"
      },
      "cell_type": "markdown",
      "source": [
        "##From a Local Drive"
      ]
    },
    {
      "metadata": {
        "id": "TyfQcaspgzCU",
        "colab_type": "code",
        "colab": {}
      },
      "cell_type": "code",
      "source": [
        "#from google.colab import files\n",
        "#uploaded = files.upload()\n",
        "\n",
        "#import io\n",
        "#df2 = pd.read_csv(io.BytesIO(uploaded['Filename.csv']))"
      ],
      "execution_count": 0,
      "outputs": []
    },
    {
      "metadata": {
        "id": "YGUjFRc8gtUi",
        "colab_type": "text"
      },
      "cell_type": "markdown",
      "source": [
        "##From Google Drive via PyDrive"
      ]
    },
    {
      "metadata": {
        "id": "aO81kqrbhrzg",
        "colab_type": "code",
        "colab": {
          "base_uri": "https://localhost:8080/",
          "height": 51
        },
        "outputId": "8adeceae-ee05-4cae-d802-602d5ec54649"
      },
      "cell_type": "code",
      "source": [
        "# Go to the CSV file in Google Drive, right-click on it and select \n",
        "# “Get shareable link”. The link will be copied into your clipboard. \n",
        "# Paste this link into following a string variable i.e. link:\n",
        "\n",
        "link = 'https://drive.google.com/open?id=10JNCo2Opquuq2cwGiyGgvlds8U2wz3mW'  # The shareable link\n",
        "\n",
        "# Code to read csv file into Colaboratory:\n",
        "!pip install -U -q PyDrive\n",
        "from pydrive.auth import GoogleAuth\n",
        "from pydrive.drive import GoogleDrive\n",
        "from google.colab import auth\n",
        "from oauth2client.client import GoogleCredentials\n",
        "# Authenticate and create the PyDrive client.\n",
        "auth.authenticate_user()\n",
        "gauth = GoogleAuth()\n",
        "gauth.credentials = GoogleCredentials.get_application_default()\n",
        "drive = GoogleDrive(gauth)\n",
        "\n",
        "\n",
        "fluff, id = link.split('=')   # Verify that you have everything after '=' by using print(id)\n",
        "\n",
        "# Finally reading the data into a dataframe\n",
        "\n",
        "downloaded = drive.CreateFile({'id':id}) \n",
        "downloaded.GetContentFile('dummy_file_name.csv')  \n",
        "df = pd.read_csv('dummy_file_name.csv')"
      ],
      "execution_count": 2,
      "outputs": [
        {
          "output_type": "stream",
          "text": [
            "\u001b[?25l\r\u001b[K    1% |▎                               | 10kB 17.3MB/s eta 0:00:01\r\u001b[K    2% |▋                               | 20kB 2.3MB/s eta 0:00:01\r\u001b[K    3% |█                               | 30kB 3.4MB/s eta 0:00:01\r\u001b[K    4% |█▎                              | 40kB 2.2MB/s eta 0:00:01\r\u001b[K    5% |█▋                              | 51kB 2.6MB/s eta 0:00:01\r\u001b[K    6% |██                              | 61kB 3.1MB/s eta 0:00:01\r\u001b[K    7% |██▎                             | 71kB 3.6MB/s eta 0:00:01\r\u001b[K    8% |██▋                             | 81kB 4.1MB/s eta 0:00:01\r\u001b[K    9% |███                             | 92kB 4.5MB/s eta 0:00:01\r\u001b[K    10% |███▎                            | 102kB 3.5MB/s eta 0:00:01\r\u001b[K    11% |███▋                            | 112kB 3.5MB/s eta 0:00:01\r\u001b[K    12% |████                            | 122kB 4.9MB/s eta 0:00:01\r\u001b[K    13% |████▎                           | 133kB 4.9MB/s eta 0:00:01\r\u001b[K    14% |████▋                           | 143kB 9.1MB/s eta 0:00:01\r\u001b[K    15% |█████                           | 153kB 9.3MB/s eta 0:00:01\r\u001b[K    16% |█████▎                          | 163kB 9.3MB/s eta 0:00:01\r\u001b[K    17% |█████▋                          | 174kB 9.2MB/s eta 0:00:01\r\u001b[K    18% |██████                          | 184kB 9.2MB/s eta 0:00:01\r\u001b[K    19% |██████▎                         | 194kB 9.3MB/s eta 0:00:01\r\u001b[K    20% |██████▋                         | 204kB 40.2MB/s eta 0:00:01\r\u001b[K    21% |███████                         | 215kB 10.5MB/s eta 0:00:01\r\u001b[K    22% |███████▎                        | 225kB 10.5MB/s eta 0:00:01\r\u001b[K    23% |███████▋                        | 235kB 10.6MB/s eta 0:00:01\r\u001b[K    24% |████████                        | 245kB 10.7MB/s eta 0:00:01\r\u001b[K    25% |████████▎                       | 256kB 10.7MB/s eta 0:00:01\r\u001b[K    26% |████████▋                       | 266kB 10.2MB/s eta 0:00:01\r\u001b[K    27% |█████████                       | 276kB 10.4MB/s eta 0:00:01\r\u001b[K    29% |█████████▎                      | 286kB 10.4MB/s eta 0:00:01\r\u001b[K    30% |█████████▋                      | 296kB 10.2MB/s eta 0:00:01\r\u001b[K    31% |██████████                      | 307kB 10.4MB/s eta 0:00:01\r\u001b[K    32% |██████████▎                     | 317kB 42.1MB/s eta 0:00:01\r\u001b[K    33% |██████████▋                     | 327kB 43.4MB/s eta 0:00:01\r\u001b[K    34% |███████████                     | 337kB 44.3MB/s eta 0:00:01\r\u001b[K    35% |███████████▎                    | 348kB 39.0MB/s eta 0:00:01\r\u001b[K    36% |███████████▋                    | 358kB 38.6MB/s eta 0:00:01\r\u001b[K    37% |████████████                    | 368kB 46.8MB/s eta 0:00:01\r\u001b[K    38% |████████████▎                   | 378kB 48.9MB/s eta 0:00:01\r\u001b[K    39% |████████████▋                   | 389kB 50.7MB/s eta 0:00:01\r\u001b[K    40% |█████████████                   | 399kB 12.4MB/s eta 0:00:01\r\u001b[K    41% |█████████████▎                  | 409kB 12.2MB/s eta 0:00:01\r\u001b[K    42% |█████████████▋                  | 419kB 12.3MB/s eta 0:00:01\r\u001b[K    43% |██████████████                  | 430kB 12.2MB/s eta 0:00:01\r\u001b[K    44% |██████████████▎                 | 440kB 12.2MB/s eta 0:00:01\r\u001b[K    45% |██████████████▋                 | 450kB 12.3MB/s eta 0:00:01\r\u001b[K    46% |███████████████                 | 460kB 12.3MB/s eta 0:00:01\r\u001b[K    47% |███████████████▎                | 471kB 12.3MB/s eta 0:00:01\r\u001b[K    48% |███████████████▋                | 481kB 12.3MB/s eta 0:00:01\r\u001b[K    49% |████████████████                | 491kB 12.3MB/s eta 0:00:01\r\u001b[K    50% |████████████████▎               | 501kB 54.4MB/s eta 0:00:01\r\u001b[K    51% |████████████████▋               | 512kB 52.9MB/s eta 0:00:01\r\u001b[K    52% |█████████████████               | 522kB 52.6MB/s eta 0:00:01\r\u001b[K    53% |█████████████████▎              | 532kB 54.8MB/s eta 0:00:01\r\u001b[K    54% |█████████████████▋              | 542kB 10.9MB/s eta 0:00:01\r\u001b[K    55% |██████████████████              | 552kB 10.9MB/s eta 0:00:01\r\u001b[K    57% |██████████████████▎             | 563kB 10.9MB/s eta 0:00:01\r\u001b[K    58% |██████████████████▋             | 573kB 10.9MB/s eta 0:00:01\r\u001b[K    59% |███████████████████             | 583kB 10.8MB/s eta 0:00:01\r\u001b[K    60% |███████████████████▎            | 593kB 10.8MB/s eta 0:00:01\r\u001b[K    61% |███████████████████▋            | 604kB 10.7MB/s eta 0:00:01\r\u001b[K    62% |████████████████████            | 614kB 10.9MB/s eta 0:00:01\r\u001b[K    63% |████████████████████▎           | 624kB 10.9MB/s eta 0:00:01\r\u001b[K    64% |████████████████████▋           | 634kB 11.0MB/s eta 0:00:01\r\u001b[K    65% |█████████████████████           | 645kB 57.7MB/s eta 0:00:01\r\u001b[K    66% |█████████████████████▎          | 655kB 64.3MB/s eta 0:00:01\r\u001b[K    67% |█████████████████████▋          | 665kB 48.0MB/s eta 0:00:01\r\u001b[K    68% |██████████████████████          | 675kB 47.1MB/s eta 0:00:01\r\u001b[K    69% |██████████████████████▎         | 686kB 47.9MB/s eta 0:00:01\r\u001b[K    70% |██████████████████████▋         | 696kB 48.6MB/s eta 0:00:01\r\u001b[K    71% |███████████████████████         | 706kB 49.1MB/s eta 0:00:01\r\u001b[K    72% |███████████████████████▎        | 716kB 49.5MB/s eta 0:00:01\r\u001b[K    73% |███████████████████████▋        | 727kB 49.6MB/s eta 0:00:01\r\u001b[K    74% |████████████████████████        | 737kB 49.5MB/s eta 0:00:01\r\u001b[K    75% |████████████████████████▎       | 747kB 49.2MB/s eta 0:00:01\r\u001b[K    76% |████████████████████████▋       | 757kB 50.1MB/s eta 0:00:01\r\u001b[K    77% |████████████████████████▉       | 768kB 70.4MB/s eta 0:00:01\r\u001b[K    78% |█████████████████████████▏      | 778kB 73.3MB/s eta 0:00:01\r\u001b[K    79% |█████████████████████████▌      | 788kB 71.4MB/s eta 0:00:01\r\u001b[K    80% |█████████████████████████▉      | 798kB 71.8MB/s eta 0:00:01\r\u001b[K    81% |██████████████████████████▏     | 808kB 73.0MB/s eta 0:00:01\r\u001b[K    82% |██████████████████████████▌     | 819kB 73.2MB/s eta 0:00:01\r\u001b[K    83% |██████████████████████████▉     | 829kB 73.6MB/s eta 0:00:01\r\u001b[K    85% |███████████████████████████▏    | 839kB 74.0MB/s eta 0:00:01\r\u001b[K    86% |███████████████████████████▌    | 849kB 75.9MB/s eta 0:00:01\r\u001b[K    87% |███████████████████████████▉    | 860kB 60.7MB/s eta 0:00:01\r\u001b[K    88% |████████████████████████████▏   | 870kB 58.1MB/s eta 0:00:01\r\u001b[K    89% |████████████████████████████▌   | 880kB 58.7MB/s eta 0:00:01\r\u001b[K    90% |████████████████████████████▉   | 890kB 6.5MB/s eta 0:00:01\r\u001b[K    91% |█████████████████████████████▏  | 901kB 6.4MB/s eta 0:00:01\r\u001b[K    92% |█████████████████████████████▌  | 911kB 6.4MB/s eta 0:00:01\r\u001b[K    93% |█████████████████████████████▉  | 921kB 4.0MB/s eta 0:00:01\r\u001b[K    94% |██████████████████████████████▏ | 931kB 4.0MB/s eta 0:00:01\r\u001b[K    95% |██████████████████████████████▌ | 942kB 2.9MB/s eta 0:00:01\r\u001b[K    96% |██████████████████████████████▉ | 952kB 2.9MB/s eta 0:00:01\r\u001b[K    97% |███████████████████████████████▏| 962kB 2.9MB/s eta 0:00:01\r\u001b[K    98% |███████████████████████████████▌| 972kB 2.9MB/s eta 0:00:01\r\u001b[K    99% |███████████████████████████████▉| 983kB 2.9MB/s eta 0:00:01\r\u001b[K    100% |████████████████████████████████| 993kB 4.0MB/s \n",
            "\u001b[?25h  Building wheel for PyDrive (setup.py) ... \u001b[?25ldone\n",
            "\u001b[?25h"
          ],
          "name": "stdout"
        }
      ]
    },
    {
      "metadata": {
        "id": "ElMEt_KTknBC",
        "colab_type": "code",
        "outputId": "c2234387-7a4c-43e5-f9ad-0c8a70451946",
        "colab": {
          "base_uri": "https://localhost:8080/",
          "height": 321
        }
      },
      "cell_type": "code",
      "source": [
        "df.head()"
      ],
      "execution_count": 3,
      "outputs": [
        {
          "output_type": "execute_result",
          "data": {
            "text/html": [
              "<div>\n",
              "<style scoped>\n",
              "    .dataframe tbody tr th:only-of-type {\n",
              "        vertical-align: middle;\n",
              "    }\n",
              "\n",
              "    .dataframe tbody tr th {\n",
              "        vertical-align: top;\n",
              "    }\n",
              "\n",
              "    .dataframe thead th {\n",
              "        text-align: right;\n",
              "    }\n",
              "</style>\n",
              "<table border=\"1\" class=\"dataframe\">\n",
              "  <thead>\n",
              "    <tr style=\"text-align: right;\">\n",
              "      <th></th>\n",
              "      <th>Creditability</th>\n",
              "      <th>Account Balance</th>\n",
              "      <th>Duration of Credit (month)</th>\n",
              "      <th>Payment Status of Previous Credit</th>\n",
              "      <th>Purpose</th>\n",
              "      <th>Credit Amount</th>\n",
              "      <th>Value Savings/Stocks</th>\n",
              "      <th>Length of current employment</th>\n",
              "      <th>Instalment per cent</th>\n",
              "      <th>Sex &amp; Marital Status</th>\n",
              "      <th>...</th>\n",
              "      <th>Duration in Current address</th>\n",
              "      <th>Most valuable available asset</th>\n",
              "      <th>Age (years)</th>\n",
              "      <th>Concurrent Credits</th>\n",
              "      <th>Type of apartment</th>\n",
              "      <th>No of Credits at this Bank</th>\n",
              "      <th>Occupation</th>\n",
              "      <th>No of dependents</th>\n",
              "      <th>Telephone</th>\n",
              "      <th>Foreign Worker</th>\n",
              "    </tr>\n",
              "  </thead>\n",
              "  <tbody>\n",
              "    <tr>\n",
              "      <th>0</th>\n",
              "      <td>1</td>\n",
              "      <td>1</td>\n",
              "      <td>18</td>\n",
              "      <td>4</td>\n",
              "      <td>2</td>\n",
              "      <td>1049</td>\n",
              "      <td>1</td>\n",
              "      <td>2</td>\n",
              "      <td>4</td>\n",
              "      <td>2</td>\n",
              "      <td>...</td>\n",
              "      <td>4</td>\n",
              "      <td>2</td>\n",
              "      <td>21</td>\n",
              "      <td>3</td>\n",
              "      <td>1</td>\n",
              "      <td>1</td>\n",
              "      <td>3</td>\n",
              "      <td>1</td>\n",
              "      <td>1</td>\n",
              "      <td>1</td>\n",
              "    </tr>\n",
              "    <tr>\n",
              "      <th>1</th>\n",
              "      <td>1</td>\n",
              "      <td>1</td>\n",
              "      <td>9</td>\n",
              "      <td>4</td>\n",
              "      <td>0</td>\n",
              "      <td>2799</td>\n",
              "      <td>1</td>\n",
              "      <td>3</td>\n",
              "      <td>2</td>\n",
              "      <td>3</td>\n",
              "      <td>...</td>\n",
              "      <td>2</td>\n",
              "      <td>1</td>\n",
              "      <td>36</td>\n",
              "      <td>3</td>\n",
              "      <td>1</td>\n",
              "      <td>2</td>\n",
              "      <td>3</td>\n",
              "      <td>2</td>\n",
              "      <td>1</td>\n",
              "      <td>1</td>\n",
              "    </tr>\n",
              "    <tr>\n",
              "      <th>2</th>\n",
              "      <td>1</td>\n",
              "      <td>2</td>\n",
              "      <td>12</td>\n",
              "      <td>2</td>\n",
              "      <td>9</td>\n",
              "      <td>841</td>\n",
              "      <td>2</td>\n",
              "      <td>4</td>\n",
              "      <td>2</td>\n",
              "      <td>2</td>\n",
              "      <td>...</td>\n",
              "      <td>4</td>\n",
              "      <td>1</td>\n",
              "      <td>23</td>\n",
              "      <td>3</td>\n",
              "      <td>1</td>\n",
              "      <td>1</td>\n",
              "      <td>2</td>\n",
              "      <td>1</td>\n",
              "      <td>1</td>\n",
              "      <td>1</td>\n",
              "    </tr>\n",
              "    <tr>\n",
              "      <th>3</th>\n",
              "      <td>1</td>\n",
              "      <td>1</td>\n",
              "      <td>12</td>\n",
              "      <td>4</td>\n",
              "      <td>0</td>\n",
              "      <td>2122</td>\n",
              "      <td>1</td>\n",
              "      <td>3</td>\n",
              "      <td>3</td>\n",
              "      <td>3</td>\n",
              "      <td>...</td>\n",
              "      <td>2</td>\n",
              "      <td>1</td>\n",
              "      <td>39</td>\n",
              "      <td>3</td>\n",
              "      <td>1</td>\n",
              "      <td>2</td>\n",
              "      <td>2</td>\n",
              "      <td>2</td>\n",
              "      <td>1</td>\n",
              "      <td>2</td>\n",
              "    </tr>\n",
              "    <tr>\n",
              "      <th>4</th>\n",
              "      <td>1</td>\n",
              "      <td>1</td>\n",
              "      <td>12</td>\n",
              "      <td>4</td>\n",
              "      <td>0</td>\n",
              "      <td>2171</td>\n",
              "      <td>1</td>\n",
              "      <td>3</td>\n",
              "      <td>4</td>\n",
              "      <td>3</td>\n",
              "      <td>...</td>\n",
              "      <td>4</td>\n",
              "      <td>2</td>\n",
              "      <td>38</td>\n",
              "      <td>1</td>\n",
              "      <td>2</td>\n",
              "      <td>2</td>\n",
              "      <td>2</td>\n",
              "      <td>1</td>\n",
              "      <td>1</td>\n",
              "      <td>2</td>\n",
              "    </tr>\n",
              "  </tbody>\n",
              "</table>\n",
              "<p>5 rows × 21 columns</p>\n",
              "</div>"
            ],
            "text/plain": [
              "   Creditability  Account Balance  Duration of Credit (month)  \\\n",
              "0              1                1                          18   \n",
              "1              1                1                           9   \n",
              "2              1                2                          12   \n",
              "3              1                1                          12   \n",
              "4              1                1                          12   \n",
              "\n",
              "   Payment Status of Previous Credit  Purpose  Credit Amount  \\\n",
              "0                                  4        2           1049   \n",
              "1                                  4        0           2799   \n",
              "2                                  2        9            841   \n",
              "3                                  4        0           2122   \n",
              "4                                  4        0           2171   \n",
              "\n",
              "   Value Savings/Stocks  Length of current employment  Instalment per cent  \\\n",
              "0                     1                             2                    4   \n",
              "1                     1                             3                    2   \n",
              "2                     2                             4                    2   \n",
              "3                     1                             3                    3   \n",
              "4                     1                             3                    4   \n",
              "\n",
              "   Sex & Marital Status       ...        Duration in Current address  \\\n",
              "0                     2       ...                                  4   \n",
              "1                     3       ...                                  2   \n",
              "2                     2       ...                                  4   \n",
              "3                     3       ...                                  2   \n",
              "4                     3       ...                                  4   \n",
              "\n",
              "   Most valuable available asset  Age (years)  Concurrent Credits  \\\n",
              "0                              2           21                   3   \n",
              "1                              1           36                   3   \n",
              "2                              1           23                   3   \n",
              "3                              1           39                   3   \n",
              "4                              2           38                   1   \n",
              "\n",
              "   Type of apartment  No of Credits at this Bank  Occupation  \\\n",
              "0                  1                           1           3   \n",
              "1                  1                           2           3   \n",
              "2                  1                           1           2   \n",
              "3                  1                           2           2   \n",
              "4                  2                           2           2   \n",
              "\n",
              "   No of dependents  Telephone  Foreign Worker  \n",
              "0                 1          1               1  \n",
              "1                 2          1               1  \n",
              "2                 1          1               1  \n",
              "3                 2          1               2  \n",
              "4                 1          1               2  \n",
              "\n",
              "[5 rows x 21 columns]"
            ]
          },
          "metadata": {
            "tags": []
          },
          "execution_count": 3
        }
      ]
    },
    {
      "metadata": {
        "id": "_kqxhgrZ8TSL",
        "colab_type": "code",
        "colab": {}
      },
      "cell_type": "code",
      "source": [
        "target = df.Creditability\n",
        "df = df.drop(columns = target.name)\n",
        "df['df_index'] = range(0,len(df))"
      ],
      "execution_count": 0,
      "outputs": []
    },
    {
      "metadata": {
        "id": "412Zo8EzBDY6",
        "colab_type": "code",
        "colab": {
          "base_uri": "https://localhost:8080/",
          "height": 170
        },
        "outputId": "7503cf0e-3f94-4d1f-a23a-351204ae9d52"
      },
      "cell_type": "code",
      "source": [
        "df.columns"
      ],
      "execution_count": 4,
      "outputs": [
        {
          "output_type": "execute_result",
          "data": {
            "text/plain": [
              "Index(['Account Balance', 'Duration of Credit (month)',\n",
              "       'Payment Status of Previous Credit', 'Purpose', 'Credit Amount',\n",
              "       'Value Savings/Stocks', 'Length of current employment',\n",
              "       'Instalment per cent', 'Sex & Marital Status', 'Guarantors',\n",
              "       'Duration in Current address', 'Most valuable available asset',\n",
              "       'Age (years)', 'Concurrent Credits', 'Type of apartment',\n",
              "       'No of Credits at this Bank', 'Occupation', 'No of dependents',\n",
              "       'Telephone', 'Foreign Worker', 'df_index'],\n",
              "      dtype='object')"
            ]
          },
          "metadata": {
            "tags": []
          },
          "execution_count": 4
        }
      ]
    },
    {
      "metadata": {
        "id": "aCSZY-pIp6Co",
        "colab_type": "code",
        "colab": {}
      },
      "cell_type": "code",
      "source": [
        ""
      ],
      "execution_count": 0,
      "outputs": []
    },
    {
      "metadata": {
        "id": "Xkm59w9ak1AH",
        "colab_type": "text"
      },
      "cell_type": "markdown",
      "source": [
        "#Feature Augmentation"
      ]
    },
    {
      "metadata": {
        "id": "nueNl49E7ciR",
        "colab_type": "code",
        "colab": {}
      },
      "cell_type": "code",
      "source": [
        "es = ft.EntitySet(\"mydata\")\n",
        "\n",
        "\n",
        "# Create an entity from the dataframe df\n",
        "# This dataframe must have an index col (and if required, a time index col) \n",
        "#      namely 'df_index' (and time_index = 'dt_time_col')\n",
        "\n",
        "es = es.entity_from_dataframe(entity_id = 'my_entity_id', dataframe = df, index = 'df_index')\n",
        "\n",
        "#, time_index = 'dt_time_col'\n",
        "\n",
        "\n",
        "\n",
        "# Perform deep feature synthesis without specifying primitives\n",
        "features, feature_names = ft.dfs(entityset=es, target_entity='my_entity_id', \n",
        "                                 trans_primitives=[\"add\",\"subtract\"],\n",
        "                                 max_depth = 2\n",
        "                                )\n",
        "#trans_primitives = [\"absolute\", \"cum_count\",\"subtract\",\"cum_sum\",\"haversine\",\"or\",\"mod\",\"characters\",\"cum_max\",\"multiply\",\"add\"]\n",
        "# max_features = 100, max_depth = 2"
      ],
      "execution_count": 0,
      "outputs": []
    },
    {
      "metadata": {
        "id": "zgeGe5xnO-y1",
        "colab_type": "code",
        "colab": {}
      },
      "cell_type": "code",
      "source": [
        ""
      ],
      "execution_count": 0,
      "outputs": []
    },
    {
      "metadata": {
        "id": "8Unqz6elkvCf",
        "colab_type": "text"
      },
      "cell_type": "markdown",
      "source": [
        "#Pipeline Optimization"
      ]
    },
    {
      "metadata": {
        "id": "hmTfE_SEOUCk",
        "colab_type": "code",
        "colab": {
          "base_uri": "https://localhost:8080/",
          "height": 231
        },
        "outputId": "5e6f961a-ca60-48c6-b843-c34bce5ac267"
      },
      "cell_type": "code",
      "source": [
        "X, y = df, target\n",
        "\n",
        "X_train, X_test, y_train, y_test = sk.model_selection.train_test_split(X, y, random_state=1)\n",
        "\n",
        "sk.model_selection.tra"
      ],
      "execution_count": 9,
      "outputs": [
        {
          "output_type": "error",
          "ename": "AttributeError",
          "evalue": "ignored",
          "traceback": [
            "\u001b[0;31m---------------------------------------------------------------------------\u001b[0m",
            "\u001b[0;31mAttributeError\u001b[0m                            Traceback (most recent call last)",
            "\u001b[0;32m<ipython-input-9-637ebcf3cb2e>\u001b[0m in \u001b[0;36m<module>\u001b[0;34m()\u001b[0m\n\u001b[1;32m      1\u001b[0m \u001b[0mX\u001b[0m\u001b[0;34m,\u001b[0m \u001b[0my\u001b[0m \u001b[0;34m=\u001b[0m \u001b[0mdf\u001b[0m\u001b[0;34m,\u001b[0m \u001b[0mtarget\u001b[0m\u001b[0;34m\u001b[0m\u001b[0;34m\u001b[0m\u001b[0m\n\u001b[1;32m      2\u001b[0m \u001b[0;34m\u001b[0m\u001b[0m\n\u001b[0;32m----> 3\u001b[0;31m \u001b[0mX_train\u001b[0m\u001b[0;34m,\u001b[0m \u001b[0mX_test\u001b[0m\u001b[0;34m,\u001b[0m \u001b[0my_train\u001b[0m\u001b[0;34m,\u001b[0m \u001b[0my_test\u001b[0m \u001b[0;34m=\u001b[0m \u001b[0msk\u001b[0m\u001b[0;34m.\u001b[0m\u001b[0mmodel_selection\u001b[0m\u001b[0;34m.\u001b[0m\u001b[0mtrain_test_split\u001b[0m\u001b[0;34m(\u001b[0m\u001b[0mX\u001b[0m\u001b[0;34m,\u001b[0m \u001b[0my\u001b[0m\u001b[0;34m,\u001b[0m \u001b[0mrandom_state\u001b[0m\u001b[0;34m=\u001b[0m\u001b[0;36m1\u001b[0m\u001b[0;34m)\u001b[0m\u001b[0;34m\u001b[0m\u001b[0;34m\u001b[0m\u001b[0m\n\u001b[0m\u001b[1;32m      4\u001b[0m \u001b[0;34m\u001b[0m\u001b[0m\n\u001b[1;32m      5\u001b[0m \u001b[0msk\u001b[0m\u001b[0;34m.\u001b[0m\u001b[0m__version__\u001b[0m\u001b[0;34m\u001b[0m\u001b[0;34m\u001b[0m\u001b[0m\n",
            "\u001b[0;31mAttributeError\u001b[0m: module 'sklearn' has no attribute 'model_selection'"
          ]
        }
      ]
    },
    {
      "metadata": {
        "id": "3FEeimO2O0vJ",
        "colab_type": "code",
        "colab": {
          "base_uri": "https://localhost:8080/",
          "height": 34
        },
        "outputId": "1c62a1b2-3bef-4379-f0fa-c958154022f3"
      },
      "cell_type": "code",
      "source": [
        "sk.__version__"
      ],
      "execution_count": 10,
      "outputs": [
        {
          "output_type": "execute_result",
          "data": {
            "text/plain": [
              "'0.20.2'"
            ]
          },
          "metadata": {
            "tags": []
          },
          "execution_count": 10
        }
      ]
    },
    {
      "metadata": {
        "id": "ikIbSEv9-UED",
        "colab_type": "code",
        "colab": {}
      },
      "cell_type": "code",
      "source": [
        "#feature_matrix = pd.read_csv('./example_data.csv', index_col=0)\n",
        "\n",
        "\n",
        "#X = feature_matrix.drop('MEAN(invoices.MEAN(item_purchases.UnitPrice))', axis=1)\n",
        "#y = feature_matrix['MEAN(invoices.MEAN(item_purchases.UnitPrice))']\n",
        "\n",
        "\n",
        "#X_train, X_test, y_train, y_test = sklearn.model_selection.train_test_split(X, y, random_state=1)\n",
        "\n",
        "#tpot = TPOTRegressor(generations=5, population_size=50, verbosity=2, random_state=42)\n",
        "\n",
        "#tpot.fit(X_train, y_train)\n",
        "\n",
        "\n",
        "#y_hat = tpot.predict(X_test)\n",
        "#print(\"R2 score:\", sklearn.metrics.r2_score(y_test, y_hat))"
      ],
      "execution_count": 0,
      "outputs": []
    },
    {
      "metadata": {
        "id": "jG5_I-qglhoA",
        "colab_type": "code",
        "colab": {}
      },
      "cell_type": "code",
      "source": [
        "tpot.export('./tpot_pipeline.py')\n",
        "\n",
        "#from the python file 'tpot_pipeline.py' copy following two lines verbatim\n",
        "\n",
        "training_features, testing_features, training_target, testing_target = \\\n",
        "    train_test_split(features, tpot_data['class'], random_state=42)\n",
        "\n",
        "exported_pipeline = make_pipeline(\n",
        "    RobustScaler(),\n",
        "    LinearSVR(C=15.0, dual=False, epsilon=1.0, \n",
        "              loss=\"squared_epsilon_insensitive\", tol=0.0001)\n",
        ")\n",
        "\n",
        "\n",
        "exported_pipeline.fit(training_features, training_target)\n"
      ],
      "execution_count": 0,
      "outputs": []
    },
    {
      "metadata": {
        "id": "CsR4OhOIm348",
        "colab_type": "code",
        "colab": {}
      },
      "cell_type": "code",
      "source": [
        "#Show the features with each used coefficient:\n",
        "\n",
        "important_coefs = pd.Series(data=exported_pipeline.steps[1][1].coef_, \n",
        "                            index=X.columns)\n",
        "\n",
        "sorted_coef = important_coefs.sort_values(ascending=False)\n",
        "\n",
        "sorted_coef"
      ],
      "execution_count": 0,
      "outputs": []
    }
  ]
}