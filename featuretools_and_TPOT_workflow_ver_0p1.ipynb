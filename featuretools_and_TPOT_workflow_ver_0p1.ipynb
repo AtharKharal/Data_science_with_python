{
  "nbformat": 4,
  "nbformat_minor": 0,
  "metadata": {
    "colab": {
      "name": "featuretools and TPOT workflow_ver_0p1.ipynb",
      "version": "0.3.2",
      "provenance": [],
      "collapsed_sections": [
        "kj0iTXcGg8DJ"
      ],
      "include_colab_link": true
    },
    "kernelspec": {
      "name": "python3",
      "display_name": "Python 3"
    }
  },
  "cells": [
    {
      "cell_type": "markdown",
      "metadata": {
        "id": "view-in-github",
        "colab_type": "text"
      },
      "source": [
        "<a href=\"https://colab.research.google.com/github/AtharKharal/Data_science_with_python/blob/dev-branch/featuretools_and_TPOT_workflow_ver_0p1.ipynb\" target=\"_parent\"><img src=\"https://colab.research.google.com/assets/colab-badge.svg\" alt=\"Open In Colab\"/></a>"
      ]
    },
    {
      "metadata": {
        "id": "wtCP7HPn67Mr",
        "colab_type": "code",
        "colab": {}
      },
      "cell_type": "code",
      "source": [
        "import numpy as np\n",
        "import pandas as pd\n",
        "import featuretools as ft\n",
        "import sklearn as sk\n",
        "import featuretools as ft"
      ],
      "execution_count": 0,
      "outputs": []
    },
    {
      "metadata": {
        "id": "ojhoYZrJcxkq",
        "colab_type": "text"
      },
      "cell_type": "markdown",
      "source": [
        "#Reading Data"
      ]
    },
    {
      "metadata": {
        "id": "kj0iTXcGg8DJ",
        "colab_type": "text"
      },
      "cell_type": "markdown",
      "source": [
        "##From a Local Drive"
      ]
    },
    {
      "metadata": {
        "id": "TyfQcaspgzCU",
        "colab_type": "code",
        "colab": {}
      },
      "cell_type": "code",
      "source": [
        "#from google.colab import files\n",
        "#uploaded = files.upload()\n",
        "\n",
        "#import io\n",
        "#df2 = pd.read_csv(io.BytesIO(uploaded['Filename.csv']))"
      ],
      "execution_count": 0,
      "outputs": []
    },
    {
      "metadata": {
        "id": "YGUjFRc8gtUi",
        "colab_type": "text"
      },
      "cell_type": "markdown",
      "source": [
        "##From Google Drive via PyDrive"
      ]
    },
    {
      "metadata": {
        "id": "aO81kqrbhrzg",
        "colab_type": "code",
        "colab": {}
      },
      "cell_type": "code",
      "source": [
        "# Go to the CSV file in Google Drive, right-click on it and select \n",
        "# “Get shareable link”. The link will be copied into your clipboard. \n",
        "# Paste this link into following a string variable i.e. link:\n",
        "\n",
        "link = 'https://drive.google.com/open?id=1U6CRwCxBR4_GxG5kig-mHeet1kykX6Sk'  # The shareable link\n",
        "\n",
        "# Code to read csv file into Colaboratory:\n",
        "!pip install -U -q PyDrive\n",
        "from pydrive.auth import GoogleAuth\n",
        "from pydrive.drive import GoogleDrive\n",
        "from google.colab import auth\n",
        "from oauth2client.client import GoogleCredentials\n",
        "# Authenticate and create the PyDrive client.\n",
        "auth.authenticate_user()\n",
        "gauth = GoogleAuth()\n",
        "gauth.credentials = GoogleCredentials.get_application_default()\n",
        "drive = GoogleDrive(gauth)\n",
        "\n",
        "\n",
        "fluff, id = link.split('=')   # Verify that you have everything after '=' by using print(id)\n",
        "\n",
        "# Finally reading the data into a dataframe\n",
        "\n",
        "downloaded = drive.CreateFile({'id':id}) \n",
        "downloaded.GetContentFile('dummy_file_name.csv')  \n",
        "df = pd.read_csv('dummy_file_name.csv')"
      ],
      "execution_count": 0,
      "outputs": []
    },
    {
      "metadata": {
        "id": "ElMEt_KTknBC",
        "colab_type": "code",
        "colab": {
          "base_uri": "https://localhost:8080/",
          "height": 440
        },
        "outputId": "d206c3d6-1e12-48d1-90a9-410549231943"
      },
      "cell_type": "code",
      "source": [
        "df.head()"
      ],
      "execution_count": 3,
      "outputs": [
        {
          "output_type": "execute_result",
          "data": {
            "text/html": [
              "<div>\n",
              "<style scoped>\n",
              "    .dataframe tbody tr th:only-of-type {\n",
              "        vertical-align: middle;\n",
              "    }\n",
              "\n",
              "    .dataframe tbody tr th {\n",
              "        vertical-align: top;\n",
              "    }\n",
              "\n",
              "    .dataframe thead th {\n",
              "        text-align: right;\n",
              "    }\n",
              "</style>\n",
              "<table border=\"1\" class=\"dataframe\">\n",
              "  <thead>\n",
              "    <tr style=\"text-align: right;\">\n",
              "      <th></th>\n",
              "      <th>CadetPakNo</th>\n",
              "      <th>OffPakNo</th>\n",
              "      <th>Rank</th>\n",
              "      <th>Name</th>\n",
              "      <th>RegNoAU</th>\n",
              "      <th>MatricPercentage</th>\n",
              "      <th>FScPercentage</th>\n",
              "      <th>LastAttendedInstitute</th>\n",
              "      <th>CNIC_No</th>\n",
              "      <th>DateOfBirth</th>\n",
              "      <th>...</th>\n",
              "      <th>Stream</th>\n",
              "      <th>Semester</th>\n",
              "      <th>CurrentCourse</th>\n",
              "      <th>DateOfGraduation</th>\n",
              "      <th>DateCompletionBS</th>\n",
              "      <th>AcademicPercentage</th>\n",
              "      <th>ProfessionalPercentage</th>\n",
              "      <th>DisciplinePercentage</th>\n",
              "      <th>DataQuery</th>\n",
              "      <th>Remarks</th>\n",
              "    </tr>\n",
              "  </thead>\n",
              "  <tbody>\n",
              "    <tr>\n",
              "      <th>0</th>\n",
              "      <td>97511.0</td>\n",
              "      <td>16645.0</td>\n",
              "      <td>Plt Off</td>\n",
              "      <td>Muhammad Bilal Zulqarnain</td>\n",
              "      <td>AU-130054</td>\n",
              "      <td>79.65</td>\n",
              "      <td>68.55</td>\n",
              "      <td>PAF Public School LOWER TOPA, Murree</td>\n",
              "      <td>36502-6719547-7</td>\n",
              "      <td>18-12-1990</td>\n",
              "      <td>...</td>\n",
              "      <td>ATC</td>\n",
              "      <td>Completed</td>\n",
              "      <td>17 A&amp;SD</td>\n",
              "      <td>10/6/2016</td>\n",
              "      <td>8/24/2017</td>\n",
              "      <td>87.58</td>\n",
              "      <td>86.57</td>\n",
              "      <td>70.14</td>\n",
              "      <td>NaN</td>\n",
              "      <td>NaN</td>\n",
              "    </tr>\n",
              "    <tr>\n",
              "      <th>1</th>\n",
              "      <td>1013120.0</td>\n",
              "      <td>16791.0</td>\n",
              "      <td>Flg Off</td>\n",
              "      <td>Abaidullah Mir</td>\n",
              "      <td>AU-100020</td>\n",
              "      <td>89.41</td>\n",
              "      <td>81.36</td>\n",
              "      <td>PAF Public School SARGODHA</td>\n",
              "      <td>34101-0608923-5</td>\n",
              "      <td>4/8/1992</td>\n",
              "      <td>...</td>\n",
              "      <td>Tpt</td>\n",
              "      <td>Completed</td>\n",
              "      <td>7th CN-235</td>\n",
              "      <td>3/26/2015</td>\n",
              "      <td>8/24/2017</td>\n",
              "      <td>72.05</td>\n",
              "      <td>78.17</td>\n",
              "      <td>59.58</td>\n",
              "      <td>NaN</td>\n",
              "      <td>NaN</td>\n",
              "    </tr>\n",
              "    <tr>\n",
              "      <th>2</th>\n",
              "      <td>107616.0</td>\n",
              "      <td>16832.0</td>\n",
              "      <td>Plt Off</td>\n",
              "      <td>Waqas Khattak</td>\n",
              "      <td>AU-140056</td>\n",
              "      <td>74.38</td>\n",
              "      <td>75.19</td>\n",
              "      <td>New Fazaia Degree College Peshawar Cantt</td>\n",
              "      <td>17301-76106955</td>\n",
              "      <td>31-10-1988</td>\n",
              "      <td>...</td>\n",
              "      <td>Nav</td>\n",
              "      <td>VII</td>\n",
              "      <td>5th Nav</td>\n",
              "      <td>NaN</td>\n",
              "      <td>NaN</td>\n",
              "      <td>NaN</td>\n",
              "      <td>NaN</td>\n",
              "      <td>NaN</td>\n",
              "      <td>NaN</td>\n",
              "      <td>NaN</td>\n",
              "    </tr>\n",
              "    <tr>\n",
              "      <th>3</th>\n",
              "      <td>11132012.0</td>\n",
              "      <td>16936.0</td>\n",
              "      <td>Flg Off</td>\n",
              "      <td>Ali Qasim</td>\n",
              "      <td>AU-110012</td>\n",
              "      <td>87.88</td>\n",
              "      <td>79.00</td>\n",
              "      <td>Fauji Foundation College for Boys, New Lalazar...</td>\n",
              "      <td>37405-9164177-7</td>\n",
              "      <td>28-02-1992</td>\n",
              "      <td>...</td>\n",
              "      <td>Fighter</td>\n",
              "      <td>Completed</td>\n",
              "      <td>134 GD(P)</td>\n",
              "      <td>10/14/2015</td>\n",
              "      <td>4/4/2017</td>\n",
              "      <td>81.77</td>\n",
              "      <td>82.16</td>\n",
              "      <td>74.19</td>\n",
              "      <td>NaN</td>\n",
              "      <td>Late due to Course Abroad USA</td>\n",
              "    </tr>\n",
              "    <tr>\n",
              "      <th>4</th>\n",
              "      <td>11132007.0</td>\n",
              "      <td>16947.0</td>\n",
              "      <td>Flg Off</td>\n",
              "      <td>Salik Anns</td>\n",
              "      <td>AU-110007</td>\n",
              "      <td>74.59</td>\n",
              "      <td>66.00</td>\n",
              "      <td>Punjab College of Science Gujranwala</td>\n",
              "      <td>34101-4944832-1</td>\n",
              "      <td>2/2/1993</td>\n",
              "      <td>...</td>\n",
              "      <td>Fighter</td>\n",
              "      <td>Completed</td>\n",
              "      <td>133 GD(P)</td>\n",
              "      <td>3/26/2015</td>\n",
              "      <td>8/24/2017</td>\n",
              "      <td>70.64</td>\n",
              "      <td>78.81</td>\n",
              "      <td>67.31</td>\n",
              "      <td>NaN</td>\n",
              "      <td>NaN</td>\n",
              "    </tr>\n",
              "  </tbody>\n",
              "</table>\n",
              "<p>5 rows × 27 columns</p>\n",
              "</div>"
            ],
            "text/plain": [
              "   CadetPakNo  OffPakNo     Rank                       Name    RegNoAU  \\\n",
              "0     97511.0   16645.0  Plt Off  Muhammad Bilal Zulqarnain  AU-130054   \n",
              "1   1013120.0   16791.0  Flg Off             Abaidullah Mir  AU-100020   \n",
              "2    107616.0   16832.0  Plt Off              Waqas Khattak  AU-140056   \n",
              "3  11132012.0   16936.0  Flg Off                  Ali Qasim  AU-110012   \n",
              "4  11132007.0   16947.0  Flg Off                 Salik Anns  AU-110007   \n",
              "\n",
              "  MatricPercentage  FScPercentage  \\\n",
              "0            79.65          68.55   \n",
              "1            89.41          81.36   \n",
              "2            74.38          75.19   \n",
              "3            87.88          79.00   \n",
              "4            74.59          66.00   \n",
              "\n",
              "                               LastAttendedInstitute          CNIC_No  \\\n",
              "0               PAF Public School LOWER TOPA, Murree  36502-6719547-7   \n",
              "1                         PAF Public School SARGODHA  34101-0608923-5   \n",
              "2           New Fazaia Degree College Peshawar Cantt   17301-76106955   \n",
              "3  Fauji Foundation College for Boys, New Lalazar...  37405-9164177-7   \n",
              "4               Punjab College of Science Gujranwala  34101-4944832-1   \n",
              "\n",
              "  DateOfBirth              ...                 Stream   Semester  \\\n",
              "0  18-12-1990              ...                    ATC  Completed   \n",
              "1    4/8/1992              ...                    Tpt  Completed   \n",
              "2  31-10-1988              ...                    Nav        VII   \n",
              "3  28-02-1992              ...                Fighter  Completed   \n",
              "4    2/2/1993              ...                Fighter  Completed   \n",
              "\n",
              "  CurrentCourse DateOfGraduation DateCompletionBS AcademicPercentage  \\\n",
              "0       17 A&SD        10/6/2016        8/24/2017              87.58   \n",
              "1    7th CN-235        3/26/2015        8/24/2017              72.05   \n",
              "2       5th Nav              NaN              NaN                NaN   \n",
              "3     134 GD(P)       10/14/2015         4/4/2017              81.77   \n",
              "4     133 GD(P)        3/26/2015        8/24/2017              70.64   \n",
              "\n",
              "  ProfessionalPercentage DisciplinePercentage DataQuery  \\\n",
              "0                  86.57                70.14       NaN   \n",
              "1                  78.17                59.58       NaN   \n",
              "2                    NaN                  NaN       NaN   \n",
              "3                  82.16                74.19       NaN   \n",
              "4                  78.81                67.31       NaN   \n",
              "\n",
              "                         Remarks  \n",
              "0                            NaN  \n",
              "1                            NaN  \n",
              "2                            NaN  \n",
              "3  Late due to Course Abroad USA  \n",
              "4                            NaN  \n",
              "\n",
              "[5 rows x 27 columns]"
            ]
          },
          "metadata": {
            "tags": []
          },
          "execution_count": 3
        }
      ]
    },
    {
      "metadata": {
        "id": "Xkm59w9ak1AH",
        "colab_type": "text"
      },
      "cell_type": "markdown",
      "source": [
        "#Feature Augmentation"
      ]
    },
    {
      "metadata": {
        "id": "nueNl49E7ciR",
        "colab_type": "code",
        "colab": {}
      },
      "cell_type": "code",
      "source": [
        "es = ft.EntitySet(\"mydata\")\n",
        "\n",
        "# Create an entity from the client dataframe\n",
        "# This dataframe already has an index and a time index col namely 'dt_time_col'\n",
        "es = es.entity_from_dataframe(entity_id = 'my_df_id', dataframe = my_df, \n",
        "                              index = 'idx_of_my_df', time_index = 'dt_time_col')\n",
        "\n",
        "\n",
        "# Perform deep feature synthesis without specifying primitives\n",
        "features, feature_names = ft.dfs(entityset=es, target_entity='my_df_id', \n",
        "                                 max_depth = 2)"
      ],
      "execution_count": 0,
      "outputs": []
    },
    {
      "metadata": {
        "id": "8Unqz6elkvCf",
        "colab_type": "text"
      },
      "cell_type": "markdown",
      "source": [
        "#Pipeline Optimization"
      ]
    },
    {
      "metadata": {
        "id": "ikIbSEv9-UED",
        "colab_type": "code",
        "colab": {}
      },
      "cell_type": "code",
      "source": [
        "feature_matrix = pd.read_csv('./example_data.csv', index_col=0)\n",
        "\n",
        "\n",
        "X = feature_matrix.drop('MEAN(invoices.MEAN(item_purchases.UnitPrice))', axis=1)\n",
        "y = feature_matrix['MEAN(invoices.MEAN(item_purchases.UnitPrice))']\n",
        "\n",
        "\n",
        "X_train, X_test, y_train, y_test = sklearn.model_selection.train_test_split(X, y, random_state=1)\n",
        "\n",
        "tpot = TPOTRegressor(generations=5, population_size=50, verbosity=2, random_state=42)\n",
        "\n",
        "tpot.fit(X_train, y_train)\n",
        "\n",
        "\n",
        "y_hat = tpot.predict(X_test)\n",
        "print(\"R2 score:\", sklearn.metrics.r2_score(y_test, y_hat))"
      ],
      "execution_count": 0,
      "outputs": []
    },
    {
      "metadata": {
        "id": "jG5_I-qglhoA",
        "colab_type": "code",
        "colab": {}
      },
      "cell_type": "code",
      "source": [
        "tpot.export('./tpot_pipeline.py')\n",
        "\n",
        "#from the python file 'tpot_pipeline.py' copy following two lines verbatim\n",
        "\n",
        "training_features, testing_features, training_target, testing_target = \\\n",
        "    train_test_split(features, tpot_data['class'], random_state=42)\n",
        "\n",
        "exported_pipeline = make_pipeline(\n",
        "    RobustScaler(),\n",
        "    LinearSVR(C=15.0, dual=False, epsilon=1.0, \n",
        "              loss=\"squared_epsilon_insensitive\", tol=0.0001)\n",
        ")\n",
        "\n",
        "\n",
        "exported_pipeline.fit(training_features, training_target)\n"
      ],
      "execution_count": 0,
      "outputs": []
    },
    {
      "metadata": {
        "id": "CsR4OhOIm348",
        "colab_type": "code",
        "colab": {}
      },
      "cell_type": "code",
      "source": [
        "#Show the features with each used coefficient:\n",
        "\n",
        "important_coefs = pd.Series(data=exported_pipeline.steps[1][1].coef_, \n",
        "                            index=X.columns)\n",
        "\n",
        "sorted_coef = important_coefs.sort_values(ascending=False)\n",
        "\n",
        "sorted_coef"
      ],
      "execution_count": 0,
      "outputs": []
    }
  ]
}