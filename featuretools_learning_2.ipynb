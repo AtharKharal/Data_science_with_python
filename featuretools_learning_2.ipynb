{
  "nbformat": 4,
  "nbformat_minor": 0,
  "metadata": {
    "colab": {
      "name": "featuretools_learning_2.ipynb",
      "version": "0.3.2",
      "provenance": [],
      "collapsed_sections": [],
      "include_colab_link": true
    },
    "kernelspec": {
      "name": "python3",
      "display_name": "Python 3"
    }
  },
  "cells": [
    {
      "cell_type": "markdown",
      "metadata": {
        "id": "view-in-github",
        "colab_type": "text"
      },
      "source": [
        "<a href=\"https://colab.research.google.com/github/AtharKharal/Data_science_with_python/blob/dev-branch/featuretools_learning_2.ipynb\" target=\"_parent\"><img src=\"https://colab.research.google.com/assets/colab-badge.svg\" alt=\"Open In Colab\"/></a>"
      ]
    },
    {
      "metadata": {
        "id": "VXWWKo9EFo41",
        "colab_type": "code",
        "colab": {}
      },
      "cell_type": "code",
      "source": [
        "import pandas as pd\n",
        "import featuretools as ft"
      ],
      "execution_count": 0,
      "outputs": []
    },
    {
      "metadata": {
        "id": "vu9ZqDQ7FgPW",
        "colab_type": "code",
        "colab": {
          "base_uri": "https://localhost:8080/",
          "height": 204
        },
        "outputId": "a25bfc23-8fc5-4bef-e4bc-f60edc9357c1"
      },
      "cell_type": "code",
      "source": [
        "df=pd.DataFrame({\n",
        "    'index':[1,\t2,\t3,\t4,\t5],\n",
        "'BoxRatio':\t[0.324,\t0.938249,\t0.317,\t0.289,\t1.551115],\n",
        "'Thrust':\t[0.615,\t0.366377,\t-0.281,\t-0.433,\t-0.103734],\n",
        "'Velocity':\t[1.525,\t2.40223,\t0.979,\t0.796,\t0.731682],\n",
        "'OnBalRun':\t[3.618,\t6.393223,\t1.489,\t2.081,\t1.752156],\n",
        "'vwapGain':\t[0.416,\t2.667106,\t0.506,\t0.536,\t0.667016]\n",
        "})\n",
        "\n",
        "df"
      ],
      "execution_count": 3,
      "outputs": [
        {
          "output_type": "execute_result",
          "data": {
            "text/html": [
              "<div>\n",
              "<style scoped>\n",
              "    .dataframe tbody tr th:only-of-type {\n",
              "        vertical-align: middle;\n",
              "    }\n",
              "\n",
              "    .dataframe tbody tr th {\n",
              "        vertical-align: top;\n",
              "    }\n",
              "\n",
              "    .dataframe thead th {\n",
              "        text-align: right;\n",
              "    }\n",
              "</style>\n",
              "<table border=\"1\" class=\"dataframe\">\n",
              "  <thead>\n",
              "    <tr style=\"text-align: right;\">\n",
              "      <th></th>\n",
              "      <th>BoxRatio</th>\n",
              "      <th>OnBalRun</th>\n",
              "      <th>Thrust</th>\n",
              "      <th>Velocity</th>\n",
              "      <th>index</th>\n",
              "      <th>vwapGain</th>\n",
              "    </tr>\n",
              "  </thead>\n",
              "  <tbody>\n",
              "    <tr>\n",
              "      <th>0</th>\n",
              "      <td>0.324000</td>\n",
              "      <td>3.618000</td>\n",
              "      <td>0.615000</td>\n",
              "      <td>1.525000</td>\n",
              "      <td>1</td>\n",
              "      <td>0.416000</td>\n",
              "    </tr>\n",
              "    <tr>\n",
              "      <th>1</th>\n",
              "      <td>0.938249</td>\n",
              "      <td>6.393223</td>\n",
              "      <td>0.366377</td>\n",
              "      <td>2.402230</td>\n",
              "      <td>2</td>\n",
              "      <td>2.667106</td>\n",
              "    </tr>\n",
              "    <tr>\n",
              "      <th>2</th>\n",
              "      <td>0.317000</td>\n",
              "      <td>1.489000</td>\n",
              "      <td>-0.281000</td>\n",
              "      <td>0.979000</td>\n",
              "      <td>3</td>\n",
              "      <td>0.506000</td>\n",
              "    </tr>\n",
              "    <tr>\n",
              "      <th>3</th>\n",
              "      <td>0.289000</td>\n",
              "      <td>2.081000</td>\n",
              "      <td>-0.433000</td>\n",
              "      <td>0.796000</td>\n",
              "      <td>4</td>\n",
              "      <td>0.536000</td>\n",
              "    </tr>\n",
              "    <tr>\n",
              "      <th>4</th>\n",
              "      <td>1.551115</td>\n",
              "      <td>1.752156</td>\n",
              "      <td>-0.103734</td>\n",
              "      <td>0.731682</td>\n",
              "      <td>5</td>\n",
              "      <td>0.667016</td>\n",
              "    </tr>\n",
              "  </tbody>\n",
              "</table>\n",
              "</div>"
            ],
            "text/plain": [
              "   BoxRatio  OnBalRun    Thrust  Velocity  index  vwapGain\n",
              "0  0.324000  3.618000  0.615000  1.525000      1  0.416000\n",
              "1  0.938249  6.393223  0.366377  2.402230      2  2.667106\n",
              "2  0.317000  1.489000 -0.281000  0.979000      3  0.506000\n",
              "3  0.289000  2.081000 -0.433000  0.796000      4  0.536000\n",
              "4  1.551115  1.752156 -0.103734  0.731682      5  0.667016"
            ]
          },
          "metadata": {
            "tags": []
          },
          "execution_count": 3
        }
      ]
    },
    {
      "metadata": {
        "id": "pbFzRVBgGoGk",
        "colab_type": "code",
        "colab": {}
      },
      "cell_type": "code",
      "source": [
        ""
      ],
      "execution_count": 0,
      "outputs": []
    }
  ]
}