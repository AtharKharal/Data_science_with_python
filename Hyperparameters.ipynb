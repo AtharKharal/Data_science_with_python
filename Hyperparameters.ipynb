{
  "nbformat": 4,
  "nbformat_minor": 0,
  "metadata": {
    "colab": {
      "name": "Hyperparameters.ipynb",
      "version": "0.3.2",
      "provenance": [],
      "collapsed_sections": [],
      "include_colab_link": true
    },
    "kernelspec": {
      "name": "python3",
      "display_name": "Python 3"
    }
  },
  "cells": [
    {
      "cell_type": "markdown",
      "metadata": {
        "id": "view-in-github",
        "colab_type": "text"
      },
      "source": [
        "<a href=\"https://colab.research.google.com/github/AtharKharal/Data_science_with_python/blob/dev-branch/Hyperparameters.ipynb\" target=\"_parent\"><img src=\"https://colab.research.google.com/assets/colab-badge.svg\" alt=\"Open In Colab\"/></a>"
      ]
    },
    {
      "metadata": {
        "id": "CvaZvuFr69oR",
        "colab_type": "text"
      },
      "cell_type": "markdown",
      "source": [
        "#Hyperparameters and Machine Learning"
      ]
    },
    {
      "metadata": {
        "id": "e3ed8Xt27G8p",
        "colab_type": "text"
      },
      "cell_type": "markdown",
      "source": [
        "This work primarily clears my workflow for a complete ML pipeline using sklearn in Python."
      ]
    },
    {
      "metadata": {
        "id": "HztLaX8B61Tl",
        "colab_type": "code",
        "colab": {}
      },
      "cell_type": "code",
      "source": [
        ""
      ],
      "execution_count": 0,
      "outputs": []
    }
  ]
}