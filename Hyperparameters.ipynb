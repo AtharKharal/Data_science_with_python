{
  "nbformat": 4,
  "nbformat_minor": 0,
  "metadata": {
    "colab": {
      "name": "Hyperparameters.ipynb",
      "version": "0.3.2",
      "provenance": [],
      "collapsed_sections": [],
      "include_colab_link": true
    },
    "kernelspec": {
      "name": "python3",
      "display_name": "Python 3"
    }
  },
  "cells": [
    {
      "cell_type": "markdown",
      "metadata": {
        "id": "view-in-github",
        "colab_type": "text"
      },
      "source": [
        "<a href=\"https://colab.research.google.com/github/AtharKharal/Data_science_with_python/blob/dev-branch/Hyperparameters.ipynb\" target=\"_parent\"><img src=\"https://colab.research.google.com/assets/colab-badge.svg\" alt=\"Open In Colab\"/></a>"
      ]
    },
    {
      "metadata": {
        "id": "CvaZvuFr69oR",
        "colab_type": "text"
      },
      "cell_type": "markdown",
      "source": [
        "#Hyperparameters and Machine Learning"
      ]
    },
    {
      "metadata": {
        "id": "e3ed8Xt27G8p",
        "colab_type": "text"
      },
      "cell_type": "markdown",
      "source": [
        "This work primarily clears my workflow for a complete ML pipeline using sklearn in Python."
      ]
    },
    {
      "metadata": {
        "id": "wO4zmw4zfCSs",
        "colab_type": "text"
      },
      "cell_type": "markdown",
      "source": [
        "## Data Loading"
      ]
    },
    {
      "metadata": {
        "id": "12ZHcpNGe828",
        "colab_type": "code",
        "colab": {}
      },
      "cell_type": "code",
      "source": [
        "from sklearn.datasets import load_iris\n",
        "iris=load_iris()\n",
        "X= iris.data\n",
        "y= iris.target"
      ],
      "execution_count": 0,
      "outputs": []
    },
    {
      "metadata": {
        "id": "3WtqnqCCfFS-",
        "colab_type": "text"
      },
      "cell_type": "markdown",
      "source": [
        "#Model Instantatiation"
      ]
    },
    {
      "metadata": {
        "id": "rtXVDCWRe-bs",
        "colab_type": "code",
        "colab": {}
      },
      "cell_type": "code",
      "source": [
        "import numpy as np\n",
        "from matplotlib import pyplot as plt\n",
        "from sklearn.neighbors import KNeighborsClassifier\n",
        "from sklearn.model_selection import cross_val_score, GridSearchCV, validation_curve"
      ],
      "execution_count": 0,
      "outputs": []
    },
    {
      "metadata": {
        "id": "WvxzY0gnbkZy",
        "colab_type": "code",
        "colab": {}
      },
      "cell_type": "code",
      "source": [
        "model= KNeighborsClassifier(n_neighbors = 2)\n",
        "scores = cross_val_score(model, X, y, cv=10)\n"
      ],
      "execution_count": 0,
      "outputs": []
    },
    {
      "metadata": {
        "id": "5KmZjEx7ej4n",
        "colab_type": "code",
        "outputId": "aea371fe-2fb0-4721-9104-751feef66a98",
        "colab": {
          "base_uri": "https://localhost:8080/",
          "height": 34
        }
      },
      "cell_type": "code",
      "source": [
        "scores.mean()"
      ],
      "execution_count": 4,
      "outputs": [
        {
          "output_type": "execute_result",
          "data": {
            "text/plain": [
              "0.9533333333333334"
            ]
          },
          "metadata": {
            "tags": []
          },
          "execution_count": 4
        }
      ]
    },
    {
      "metadata": {
        "id": "NhdrRJ5ROxZj",
        "colab_type": "code",
        "colab": {}
      },
      "cell_type": "code",
      "source": [
        "from sklearn.pipeline import make_pipeline\n",
        "from sklearn.linear_model import LinearRegression\n",
        "from sklearn.preprocessing import PolynomialFeatures\n",
        "\n",
        "def PolynomialRegression(degree=2, **kwargs):\n",
        "    return make_pipeline(PolynomialFeatures(degree),\n",
        "                         LinearRegression(**kwargs))"
      ],
      "execution_count": 0,
      "outputs": []
    },
    {
      "metadata": {
        "id": "vVPZObgVfoEb",
        "colab_type": "code",
        "outputId": "e958c5be-0a9a-4f2c-90dc-940dbd8df6ba",
        "colab": {
          "base_uri": "https://localhost:8080/",
          "height": 121
        }
      },
      "cell_type": "code",
      "source": [
        "param_grid = {'polynomialfeatures__degree': np.arange(21),\n",
        "              'linearregression__fit_intercept': [True, False],\n",
        "              'linearregression__normalize': [True, False]}\n",
        "gridPolyReg = GridSearchCV(PolynomialRegression(), param_grid, cv=7)\n",
        "gridPolyReg.fit(X,y);\n",
        "gridPolyReg.best_params_"
      ],
      "execution_count": 10,
      "outputs": [
        {
          "output_type": "stream",
          "text": [
            "/usr/local/lib/python3.6/dist-packages/sklearn/model_selection/_search.py:841: DeprecationWarning: The default of the `iid` parameter will change from True to False in version 0.22 and will be removed in 0.24. This will change numeric results when test-set sizes are unequal.\n",
            "  DeprecationWarning)\n"
          ],
          "name": "stderr"
        },
        {
          "output_type": "execute_result",
          "data": {
            "text/plain": [
              "{'linearregression__fit_intercept': True,\n",
              " 'linearregression__normalize': True,\n",
              " 'polynomialfeatures__degree': 2}"
            ]
          },
          "metadata": {
            "tags": []
          },
          "execution_count": 10
        }
      ]
    },
    {
      "metadata": {
        "id": "xi_mX-2lE_jj",
        "colab_type": "code",
        "colab": {
          "base_uri": "https://localhost:8080/",
          "height": 655
        },
        "outputId": "83bbb417-b368-4b3d-b43d-601389d6ac53"
      },
      "cell_type": "code",
      "source": [
        "model = gridPolyReg.best_estimator_\n",
        "\n",
        "y_predicted = model.fit(X, y).predict(X)\n",
        "y_predicted"
      ],
      "execution_count": 22,
      "outputs": [
        {
          "output_type": "execute_result",
          "data": {
            "text/plain": [
              "array([-1.42342824e-02, -7.58926545e-03, -1.98050989e-02,  4.20298294e-03,\n",
              "       -3.75105758e-02,  3.34935246e-02, -5.96591736e-02, -4.49974300e-03,\n",
              "        2.60239261e-02, -1.78523090e-02,  1.72480466e-02, -2.21664479e-02,\n",
              "       -3.03629998e-02, -5.98244152e-02,  2.58542797e-02,  2.76341872e-02,\n",
              "        2.25362928e-02,  7.32058400e-03,  6.92285263e-02, -4.10452220e-02,\n",
              "        2.33480768e-02, -7.94779288e-04, -1.41763356e-01,  1.23616694e-01,\n",
              "        1.49277224e-02,  9.26391723e-03,  5.38662118e-02,  2.80530050e-03,\n",
              "       -1.44648602e-02,  4.49900828e-03,  2.58605131e-02,  4.28512088e-02,\n",
              "       -5.08615999e-02,  1.20774306e-02,  8.55535704e-03, -3.29714804e-02,\n",
              "       -4.68911424e-02, -6.31977660e-02, -3.67208300e-03,  4.22766079e-04,\n",
              "       -6.22316092e-03,  1.17384398e-01, -6.63643160e-02,  1.09870732e-01,\n",
              "       -1.97881841e-02,  5.12565852e-02, -3.37630312e-02, -2.53348681e-02,\n",
              "        8.85381981e-03, -1.08431890e-02,  9.79743113e-01,  1.12562999e+00,\n",
              "        1.16053702e+00,  1.24387026e+00,  1.16918185e+00,  1.23708860e+00,\n",
              "        1.22495479e+00,  9.19708435e-01,  1.02104106e+00,  1.19149374e+00,\n",
              "        1.05780354e+00,  1.15709922e+00,  7.11413922e-01,  1.28290211e+00,\n",
              "        9.39735796e-01,  9.44306995e-01,  1.23070168e+00,  9.43324164e-01,\n",
              "        1.25638958e+00,  9.82854539e-01,  1.38882891e+00,  9.49472754e-01,\n",
              "        1.41758274e+00,  1.22733771e+00,  9.56775032e-01,  9.78477581e-01,\n",
              "        1.05293486e+00,  1.39766677e+00,  1.27354997e+00,  7.19774582e-01,\n",
              "        9.90945051e-01,  8.82014508e-01,  9.58301275e-01,  1.64527246e+00,\n",
              "        1.19386870e+00,  1.09127049e+00,  1.13849116e+00,  9.65787146e-01,\n",
              "        1.01810275e+00,  1.19334806e+00,  1.24368187e+00,  1.21397200e+00,\n",
              "        1.00718760e+00,  9.32248982e-01,  1.17376516e+00,  1.00891643e+00,\n",
              "        1.09011904e+00,  1.03216405e+00,  8.79916280e-01,  1.09226133e+00,\n",
              "        2.16649713e+00,  1.88949013e+00,  1.96174871e+00,  1.85939568e+00,\n",
              "        2.13500562e+00,  2.17456914e+00,  1.67775504e+00,  1.98851717e+00,\n",
              "        1.93971885e+00,  2.07543058e+00,  1.63574251e+00,  1.84699215e+00,\n",
              "        1.87981927e+00,  2.11209211e+00,  2.37719967e+00,  1.95748882e+00,\n",
              "        1.74488435e+00,  2.13490605e+00,  2.41784861e+00,  1.64337986e+00,\n",
              "        2.02548898e+00,  1.85791749e+00,  2.11842508e+00,  1.63231872e+00,\n",
              "        1.84343360e+00,  1.82082266e+00,  1.59699755e+00,  1.55448299e+00,\n",
              "        2.10189476e+00,  1.62184207e+00,  1.80176912e+00,  1.90197250e+00,\n",
              "        2.19649751e+00,  1.49724261e+00,  1.85214247e+00,  1.91149190e+00,\n",
              "        1.90858335e+00,  1.71379594e+00,  1.52979080e+00,  1.77946729e+00,\n",
              "        2.17961303e+00,  1.88944932e+00,  1.88949013e+00,  2.10846492e+00,\n",
              "        2.17106840e+00,  2.01762547e+00,  1.82038383e+00,  1.75862474e+00,\n",
              "        1.76574733e+00,  1.60933958e+00])"
            ]
          },
          "metadata": {
            "tags": []
          },
          "execution_count": 22
        }
      ]
    },
    {
      "metadata": {
        "id": "qkk59mGGcYgJ",
        "colab_type": "code",
        "colab": {
          "base_uri": "https://localhost:8080/",
          "height": 365
        },
        "outputId": "ae479608-d32f-4bab-c9cd-9d8f25e2d8f5"
      },
      "cell_type": "code",
      "source": [
        "degree = np.arange(0, 21)\n",
        "train_score, val_score = validation_curve(model, X, y,\n",
        "                                          'polynomialfeatures__degree', degree,\n",
        "                                          cv=7)\n",
        "\n",
        "plt.plot(degree, np.median(train_score, 1), color='blue', \n",
        "         label='training score')\n",
        "plt.plot(degree, np.median(val_score, 1), color='red', \n",
        "         label='validation score')\n",
        "\n",
        "plt.legend(loc='best')\n",
        "plt.ylim(0, 1)\n",
        "plt.xlabel('degree')\n",
        "plt.ylabel('score');"
      ],
      "execution_count": 25,
      "outputs": [
        {
          "output_type": "display_data",
          "data": {
            "image/png": "[encoded data removed]",
            "text/plain": [
              "<matplotlib.figure.Figure at 0x7f7fdd9a5eb8>"
            ]
          },
          "metadata": {
            "tags": []
          }
        }
      ]
    },
    {
      "metadata": {
        "id": "HkPRqTBDysss",
        "colab_type": "code",
        "colab": {}
      },
      "cell_type": "code",
      "source": [
        ""
      ],
      "execution_count": 0,
      "outputs": []
    }
  ]
}