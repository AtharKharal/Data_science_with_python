{
  "nbformat": 4,
  "nbformat_minor": 0,
  "metadata": {
    "colab": {
      "name": "R notebook.ipynb",
      "version": "0.3.2",
      "provenance": [],
      "collapsed_sections": [],
      "include_colab_link": true
    },
    "kernelspec": {
      "name": "python2",
      "display_name": "Python 2"
    }
  },
  "cells": [
    {
      "cell_type": "markdown",
      "metadata": {
        "id": "view-in-github",
        "colab_type": "text"
      },
      "source": [
        "<a href=\"https://colab.research.google.com/github/AtharKharal/Data_science_with_python/blob/dev-branch/R_notebook.ipynb\" target=\"_parent\"><img src=\"https://colab.research.google.com/assets/colab-badge.svg\" alt=\"Open In Colab\"/></a>"
      ]
    },
    {
      "metadata": {
        "id": "WzpJq3ZrrDS3",
        "colab_type": "text"
      },
      "cell_type": "markdown",
      "source": [
        "See [here](https://colab.research.google.com/drive/1_MmJuotDr9izNwivjgfD1J_bd4OvTFLq) for installing R + brms.\n",
        "\n",
        "## Setup\n",
        "\n",
        "Run the following commands once (~2-3 mins).  It will replace your python2 jupyter kernel by R kernel.\n",
        "\n",
        "Then, go to menu **Runtime -> Manage Sessions -> TERMINATE**.  \n",
        "\n",
        "Finally, **RECONNECT**."
      ]
    },
    {
      "metadata": {
        "id": "84XnTkx80uv0",
        "colab_type": "code",
        "outputId": "225c395d-996f-4847-f91a-f407663ff43e",
        "colab": {
          "base_uri": "https://localhost:8080/",
          "height": 204
        }
      },
      "cell_type": "code",
      "source": [
        "!apt-get install libssl-dev > /dev/null\n",
        "!wget https://repo.continuum.io/miniconda/Miniconda3-latest-Linux-x86_64.sh\n",
        "!chmod +x ./Miniconda3-latest-Linux-x86_64.sh\n",
        "!./Miniconda3-latest-Linux-x86_64.sh -b -p /conda  > /dev/null 2>&1 \n",
        "!/conda/bin/conda install -c r r-rstan r-irkernel gxx_linux-64 -y -q > /dev/null 2>&1\n",
        "!/conda/bin/R -e \"IRkernel::installspec(name = 'python2', displayname = 'R', user = FALSE)\"  > /dev/null 2>&1\n",
        "!mkdir /root/.R/\n",
        "!echo \"CXX14FLAGS=-O3 -mtune=native -march=native -Wno-ignored-attributes -Wno-deprecated-declarations\" > /root/.R/Makevars\n",
        "import os\n",
        "os._exit(00)\n"
      ],
      "execution_count": 0,
      "outputs": [
        {
          "output_type": "stream",
          "text": [
            "--2019-01-19 12:20:09--  https://repo.continuum.io/miniconda/Miniconda3-latest-Linux-x86_64.sh\n",
            "Resolving repo.continuum.io (repo.continuum.io)... 104.16.19.10, 104.16.18.10, 2606:4700::6810:130a, ...\n",
            "Connecting to repo.continuum.io (repo.continuum.io)|104.16.19.10|:443... connected.\n",
            "HTTP request sent, awaiting response... 200 OK\n",
            "Length: 69826864 (67M) [application/x-sh]\n",
            "Saving to: ‘Miniconda3-latest-Linux-x86_64.sh’\n",
            "\n",
            "Miniconda3-latest-L 100%[===================>]  66.59M   123MB/s    in 0.5s    \n",
            "\n",
            "2019-01-19 12:20:10 (123 MB/s) - ‘Miniconda3-latest-Linux-x86_64.sh’ saved [69826864/69826864]\n",
            "\n"
          ],
          "name": "stdout"
        }
      ]
    },
    {
      "metadata": {
        "id": "8elxrVCMr_pa",
        "colab_type": "text"
      },
      "cell_type": "markdown",
      "source": [
        "## R Code\n"
      ]
    },
    {
      "metadata": {
        "id": "GuQ1OjOBZP3Y",
        "colab_type": "code",
        "outputId": "143c3624-9893-4ef7-a8e0-58a83687a2dd",
        "colab": {
          "base_uri": "https://localhost:8080/",
          "height": 170
        }
      },
      "cell_type": "code",
      "source": [
        "Sys.setenv(PATH= paste(\"/conda/bin\" , Sys.getenv(\"PATH\"), sep = \":\" ) )\n",
        "install.packages('codetools', repos='http://cran.rstudio.com/')\n",
        "options(repr.plot.width  = 3,\n",
        "        repr.plot.height = 3)\n",
        "Sys.setenv(USE_CXX14 = 1)\n",
        "library(\"rstan\") # observe startup messages\n",
        "options(mc.cores = parallel::detectCores())\n",
        "rstan_options(auto_write = TRUE)"
      ],
      "execution_count": 0,
      "outputs": [
        {
          "output_type": "stream",
          "text": [
            "Updating HTML index of packages in '.Library'\n",
            "Making 'packages.html' ... done\n",
            "Loading required package: ggplot2\n",
            "Loading required package: StanHeaders\n",
            "rstan (Version 2.17.3, GitRev: 2e1f913d3ca3)\n",
            "For execution on a local, multicore CPU with excess RAM we recommend calling\n",
            "options(mc.cores = parallel::detectCores()).\n",
            "To avoid recompilation of unchanged Stan programs, we recommend calling\n",
            "rstan_options(auto_write = TRUE)\n"
          ],
          "name": "stderr"
        }
      ]
    },
    {
      "metadata": {
        "id": "jLDcyeQProYg",
        "colab_type": "code",
        "outputId": "459dfcb6-308a-4c0f-ee48-3f2fd1c82f47",
        "colab": {
          "base_uri": "https://localhost:8080/",
          "height": 377
        }
      },
      "cell_type": "code",
      "source": [
        "x <- seq(0, 2*pi, length.out=50)\n",
        "plot(x, sin(x))"
      ],
      "execution_count": 0,
      "outputs": [
        {
          "output_type": "display_data",
          "data": {
            "image/png": "[encoded data removed]",
            "text/plain": [
              "plot without title"
            ]
          },
          "metadata": {
            "tags": []
          }
        }
      ]
    },
    {
      "metadata": {
        "id": "345En8SKt-8x",
        "colab_type": "code",
        "outputId": "0af0885b-b2c3-422e-b057-81e808580eec",
        "colab": {
          "base_uri": "https://localhost:8080/",
          "height": 221
        }
      },
      "cell_type": "code",
      "source": [
        "stanmodelcode <- \"\n",
        "data {\n",
        "    int<lower=0> N; \n",
        "    real y[N];\n",
        "}\n",
        "\n",
        "parameters {\n",
        "    real mu; \n",
        "\n",
        "}\n",
        "\n",
        "model {\n",
        "    target += normal_lpdf(mu | 0, 10);\n",
        "    target += normal_lpdf(y | mu, 1);\n",
        "}\"\n",
        "\n",
        "y <- rnorm(20)\n",
        "dat <- list(N = 20, y = y);\n",
        "\n",
        "fit <- stan(model_code = stanmodelcode, model_name = \"example\",\n",
        "            data = dat, iter = 2012, chains = 8, sample_file = 'norm.csv',\n",
        "            verbose = FALSE,\n",
        "            refresh = -1)\n",
        "\n",
        "print(fit)"
      ],
      "execution_count": 0,
      "outputs": [
        {
          "output_type": "stream",
          "text": [
            "Inference for Stan model: example.\n",
            "8 chains, each with iter=2012; warmup=1006; thin=1; \n",
            "post-warmup draws per chain=1006, total post-warmup draws=8048.\n",
            "\n",
            "       mean se_mean   sd   2.5%    25%    50%    75%  97.5% n_eff Rhat\n",
            "mu     0.21    0.00 0.23  -0.24   0.06   0.21   0.36   0.66  2833    1\n",
            "lp__ -25.62    0.01 0.74 -27.76 -25.78 -25.33 -25.16 -25.11  3247    1\n",
            "\n",
            "Samples were drawn using NUTS(diag_e) at Sat Jan 19 12:24:00 2019.\n",
            "For each parameter, n_eff is a crude measure of effective sample size,\n",
            "and Rhat is the potential scale reduction factor on split chains (at \n",
            "convergence, Rhat=1).\n"
          ],
          "name": "stdout"
        }
      ]
    },
    {
      "metadata": {
        "id": "GKu9Y8v0iMhG",
        "colab_type": "code",
        "outputId": "02ba5dca-0ffb-4b1c-8e02-7a6c0fa80dd4",
        "colab": {
          "base_uri": "https://localhost:8080/",
          "height": 411
        }
      },
      "cell_type": "code",
      "source": [
        "plot(fit)"
      ],
      "execution_count": 0,
      "outputs": [
        {
          "output_type": "stream",
          "text": [
            "ci_level: 0.8 (80% intervals)\n",
            "outer_level: 0.95 (95% intervals)\n"
          ],
          "name": "stderr"
        },
        {
          "output_type": "display_data",
          "data": {},
          "metadata": {
            "tags": []
          }
        },
        {
          "output_type": "display_data",
          "data": {
            "image/png": "[encoded data removed]",
            "text/plain": [
              "plot without title"
            ]
          },
          "metadata": {
            "tags": []
          }
        }
      ]
    },
    {
      "metadata": {
        "id": "LaY0bTArk6yo",
        "colab_type": "code",
        "outputId": "f6462303-f9dc-4a57-a55f-7e5b180ef905",
        "colab": {
          "base_uri": "https://localhost:8080/",
          "height": 51
        }
      },
      "cell_type": "code",
      "source": [
        "y <- as.matrix(read.table('https://raw.github.com/wiki/stan-dev/rstan/rats.txt', header = TRUE))\n",
        "x <- c(8, 15, 22, 29, 36)\n",
        "xbar <- mean(x)\n",
        "N <- nrow(y)\n",
        "T <- ncol(y)\n",
        "rats_fit <- stan(file = 'https://raw.githubusercontent.com/stan-dev/example-models/master/bugs_examples/vol1/rats/rats.stan')\n"
      ],
      "execution_count": 0,
      "outputs": [
        {
          "output_type": "stream",
          "text": [
            "Warning message in normalizePath(file):\n",
            "“path[1]=\"https://raw.githubusercontent.com/stan-dev/example-models/master/bugs_examples/vol1/rats/rats.stan\": No such file or directory”"
          ],
          "name": "stderr"
        }
      ]
    },
    {
      "metadata": {
        "id": "_FDcLeSQk7v4",
        "colab_type": "code",
        "outputId": "55d7f5eb-5ae4-4131-8d3a-33825f8a897c",
        "colab": {
          "base_uri": "https://localhost:8080/",
          "height": 2584
        }
      },
      "cell_type": "code",
      "source": [
        "rats_fit"
      ],
      "execution_count": 0,
      "outputs": [
        {
          "output_type": "display_data",
          "data": {
            "text/plain": [
              "Inference for Stan model: rats.\n",
              "4 chains, each with iter=2000; warmup=1000; thin=1; \n",
              "post-warmup draws per chain=1000, total post-warmup draws=4000.\n",
              "\n",
              "                 mean se_mean    sd    2.5%     25%     50%     75%   97.5%\n",
              "alpha[1]       239.82    0.04  2.70  234.52  237.94  239.80  241.65  245.17\n",
              "alpha[2]       247.78    0.04  2.68  242.59  245.97  247.78  249.58  252.91\n",
              "alpha[3]       252.43    0.04  2.74  246.91  250.62  252.48  254.24  257.73\n",
              "alpha[4]       232.58    0.04  2.73  227.29  230.73  232.60  234.44  237.93\n",
              "alpha[5]       231.59    0.04  2.71  226.40  229.76  231.58  233.43  236.95\n",
              "alpha[6]       249.79    0.04  2.63  244.39  248.10  249.77  251.50  254.90\n",
              "alpha[7]       228.65    0.04  2.63  223.48  226.93  228.66  230.43  233.79\n",
              "alpha[8]       248.37    0.04  2.66  243.23  246.54  248.34  250.16  253.57\n",
              "alpha[9]       283.24    0.04  2.69  277.92  281.47  283.23  284.96  288.59\n",
              "alpha[10]      219.25    0.04  2.68  213.87  217.54  219.26  220.95  224.45\n",
              "alpha[11]      258.22    0.04  2.66  252.79  256.42  258.25  259.98  263.61\n",
              "alpha[12]      228.11    0.04  2.59  223.02  226.34  228.14  229.89  233.16\n",
              "alpha[13]      242.47    0.04  2.64  237.15  240.72  242.49  244.19  247.66\n",
              "alpha[14]      268.30    0.04  2.81  262.72  266.40  268.25  270.23  273.90\n",
              "alpha[15]      242.77    0.04  2.74  237.35  240.96  242.72  244.62  248.20\n",
              "alpha[16]      245.31    0.04  2.63  240.24  243.49  245.28  247.05  250.60\n",
              "alpha[17]      232.22    0.04  2.70  226.98  230.46  232.21  234.01  237.70\n",
              "alpha[18]      240.45    0.04  2.61  235.38  238.67  240.42  242.19  245.49\n",
              "alpha[19]      253.76    0.04  2.73  248.40  251.97  253.71  255.57  259.22\n",
              "alpha[20]      241.64    0.04  2.70  236.23  239.84  241.61  243.50  247.02\n",
              "alpha[21]      248.54    0.04  2.62  243.38  246.74  248.53  250.31  253.77\n",
              "alpha[22]      225.20    0.04  2.71  219.71  223.37  225.23  226.99  230.66\n",
              "alpha[23]      228.53    0.04  2.70  223.09  226.72  228.54  230.35  233.82\n",
              "alpha[24]      245.11    0.04  2.67  239.85  243.32  245.15  246.87  250.37\n",
              "alpha[25]      234.46    0.04  2.69  229.29  232.65  234.49  236.25  239.75\n",
              "alpha[26]      254.00    0.04  2.62  248.83  252.25  254.01  255.81  259.14\n",
              "alpha[27]      254.37    0.04  2.73  248.87  252.57  254.42  256.22  259.75\n",
              "alpha[28]      242.98    0.04  2.61  237.73  241.26  242.99  244.73  248.04\n",
              "alpha[29]      217.89    0.04  2.69  212.57  216.09  217.93  219.72  223.20\n",
              "alpha[30]      241.41    0.04  2.69  236.16  239.59  241.40  243.18  246.71\n",
              "beta[1]          6.06    0.00  0.24    5.58    5.91    6.06    6.22    6.54\n",
              "beta[2]          7.05    0.00  0.25    6.53    6.88    7.04    7.22    7.54\n",
              "beta[3]          6.48    0.00  0.24    6.02    6.32    6.48    6.64    6.97\n",
              "beta[4]          5.34    0.00  0.25    4.86    5.17    5.34    5.52    5.83\n",
              "beta[5]          6.57    0.00  0.24    6.11    6.41    6.57    6.74    7.03\n",
              "beta[6]          6.17    0.00  0.24    5.70    6.02    6.18    6.33    6.63\n",
              "beta[7]          5.97    0.00  0.24    5.50    5.82    5.97    6.14    6.44\n",
              "beta[8]          6.41    0.00  0.25    5.93    6.25    6.42    6.57    6.91\n",
              "beta[9]          7.05    0.00  0.25    6.55    6.88    7.05    7.22    7.54\n",
              "beta[10]         5.85    0.00  0.25    5.36    5.68    5.85    6.02    6.34\n",
              "beta[11]         6.80    0.00  0.25    6.32    6.63    6.79    6.97    7.30\n",
              "beta[12]         6.12    0.00  0.24    5.64    5.96    6.12    6.28    6.59\n",
              "beta[13]         6.16    0.00  0.24    5.69    6.00    6.16    6.32    6.66\n",
              "beta[14]         6.69    0.00  0.24    6.21    6.53    6.69    6.85    7.18\n",
              "beta[15]         5.42    0.00  0.26    4.92    5.25    5.42    5.60    5.92\n",
              "beta[16]         5.92    0.00  0.24    5.44    5.76    5.92    6.09    6.39\n",
              "beta[17]         6.27    0.00  0.24    5.81    6.11    6.28    6.43    6.73\n",
              "beta[18]         5.85    0.00  0.24    5.38    5.69    5.85    6.01    6.33\n",
              "beta[19]         6.41    0.00  0.25    5.91    6.25    6.41    6.57    6.88\n",
              "beta[20]         6.06    0.00  0.23    5.60    5.90    6.05    6.22    6.51\n",
              "beta[21]         6.40    0.00  0.23    5.94    6.24    6.40    6.56    6.86\n",
              "beta[22]         5.86    0.00  0.24    5.39    5.70    5.86    6.02    6.33\n",
              "beta[23]         5.75    0.00  0.25    5.27    5.58    5.75    5.91    6.24\n",
              "beta[24]         5.89    0.00  0.24    5.42    5.73    5.89    6.06    6.36\n",
              "beta[25]         6.90    0.00  0.25    6.42    6.74    6.90    7.08    7.39\n",
              "beta[26]         6.55    0.00  0.24    6.08    6.39    6.55    6.72    7.04\n",
              "beta[27]         5.90    0.00  0.25    5.41    5.74    5.90    6.06    6.38\n",
              "beta[28]         5.84    0.00  0.24    5.38    5.68    5.84    6.01    6.31\n",
              "beta[29]         5.67    0.00  0.25    5.19    5.50    5.67    5.84    6.16\n",
              "beta[30]         6.13    0.00  0.24    5.69    5.97    6.13    6.30    6.60\n",
              "mu_alpha       242.47    0.04  2.75  236.97  240.69  242.50  244.29  247.73\n",
              "mu_beta          6.19    0.00  0.11    5.98    6.12    6.19    6.26    6.40\n",
              "sigmasq_y       37.29    0.11  5.79   27.75   33.09   36.80   40.78   50.16\n",
              "sigmasq_alpha  217.83    1.02 64.50  126.32  173.09  207.36  249.94  371.77\n",
              "sigmasq_beta     0.27    0.00  0.10    0.12    0.20    0.26    0.32    0.50\n",
              "sigma_y          6.09    0.01  0.47    5.27    5.75    6.07    6.39    7.08\n",
              "sigma_alpha     14.61    0.03  2.08   11.24   13.16   14.40   15.81   19.28\n",
              "sigma_beta       0.51    0.00  0.09    0.35    0.45    0.51    0.57    0.71\n",
              "alpha0         106.33    0.06  3.60   99.21  103.94  106.34  108.76  113.20\n",
              "lp__          -438.18    0.19  7.03 -453.68 -442.56 -437.81 -433.29 -425.92\n",
              "              n_eff Rhat\n",
              "alpha[1]       4000    1\n",
              "alpha[2]       4000    1\n",
              "alpha[3]       4000    1\n",
              "alpha[4]       4000    1\n",
              "alpha[5]       4000    1\n",
              "alpha[6]       4000    1\n",
              "alpha[7]       4000    1\n",
              "alpha[8]       4000    1\n",
              "alpha[9]       4000    1\n",
              "alpha[10]      4000    1\n",
              "alpha[11]      4000    1\n",
              "alpha[12]      4000    1\n",
              "alpha[13]      4000    1\n",
              "alpha[14]      4000    1\n",
              "alpha[15]      4000    1\n",
              "alpha[16]      4000    1\n",
              "alpha[17]      4000    1\n",
              "alpha[18]      4000    1\n",
              "alpha[19]      4000    1\n",
              "alpha[20]      4000    1\n",
              "alpha[21]      4000    1\n",
              "alpha[22]      4000    1\n",
              "alpha[23]      4000    1\n",
              "alpha[24]      4000    1\n",
              "alpha[25]      4000    1\n",
              "alpha[26]      4000    1\n",
              "alpha[27]      4000    1\n",
              "alpha[28]      4000    1\n",
              "alpha[29]      4000    1\n",
              "alpha[30]      4000    1\n",
              "beta[1]        4000    1\n",
              "beta[2]        4000    1\n",
              "beta[3]        4000    1\n",
              "beta[4]        4000    1\n",
              "beta[5]        4000    1\n",
              "beta[6]        4000    1\n",
              "beta[7]        4000    1\n",
              "beta[8]        4000    1\n",
              "beta[9]        4000    1\n",
              "beta[10]       4000    1\n",
              "beta[11]       4000    1\n",
              "beta[12]       4000    1\n",
              "beta[13]       4000    1\n",
              "beta[14]       4000    1\n",
              "beta[15]       4000    1\n",
              "beta[16]       4000    1\n",
              "beta[17]       4000    1\n",
              "beta[18]       4000    1\n",
              "beta[19]       4000    1\n",
              "beta[20]       4000    1\n",
              "beta[21]       4000    1\n",
              "beta[22]       4000    1\n",
              "beta[23]       4000    1\n",
              "beta[24]       4000    1\n",
              "beta[25]       4000    1\n",
              "beta[26]       4000    1\n",
              "beta[27]       4000    1\n",
              "beta[28]       4000    1\n",
              "beta[29]       4000    1\n",
              "beta[30]       4000    1\n",
              "mu_alpha       4000    1\n",
              "mu_beta        4000    1\n",
              "sigmasq_y      2571    1\n",
              "sigmasq_alpha  4000    1\n",
              "sigmasq_beta   3392    1\n",
              "sigma_y        2584    1\n",
              "sigma_alpha    4000    1\n",
              "sigma_beta     3366    1\n",
              "alpha0         4000    1\n",
              "lp__           1335    1\n",
              "\n",
              "Samples were drawn using NUTS(diag_e) at Sat Jan 19 12:25:00 2019.\n",
              "For each parameter, n_eff is a crude measure of effective sample size,\n",
              "and Rhat is the potential scale reduction factor on split chains (at \n",
              "convergence, Rhat=1)."
            ]
          },
          "metadata": {
            "tags": []
          }
        }
      ]
    },
    {
      "metadata": {
        "id": "UTE9jjocnOL1",
        "colab_type": "code",
        "outputId": "e19e26ed-66b9-4f48-95ca-84fc3fbd0e6b",
        "colab": {
          "base_uri": "https://localhost:8080/",
          "height": 428
        }
      },
      "cell_type": "code",
      "source": [
        "plot(rats_fit)"
      ],
      "execution_count": 0,
      "outputs": [
        {
          "output_type": "stream",
          "text": [
            "'pars' not specified. Showing first 10 parameters by default.\n",
            "ci_level: 0.8 (80% intervals)\n",
            "outer_level: 0.95 (95% intervals)\n"
          ],
          "name": "stderr"
        },
        {
          "output_type": "display_data",
          "data": {},
          "metadata": {
            "tags": []
          }
        },
        {
          "output_type": "display_data",
          "data": {
            "image/png": "[encoded data removed]",
            "text/plain": [
              "plot without title"
            ]
          },
          "metadata": {
            "tags": []
          }
        }
      ]
    },
    {
      "metadata": {
        "id": "RTwsDP44nV7m",
        "colab_type": "code",
        "outputId": "f3a7e77a-9a38-45c0-fe34-a7370e75469a",
        "colab": {
          "base_uri": "https://localhost:8080/",
          "height": 85
        }
      },
      "cell_type": "code",
      "source": [
        "install.packages('recommenderlab', repos='http://cran.rstudio.com/')\n"
      ],
      "execution_count": 0,
      "outputs": [
        {
          "output_type": "stream",
          "text": [
            "also installing the dependencies ‘arules’, ‘proxy’, ‘registry’, ‘irlba’\n",
            "\n",
            "Updating HTML index of packages in '.Library'\n",
            "Making 'packages.html' ... done\n"
          ],
          "name": "stderr"
        }
      ]
    },
    {
      "metadata": {
        "id": "hIdkBxvOEs8o",
        "colab_type": "code",
        "outputId": "bb4c70c0-7350-46c5-df26-cd82a7003894",
        "colab": {
          "base_uri": "https://localhost:8080/",
          "height": 459
        }
      },
      "cell_type": "code",
      "source": [
        "library(\"recommenderlab\") "
      ],
      "execution_count": 0,
      "outputs": [
        {
          "output_type": "stream",
          "text": [
            "Loading required package: Matrix\n",
            "Loading required package: arules\n",
            "\n",
            "Attaching package: ‘arules’\n",
            "\n",
            "The following objects are masked from ‘package:base’:\n",
            "\n",
            "    abbreviate, write\n",
            "\n",
            "Loading required package: proxy\n",
            "\n",
            "Attaching package: ‘proxy’\n",
            "\n",
            "The following object is masked from ‘package:Matrix’:\n",
            "\n",
            "    as.matrix\n",
            "\n",
            "The following objects are masked from ‘package:stats’:\n",
            "\n",
            "    as.dist, dist\n",
            "\n",
            "The following object is masked from ‘package:base’:\n",
            "\n",
            "    as.matrix\n",
            "\n",
            "Loading required package: registry\n"
          ],
          "name": "stderr"
        }
      ]
    },
    {
      "metadata": {
        "id": "CNmtnikVE3nX",
        "colab_type": "code",
        "colab": {}
      },
      "cell_type": "code",
      "source": [
        ""
      ],
      "execution_count": 0,
      "outputs": []
    }
  ]
}