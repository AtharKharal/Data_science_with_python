{
  "nbformat": 4,
  "nbformat_minor": 0,
  "metadata": {
    "colab": {
      "name": "workflow_automl.ipynb",
      "version": "0.3.2",
      "provenance": [],
      "collapsed_sections": [
        "qHdfPH7P9ynm",
        "jWtUHUS733BG",
        "FqlgwuYg2o9V",
        "rnQBBhffiAdH"
      ],
      "include_colab_link": true
    },
    "kernelspec": {
      "name": "python3",
      "display_name": "Python 3"
    }
  },
  "cells": [
    {
      "cell_type": "markdown",
      "metadata": {
        "id": "view-in-github",
        "colab_type": "text"
      },
      "source": [
        "<a href=\"https://colab.research.google.com/github/AtharKharal/Data_science_with_python/blob/master/workflow_automl.ipynb\" target=\"_parent\"><img src=\"https://colab.research.google.com/assets/colab-badge.svg\" alt=\"Open In Colab\"/></a>"
      ]
    },
    {
      "metadata": {
        "id": "lpnaRvXDhZDp",
        "colab_type": "code",
        "colab": {}
      },
      "cell_type": "code",
      "source": [
        "import numpy as np\n",
        "import pandas as pd"
      ],
      "execution_count": 0,
      "outputs": []
    },
    {
      "metadata": {
        "id": "qHdfPH7P9ynm",
        "colab_type": "text"
      },
      "cell_type": "markdown",
      "source": [
        "#Data Reading"
      ]
    },
    {
      "metadata": {
        "id": "0zuQDoJHhcRH",
        "colab_type": "code",
        "colab": {}
      },
      "cell_type": "code",
      "source": [
        "# Go to the CSV file in Google Drive, right-click on it and select \n",
        "# “Get shareable link”. The link will be copied into your clipboard. \n",
        "# Paste this link into following a string variable i.e. link:\n",
        "\n",
        "link = 'https://drive.google.com/open?id=1SFqRrx4zqqud34_swwrLl5FHm6IFjNQD'  # The shareable link\n",
        "\n",
        "# Code to read csv file into Colaboratory:\n",
        "!pip install -U -q PyDrive\n",
        "from pydrive.auth import GoogleAuth\n",
        "from pydrive.drive import GoogleDrive\n",
        "from google.colab import auth\n",
        "from oauth2client.client import GoogleCredentials\n",
        "# Authenticate and create the PyDrive client.\n",
        "auth.authenticate_user()\n",
        "gauth = GoogleAuth()\n",
        "gauth.credentials = GoogleCredentials.get_application_default()\n",
        "drive = GoogleDrive(gauth)\n",
        "\n",
        "\n",
        "fluff, id = link.split('=')   # Verify that you have everything after '=' by using print(id)\n",
        "\n",
        "# Finally reading the data into a dataframe\n",
        "\n",
        "downloaded = drive.CreateFile({'id':id}) \n",
        "downloaded.GetContentFile('dummy_file_name.csv')  \n",
        "df1 = pd.read_csv('dummy_file_name.csv')"
      ],
      "execution_count": 0,
      "outputs": []
    },
    {
      "metadata": {
        "id": "GtuNjYRojF6e",
        "colab_type": "code",
        "outputId": "9a4b34d9-fcce-48fe-deba-566728a47335",
        "colab": {
          "base_uri": "https://localhost:8080/",
          "height": 204
        }
      },
      "cell_type": "code",
      "source": [
        "target=df1['Survived']\n",
        "df1=df1.drop(labels='Survived',axis=1)\n",
        "df1.head()"
      ],
      "execution_count": 0,
      "outputs": [
        {
          "output_type": "execute_result",
          "data": {
            "text/html": [
              "<div>\n",
              "<style scoped>\n",
              "    .dataframe tbody tr th:only-of-type {\n",
              "        vertical-align: middle;\n",
              "    }\n",
              "\n",
              "    .dataframe tbody tr th {\n",
              "        vertical-align: top;\n",
              "    }\n",
              "\n",
              "    .dataframe thead th {\n",
              "        text-align: right;\n",
              "    }\n",
              "</style>\n",
              "<table border=\"1\" class=\"dataframe\">\n",
              "  <thead>\n",
              "    <tr style=\"text-align: right;\">\n",
              "      <th></th>\n",
              "      <th>Sex</th>\n",
              "      <th>Age</th>\n",
              "      <th>FamilySize</th>\n",
              "      <th>FamilyOneSurvived</th>\n",
              "      <th>FamilyAllDied</th>\n",
              "      <th>FareAdj</th>\n",
              "    </tr>\n",
              "  </thead>\n",
              "  <tbody>\n",
              "    <tr>\n",
              "      <th>0</th>\n",
              "      <td>0</td>\n",
              "      <td>0.2750</td>\n",
              "      <td>0.181818</td>\n",
              "      <td>0</td>\n",
              "      <td>1</td>\n",
              "      <td>7.25000</td>\n",
              "    </tr>\n",
              "    <tr>\n",
              "      <th>1</th>\n",
              "      <td>1</td>\n",
              "      <td>0.4750</td>\n",
              "      <td>0.181818</td>\n",
              "      <td>0</td>\n",
              "      <td>0</td>\n",
              "      <td>35.64165</td>\n",
              "    </tr>\n",
              "    <tr>\n",
              "      <th>2</th>\n",
              "      <td>1</td>\n",
              "      <td>0.3250</td>\n",
              "      <td>0.090909</td>\n",
              "      <td>0</td>\n",
              "      <td>0</td>\n",
              "      <td>7.92500</td>\n",
              "    </tr>\n",
              "    <tr>\n",
              "      <th>3</th>\n",
              "      <td>1</td>\n",
              "      <td>0.4375</td>\n",
              "      <td>0.181818</td>\n",
              "      <td>0</td>\n",
              "      <td>1</td>\n",
              "      <td>26.55000</td>\n",
              "    </tr>\n",
              "    <tr>\n",
              "      <th>4</th>\n",
              "      <td>0</td>\n",
              "      <td>0.4375</td>\n",
              "      <td>0.090909</td>\n",
              "      <td>1</td>\n",
              "      <td>0</td>\n",
              "      <td>8.05000</td>\n",
              "    </tr>\n",
              "  </tbody>\n",
              "</table>\n",
              "</div>"
            ],
            "text/plain": [
              "   Sex     Age  FamilySize  FamilyOneSurvived  FamilyAllDied   FareAdj\n",
              "0    0  0.2750    0.181818                  0              1   7.25000\n",
              "1    1  0.4750    0.181818                  0              0  35.64165\n",
              "2    1  0.3250    0.090909                  0              0   7.92500\n",
              "3    1  0.4375    0.181818                  0              1  26.55000\n",
              "4    0  0.4375    0.090909                  1              0   8.05000"
            ]
          },
          "metadata": {
            "tags": []
          },
          "execution_count": 3
        }
      ]
    },
    {
      "metadata": {
        "id": "jWtUHUS733BG",
        "colab_type": "text"
      },
      "cell_type": "markdown",
      "source": [
        "#featuretools"
      ]
    },
    {
      "metadata": {
        "id": "q-xxwL0h4e1G",
        "colab_type": "code",
        "colab": {}
      },
      "cell_type": "code",
      "source": [
        "#================== Installing featuretools and its compatibilities   #numpy==1.14.6\n",
        "\n",
        "#!pip install tornado==4.5.3 featuretools==0.6.1 pandas==0.24.1\n"
      ],
      "execution_count": 0,
      "outputs": []
    },
    {
      "metadata": {
        "id": "B_8-oXgP5alm",
        "colab_type": "code",
        "colab": {}
      },
      "cell_type": "code",
      "source": [
        "import featuretools as ft\n",
        "\n",
        "#import featuretools.variable_types as vt"
      ],
      "execution_count": 0,
      "outputs": []
    },
    {
      "metadata": {
        "id": "-OpXHy8W32J2",
        "colab_type": "code",
        "outputId": "34a7028c-68fa-43af-dc28-62b0b91d9a05",
        "colab": {
          "base_uri": "https://localhost:8080/",
          "height": 102
        }
      },
      "cell_type": "code",
      "source": [
        "df1['df_index']= np.arange(df1.shape[0])\n",
        "es = ft.EntitySet(id='myEntitySet_id')\n",
        "es.entity_from_dataframe(dataframe=df1,\n",
        "                         entity_id='df1_id',\n",
        "                         index='df_index'\n",
        "                        )\n",
        "#es.normalize_entity(base_entity_id='df1_id', new_entity_id='df2_id', index= 'Sex' )"
      ],
      "execution_count": 0,
      "outputs": [
        {
          "output_type": "execute_result",
          "data": {
            "text/plain": [
              "Entityset: myEntitySet_id\n",
              "  Entities:\n",
              "    df1_id [Rows: 891, Columns: 7]\n",
              "  Relationships:\n",
              "    No relationships"
            ]
          },
          "metadata": {
            "tags": []
          },
          "execution_count": 22
        }
      ]
    },
    {
      "metadata": {
        "id": "DpKVpEzi41af",
        "colab_type": "code",
        "outputId": "fc3246bd-0df2-41a7-ed76-4d85fb318b19",
        "colab": {
          "base_uri": "https://localhost:8080/",
          "height": 51
        }
      },
      "cell_type": "code",
      "source": [
        "fm, features = ft.dfs(entityset=es, target_entity='df1_id',\n",
        "                      verbose = True                        \n",
        "                     )"
      ],
      "execution_count": 0,
      "outputs": [
        {
          "output_type": "stream",
          "text": [
            "Built 6 features\n",
            "Elapsed: 00:03 | Remaining: 00:00 | Progress: 100%|██████████| Calculated: 11/11 chunks\n"
          ],
          "name": "stdout"
        }
      ]
    },
    {
      "metadata": {
        "id": "DOIV17vb_0Cm",
        "colab_type": "code",
        "outputId": "5522b9d9-90b5-4bf4-edb9-593b85e0b696",
        "colab": {
          "base_uri": "https://localhost:8080/",
          "height": 119
        }
      },
      "cell_type": "code",
      "source": [
        "features"
      ],
      "execution_count": 0,
      "outputs": [
        {
          "output_type": "execute_result",
          "data": {
            "text/plain": [
              "[<Feature: Sex>,\n",
              " <Feature: Age>,\n",
              " <Feature: FamilySize>,\n",
              " <Feature: FamilyOneSurvived>,\n",
              " <Feature: FamilyAllDied>,\n",
              " <Feature: FareAdj>]"
            ]
          },
          "metadata": {
            "tags": []
          },
          "execution_count": 24
        }
      ]
    },
    {
      "metadata": {
        "id": "FqlgwuYg2o9V",
        "colab_type": "text"
      },
      "cell_type": "markdown",
      "source": [
        "#TPOT"
      ]
    },
    {
      "metadata": {
        "id": "E0PzPu9Ehhsu",
        "colab_type": "code",
        "colab": {}
      },
      "cell_type": "code",
      "source": [
        "!pip install tpot"
      ],
      "execution_count": 0,
      "outputs": []
    },
    {
      "metadata": {
        "id": "sf7_wsHThijv",
        "colab_type": "code",
        "colab": {}
      },
      "cell_type": "code",
      "source": [
        "import sklearn.model_selection\n",
        "import tpot"
      ],
      "execution_count": 0,
      "outputs": []
    },
    {
      "metadata": {
        "id": "0gGI_mR1hnye",
        "colab_type": "code",
        "colab": {}
      },
      "cell_type": "code",
      "source": [
        "X, y = df1 , target\n",
        "\n",
        "#X_train, X_test, y_train, y_test = sklearn.model_selection.train_test_split(X, y)\n",
        "\n",
        "tpot = tpot.TPOTClassifier(generations=100, population_size=100, verbosity=2, \n",
        "                           n_jobs = -1, cv=5, config_dict='TPOT light'\n",
        "                          )\n",
        "\n",
        "# many more parameters may be set as follows:\n",
        "# scoring = 'neg_mean_absolute_error', max_time_mins = 480, n_jobs = -1,\n",
        "# cv = 5, config_dict='TPOT light'\n",
        "\n",
        "tpot.fit(X, y)"
      ],
      "execution_count": 0,
      "outputs": []
    },
    {
      "metadata": {
        "id": "zpXoMzmpho45",
        "colab_type": "code",
        "outputId": "e6f71af6-0527-49b7-c969-062e7b8853fc",
        "colab": {
          "base_uri": "https://localhost:8080/",
          "height": 34
        }
      },
      "cell_type": "code",
      "source": [
        "print(tpot.score(X_test, y_test))\n",
        "#y_hat = tpot.predict(X_test)"
      ],
      "execution_count": 0,
      "outputs": [
        {
          "output_type": "stream",
          "text": [
            "0.8430493273542601\n"
          ],
          "name": "stdout"
        }
      ]
    },
    {
      "metadata": {
        "id": "eWE7q-REhuJB",
        "colab_type": "code",
        "colab": {}
      },
      "cell_type": "code",
      "source": [
        "tpot.export(\"titanic_ppl2.py\")"
      ],
      "execution_count": 0,
      "outputs": []
    },
    {
      "metadata": {
        "id": "rnQBBhffiAdH",
        "colab_type": "text"
      },
      "cell_type": "markdown",
      "source": [
        "#auto-sklearn"
      ]
    },
    {
      "metadata": {
        "id": "W0-XjmBg-KIw",
        "colab_type": "code",
        "colab": {}
      },
      "cell_type": "code",
      "source": [
        "#================== Installing auto-sklearn on colab\n",
        "#!sudo apt-get install build-essential swig\n",
        "#!curl https://raw.githubusercontent.com/automl/auto-sklearn/master/requirements.txt | xargs -n 1 -L 1 pip install\n",
        "#!pip install auto-sklearn"
      ],
      "execution_count": 0,
      "outputs": []
    },
    {
      "metadata": {
        "id": "yjdbhwsiiIQ_",
        "colab_type": "code",
        "colab": {}
      },
      "cell_type": "code",
      "source": [
        "import autosklearn.classification\n",
        "import sklearn.model_selection\n",
        "import sklearn.datasets\n",
        "import sklearn.metrics"
      ],
      "execution_count": 0,
      "outputs": []
    },
    {
      "metadata": {
        "id": "_1_D2WsxiMfv",
        "colab_type": "code",
        "outputId": "05b3c573-b83a-4b1d-9b71-848c9a834ab7",
        "colab": {
          "base_uri": "https://localhost:8080/",
          "height": 102
        }
      },
      "cell_type": "code",
      "source": [
        "X, y = fm, target\n",
        "X_train, X_test, y_train, y_test = sklearn.model_selection.train_test_split(X, y, random_state=1)\n",
        "automl = autosklearn.classification.AutoSklearnClassifier()\n",
        "automl.fit(X_train, y_train )\n",
        "\n",
        "y_hat = automl.predict(X_test)\n",
        "\n",
        "print(\"Accuracy score\", sklearn.metrics.accuracy_score(y_test, y_hat))"
      ],
      "execution_count": 0,
      "outputs": [
        {
          "output_type": "stream",
          "text": [
            "[WARNING] [2019-03-12 13:08:51,426:EnsembleBuilder(1):fe25c0fdcc73562ab16c5ca7cb8053f3] No models better than random - using Dummy Score!\n",
            "[WARNING] [2019-03-12 13:08:51,435:EnsembleBuilder(1):fe25c0fdcc73562ab16c5ca7cb8053f3] No models better than random - using Dummy Score!\n",
            "[WARNING] [2019-03-12 13:08:53,600:smac.intensification.intensification.Intensifier] Challenger was the same as the current incumbent; Skipping challenger\n",
            "[WARNING] [2019-03-12 13:08:53,600:smac.intensification.intensification.Intensifier] Challenger was the same as the current incumbent; Skipping challenger\n",
            "Accuracy score 0.8071748878923767\n"
          ],
          "name": "stdout"
        }
      ]
    },
    {
      "metadata": {
        "id": "J7qxHcZv4Lom",
        "colab_type": "code",
        "colab": {}
      },
      "cell_type": "code",
      "source": [
        "automl.get_models_with_weights()"
      ],
      "execution_count": 0,
      "outputs": []
    },
    {
      "metadata": {
        "id": "KW3msvb8P8o5",
        "colab_type": "code",
        "colab": {}
      },
      "cell_type": "code",
      "source": [
        ""
      ],
      "execution_count": 0,
      "outputs": []
    }
  ]
}