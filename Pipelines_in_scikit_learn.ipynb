{
  "nbformat": 4,
  "nbformat_minor": 0,
  "metadata": {
    "colab": {
      "name": "Pipelines in scikit-learn.ipynb",
      "version": "0.3.2",
      "provenance": [],
      "collapsed_sections": [],
      "include_colab_link": true
    },
    "kernelspec": {
      "name": "python3",
      "display_name": "Python 3"
    }
  },
  "cells": [
    {
      "cell_type": "markdown",
      "metadata": {
        "id": "view-in-github",
        "colab_type": "text"
      },
      "source": [
        "<a href=\"https://colab.research.google.com/github/AtharKharal/Data_science_with_python/blob/dev-branch/Pipelines_in_scikit_learn.ipynb\" target=\"_parent\"><img src=\"https://colab.research.google.com/assets/colab-badge.svg\" alt=\"Open In Colab\"/></a>"
      ]
    },
    {
      "metadata": {
        "id": "BWTM_TV_lo1o",
        "colab_type": "code",
        "colab": {
          "base_uri": "https://localhost:8080/",
          "height": 222
        },
        "outputId": "5f62536f-c98c-4c0a-da97-ab452bd69ca7"
      },
      "cell_type": "code",
      "source": [
        "from sklearn.datasets import load_iris\n",
        "from sklearn.model_selection import train_test_split\n",
        "from sklearn.preprocessing import StandardScaler\n",
        "from sklearn.decomposition import PCA\n",
        "from sklearn.pipeline import Pipeline\n",
        "from sklearn.externals import joblib\n",
        "from sklearn.linear_model import LogisticRegression\n",
        "from sklearn import svm\n",
        "from sklearn import tree\n",
        "\n",
        "# Load and split the data\n",
        "iris = load_iris()\n",
        "X_train, X_test, y_train, y_test = train_test_split(iris.data, iris.target, test_size=0.2, random_state=42)\n",
        "\n",
        "# Construct some pipelines\n",
        "# A pipeline is basically a list of name-value tuples, as shown below\n",
        "\n",
        "pipe_lr = Pipeline([('scl', StandardScaler()),\n",
        "\t\t\t('pca', PCA(n_components=2)),\n",
        "\t\t\t('clf', LogisticRegression(random_state=42))])\n",
        "\n",
        "pipe_svm = Pipeline([('scl', StandardScaler()),\n",
        "\t\t\t('pca', PCA(n_components=2)),\n",
        "\t\t\t('clf', svm.SVC(random_state=42))])\n",
        "\t\t\t\n",
        "pipe_dt = Pipeline([('scl', StandardScaler()),\n",
        "\t\t\t('pca', PCA(n_components=2)),\n",
        "\t\t\t('clf', tree.DecisionTreeClassifier(random_state=42))])\n",
        "\n",
        "# List of pipelines for ease of iteration\n",
        "pipelines = [pipe_lr, pipe_svm, pipe_dt]\n",
        "\t\t\t\n",
        "# Dictionary of pipelines and classifier types for ease of reference\n",
        "pipe_dict = {0: 'Logistic Regression', 1: 'Support Vector Machine', 2: 'Decision Tree'}\n",
        "\n",
        "# Fit the pipelines\n",
        "for pipe in pipelines:\n",
        "\tpipe.fit(X_train, y_train)\n",
        "\n",
        "# Compare accuracies\n",
        "for idx, val in enumerate(pipelines):\n",
        "\tprint('%s pipeline test accuracy: %.3f' % (pipe_dict[idx], val.score(X_test, y_test)))\n",
        "\n",
        "# Identify the most accurate model on test data\n",
        "best_acc = 0.0\n",
        "best_clf = 0\n",
        "best_pipe = ''\n",
        "for idx, val in enumerate(pipelines):\n",
        "\tif val.score(X_test, y_test) > best_acc:\n",
        "\t\tbest_acc = val.score(X_test, y_test)\n",
        "\t\tbest_pipe = val\n",
        "\t\tbest_clf = idx\n",
        "print('Classifier with best accuracy: %s' % pipe_dict[best_clf])\n",
        "\n",
        "# Save pipeline to file\n",
        "joblib.dump(best_pipe, 'best_pipeline.pkl', compress=1)\n",
        "print('Saved %s pipeline to file' % pipe_dict[best_clf])\n"
      ],
      "execution_count": 1,
      "outputs": [
        {
          "output_type": "stream",
          "text": [
            "Logistic Regression pipeline test accuracy: 0.933\n",
            "Support Vector Machine pipeline test accuracy: 0.900\n",
            "Decision Tree pipeline test accuracy: 0.867\n",
            "Classifier with best accuracy: Logistic Regression\n",
            "Saved Logistic Regression pipeline to file\n"
          ],
          "name": "stdout"
        },
        {
          "output_type": "stream",
          "text": [
            "/usr/local/lib/python3.6/dist-packages/sklearn/linear_model/logistic.py:433: FutureWarning: Default solver will be changed to 'lbfgs' in 0.22. Specify a solver to silence this warning.\n",
            "  FutureWarning)\n",
            "/usr/local/lib/python3.6/dist-packages/sklearn/linear_model/logistic.py:460: FutureWarning: Default multi_class will be changed to 'auto' in 0.22. Specify the multi_class option to silence this warning.\n",
            "  \"this warning.\", FutureWarning)\n",
            "/usr/local/lib/python3.6/dist-packages/sklearn/svm/base.py:196: FutureWarning: The default value of gamma will change from 'auto' to 'scale' in version 0.22 to account better for unscaled features. Set gamma explicitly to 'auto' or 'scale' to avoid this warning.\n",
            "  \"avoid this warning.\", FutureWarning)\n"
          ],
          "name": "stderr"
        }
      ]
    }
  ]
}