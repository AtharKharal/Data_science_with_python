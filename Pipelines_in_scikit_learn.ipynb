{
  "nbformat": 4,
  "nbformat_minor": 0,
  "metadata": {
    "colab": {
      "name": "Pipelines in scikit-learn.ipynb",
      "version": "0.3.2",
      "provenance": [],
      "collapsed_sections": [],
      "include_colab_link": true
    },
    "kernelspec": {
      "name": "python3",
      "display_name": "Python 3"
    }
  },
  "cells": [
    {
      "cell_type": "markdown",
      "metadata": {
        "id": "view-in-github",
        "colab_type": "text"
      },
      "source": [
        "<a href=\"https://colab.research.google.com/github/AtharKharal/Data_science_with_python/blob/dev-branch/Pipelines_in_scikit_learn.ipynb\" target=\"_parent\"><img src=\"https://colab.research.google.com/assets/colab-badge.svg\" alt=\"Open In Colab\"/></a>"
      ]
    },
    {
      "metadata": {
        "id": "U28NHu7UwyG6",
        "colab_type": "text"
      },
      "cell_type": "markdown",
      "source": [
        "#Pipeline with GridSearch"
      ]
    },
    {
      "metadata": {
        "id": "sylbHV-gwJF6",
        "colab_type": "code",
        "colab": {
          "base_uri": "https://localhost:8080/",
          "height": 138
        },
        "outputId": "320e750c-cd83-4a2e-9ea1-61b135066652"
      },
      "cell_type": "code",
      "source": [
        "from sklearn.datasets import load_iris\n",
        "from sklearn.model_selection import train_test_split\n",
        "from sklearn.preprocessing import StandardScaler\n",
        "from sklearn.decomposition import PCA\n",
        "from sklearn.pipeline import Pipeline\n",
        "from sklearn.model_selection import GridSearchCV\n",
        "from sklearn import tree\n",
        "\n",
        "# Load and split the data\n",
        "iris = load_iris()\n",
        "X_train, X_test, y_train, y_test = train_test_split(iris.data, iris.target, test_size=0.2, random_state=42)\n",
        "\n",
        "# Construct pipeline\n",
        "# A pipeline is basically a list of name-value tuples, as shown below\n",
        "pipe = Pipeline([('scl', StandardScaler()),\n",
        "\t\t\t('pca', PCA(n_components=2)),\n",
        "\t\t\t('clf', tree.DecisionTreeClassifier(random_state=42))])\n",
        "\n",
        "param_range = [1, 2, 3, 4, 5]\n",
        "\n",
        "# Set grid search params\n",
        "grid_params = [{'clf__criterion': ['gini', 'entropy'],\n",
        "\t\t'clf__min_samples_leaf': param_range,\n",
        "\t\t'clf__max_depth': param_range,\n",
        "\t\t'clf__min_samples_split': param_range[1:],\n",
        "\t\t'clf__presort': [True, False]}]\n",
        "\n",
        "# Construct grid search\n",
        "gs = GridSearchCV(estimator=pipe,\n",
        "\t\t\tparam_grid=grid_params,\n",
        "\t\t\tscoring='accuracy',\n",
        "\t\t\tcv=10)\n",
        "\n",
        "# Fit using grid search\n",
        "gs.fit(X_train, y_train)\n",
        "\n",
        "# Best accuracy\n",
        "print('Best accuracy: %.3f' % gs.best_score_)\n",
        "\n",
        "# Best params\n",
        "print('\\nBest params:\\n', gs.best_params_)"
      ],
      "execution_count": 4,
      "outputs": [
        {
          "output_type": "stream",
          "text": [
            "Best accuracy: 0.925\n",
            "\n",
            "Best params:\n",
            " {'clf__criterion': 'gini', 'clf__max_depth': 2, 'clf__min_samples_leaf': 1, 'clf__min_samples_split': 2, 'clf__presort': True}\n"
          ],
          "name": "stdout"
        },
        {
          "output_type": "stream",
          "text": [
            "/usr/local/lib/python3.6/dist-packages/sklearn/model_selection/_search.py:841: DeprecationWarning: The default of the `iid` parameter will change from True to False in version 0.22 and will be removed in 0.24. This will change numeric results when test-set sizes are unequal.\n",
            "  DeprecationWarning)\n"
          ],
          "name": "stderr"
        }
      ]
    }
  ]
}