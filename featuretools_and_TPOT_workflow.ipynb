{
  "nbformat": 4,
  "nbformat_minor": 0,
  "metadata": {
    "colab": {
      "name": "featuretools and TPOT workflow.ipynb",
      "version": "0.3.2",
      "provenance": [],
      "collapsed_sections": [],
      "include_colab_link": true
    },
    "kernelspec": {
      "name": "python3",
      "display_name": "Python 3"
    }
  },
  "cells": [
    {
      "cell_type": "markdown",
      "metadata": {
        "id": "view-in-github",
        "colab_type": "text"
      },
      "source": [
        "<a href=\"https://colab.research.google.com/github/AtharKharal/Data_science_with_python/blob/dev-branch/featuretools_and_TPOT_workflow.ipynb\" target=\"_parent\"><img src=\"https://colab.research.google.com/assets/colab-badge.svg\" alt=\"Open In Colab\"/></a>"
      ]
    },
    {
      "metadata": {
        "id": "wtCP7HPn67Mr",
        "colab_type": "code",
        "colab": {}
      },
      "cell_type": "code",
      "source": [
        "import numpy as np\n",
        "import pandas as pd\n",
        "import featuretools as ft\n",
        "import sklearn as sk"
      ],
      "execution_count": 0,
      "outputs": []
    },
    {
      "metadata": {
        "id": "Xkm59w9ak1AH",
        "colab_type": "text"
      },
      "cell_type": "markdown",
      "source": [
        "#Using featuretools"
      ]
    },
    {
      "metadata": {
        "id": "nueNl49E7ciR",
        "colab_type": "code",
        "colab": {}
      },
      "cell_type": "code",
      "source": [
        "es = ft.EntitySet(\"mydata\")\n",
        "\n",
        "# Create an entity from the client dataframe\n",
        "# This dataframe already has an index and a time index col namely 'dt_time_col'\n",
        "es = es.entity_from_dataframe(entity_id = 'my_df_id', dataframe = my_df, \n",
        "                              index = 'idx_of_my_df', time_index = 'dt_time_col')\n",
        "\n",
        "\n",
        "# Perform deep feature synthesis without specifying primitives\n",
        "features, feature_names = ft.dfs(entityset=es, target_entity='my_df_id', \n",
        "                                 max_depth = 2)"
      ],
      "execution_count": 0,
      "outputs": []
    },
    {
      "metadata": {
        "id": "8Unqz6elkvCf",
        "colab_type": "text"
      },
      "cell_type": "markdown",
      "source": [
        "#Processing with TPOT"
      ]
    },
    {
      "metadata": {
        "id": "ikIbSEv9-UED",
        "colab_type": "code",
        "colab": {}
      },
      "cell_type": "code",
      "source": [
        "feature_matrix = pd.read_csv('./example_data.csv', index_col=0)\n",
        "\n",
        "\n",
        "X = feature_matrix.drop('MEAN(invoices.MEAN(item_purchases.UnitPrice))', axis=1)\n",
        "y = feature_matrix['MEAN(invoices.MEAN(item_purchases.UnitPrice))']\n",
        "\n",
        "\n",
        "X_train, X_test, y_train, y_test = sklearn.model_selection.train_test_split(X, y, random_state=1)\n",
        "\n",
        "tpot = TPOTRegressor(generations=5, population_size=50, verbosity=2, random_state=42)\n",
        "\n",
        "tpot.fit(X_train, y_train)\n",
        "\n",
        "\n",
        "y_hat = tpot.predict(X_test)\n",
        "print(\"R2 score:\", sklearn.metrics.r2_score(y_test, y_hat))"
      ],
      "execution_count": 0,
      "outputs": []
    },
    {
      "metadata": {
        "id": "jG5_I-qglhoA",
        "colab_type": "code",
        "colab": {}
      },
      "cell_type": "code",
      "source": [
        "tpot.export('./tpot_pipeline.py')\n",
        "\n",
        "#from the python file 'tpot_pipeline.py' copy following two lines verbatim\n",
        "\n",
        "training_features, testing_features, training_target, testing_target = \\\n",
        "    train_test_split(features, tpot_data['class'], random_state=42)\n",
        "\n",
        "exported_pipeline = make_pipeline(\n",
        "    RobustScaler(),\n",
        "    LinearSVR(C=15.0, dual=False, epsilon=1.0, \n",
        "              loss=\"squared_epsilon_insensitive\", tol=0.0001)\n",
        ")\n",
        "\n",
        "\n",
        "exported_pipeline.fit(training_features, training_target)\n"
      ],
      "execution_count": 0,
      "outputs": []
    },
    {
      "metadata": {
        "id": "CsR4OhOIm348",
        "colab_type": "code",
        "colab": {}
      },
      "cell_type": "code",
      "source": [
        "#Show the features with each used coefficient:\n",
        "\n",
        "important_coefs = pd.Series(data=exported_pipeline.steps[1][1].coef_, \n",
        "                            index=X.columns)\n",
        "\n",
        "sorted_coef = important_coefs.sort_values(ascending=False)\n",
        "\n",
        "sorted_coef"
      ],
      "execution_count": 0,
      "outputs": []
    }
  ]
}