{
  "nbformat": 4,
  "nbformat_minor": 0,
  "metadata": {
    "colab": {
      "name": "featuretools_learning_3.ipynb",
      "version": "0.3.2",
      "provenance": [],
      "collapsed_sections": [],
      "include_colab_link": true
    },
    "kernelspec": {
      "name": "python3",
      "display_name": "Python 3"
    },
    "accelerator": "GPU"
  },
  "cells": [
    {
      "cell_type": "markdown",
      "metadata": {
        "id": "view-in-github",
        "colab_type": "text"
      },
      "source": [
        "<a href=\"https://colab.research.google.com/github/AtharKharal/Data_science_with_python/blob/dev-branch/featuretools_learning_3.ipynb\" target=\"_parent\"><img src=\"https://colab.research.google.com/assets/colab-badge.svg\" alt=\"Open In Colab\"/></a>"
      ]
    },
    {
      "metadata": {
        "id": "wLmfTBGis4yx",
        "colab_type": "code",
        "colab": {}
      },
      "cell_type": "code",
      "source": [
        "#!pip3 install featuretools==0.6.0\n",
        "#!pip install pandas==0.24.1"
      ],
      "execution_count": 0,
      "outputs": []
    },
    {
      "metadata": {
        "id": "pQpv9mUuN6_8",
        "colab_type": "code",
        "colab": {}
      },
      "cell_type": "code",
      "source": [
        "import numpy as np\n",
        "import pandas as pd\n",
        "import featuretools as ft\n",
        "from featuretools.primitives import make_trans_primitive\n",
        "import featuretools.variable_types as vt"
      ],
      "execution_count": 0,
      "outputs": []
    },
    {
      "metadata": {
        "id": "MR3iOGWqoXzr",
        "colab_type": "code",
        "colab": {}
      },
      "cell_type": "code",
      "source": [
        "def log10(column):\n",
        "  return np.log10(column)\n",
        "\n",
        "Log10 = make_trans_primitive(function=log10,\n",
        "                             input_types=[vt.Numeric],\n",
        "                             return_type=vt.Numeric)"
      ],
      "execution_count": 0,
      "outputs": []
    },
    {
      "metadata": {
        "id": "TWyUUJ5GM_0a",
        "colab_type": "code",
        "outputId": "2fe62a6b-9c98-4c33-c2de-cc355111d566",
        "colab": {
          "base_uri": "https://localhost:8080/",
          "height": 119
        }
      },
      "cell_type": "code",
      "source": [
        "df1 = pd.DataFrame({'df_index' : [1,2,3,4,5],\n",
        "                 'location':['aust','aust','aust','canada','canada'],\n",
        "                  'prices':[34,52,46,25,67],\n",
        "                   'values':[786,345,123,654,841]\n",
        "                  })\n",
        "\n",
        "df1['date']=pd.date_range(start='02/07/2019',periods=5, freq='D')\n",
        "\n",
        "es = ft.EntitySet(id='Transactions')\n",
        "es.entity_from_dataframe(entity_id='log', \n",
        "                         dataframe=df1,\n",
        "                         variable_types={'location': vt.Categorical,\n",
        "                                         'prices':vt.Numeric,\n",
        "                                         'values':vt.Numeric,\n",
        "                                         'date':vt.Datetime\n",
        "                                          }, \n",
        "                         index='df_index',\n",
        "                         time_index='date'\n",
        "                        )\n",
        "\n",
        "es.normalize_entity(base_entity_id='log', new_entity_id='loc', \n",
        "                   index= 'location' )"
      ],
      "execution_count": 0,
      "outputs": [
        {
          "output_type": "execute_result",
          "data": {
            "text/plain": [
              "Entityset: Transactions\n",
              "  Entities:\n",
              "    log [Rows: 5, Columns: 5]\n",
              "    loc [Rows: 2, Columns: 2]\n",
              "  Relationships:\n",
              "    log.location -> loc.location"
            ]
          },
          "metadata": {
            "tags": []
          },
          "execution_count": 7
        }
      ]
    },
    {
      "metadata": {
        "id": "YxG80xwoSCEk",
        "colab_type": "code",
        "outputId": "3a6ce0e8-a3a8-4038-c3cf-b152e2d4d889",
        "colab": {
          "base_uri": "https://localhost:8080/",
          "height": 51
        }
      },
      "cell_type": "code",
      "source": [
        "fm, features = ft.dfs(entityset=es, target_entity='log',\n",
        "                      verbose = True\n",
        "                     )\n",
        "#max_depth = 2, n_jobs = 1 ,trans_primitives = ['add', 'multiply', Log10],agg_primitives = ['sum', 'mean'],\n",
        "                                 "
      ],
      "execution_count": 0,
      "outputs": [
        {
          "output_type": "stream",
          "text": [
            "Built 24 features\n",
            "Elapsed: 00:00 | Remaining: 00:00 | Progress: 100%|██████████| Calculated: 1/1 chunks\n"
          ],
          "name": "stdout"
        }
      ]
    },
    {
      "metadata": {
        "id": "2bU2fmI6aAvF",
        "colab_type": "code",
        "outputId": "c9c882ab-6f93-4e90-b2d9-86e7894c0a4c",
        "colab": {
          "base_uri": "https://localhost:8080/",
          "height": 425
        }
      },
      "cell_type": "code",
      "source": [
        "features"
      ],
      "execution_count": 0,
      "outputs": [
        {
          "output_type": "execute_result",
          "data": {
            "text/plain": [
              "[<Feature: location>,\n",
              " <Feature: prices>,\n",
              " <Feature: values>,\n",
              " <Feature: DAY(date)>,\n",
              " <Feature: YEAR(date)>,\n",
              " <Feature: MONTH(date)>,\n",
              " <Feature: WEEKDAY(date)>,\n",
              " <Feature: loc.SUM(log.prices)>,\n",
              " <Feature: loc.SUM(log.values)>,\n",
              " <Feature: loc.STD(log.prices)>,\n",
              " <Feature: loc.STD(log.values)>,\n",
              " <Feature: loc.MAX(log.prices)>,\n",
              " <Feature: loc.MAX(log.values)>,\n",
              " <Feature: loc.SKEW(log.prices)>,\n",
              " <Feature: loc.SKEW(log.values)>,\n",
              " <Feature: loc.MIN(log.prices)>,\n",
              " <Feature: loc.MIN(log.values)>,\n",
              " <Feature: loc.MEAN(log.prices)>,\n",
              " <Feature: loc.MEAN(log.values)>,\n",
              " <Feature: loc.COUNT(log)>,\n",
              " <Feature: loc.DAY(first_log_time)>,\n",
              " <Feature: loc.YEAR(first_log_time)>,\n",
              " <Feature: loc.MONTH(first_log_time)>,\n",
              " <Feature: loc.WEEKDAY(first_log_time)>]"
            ]
          },
          "metadata": {
            "tags": []
          },
          "execution_count": 21
        }
      ]
    }
  ]
}