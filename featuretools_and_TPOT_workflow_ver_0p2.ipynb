{
  "nbformat": 4,
  "nbformat_minor": 0,
  "metadata": {
    "colab": {
      "name": "featuretools and TPOT workflow_ver_0p2.ipynb",
      "version": "0.3.2",
      "provenance": [],
      "collapsed_sections": [],
      "include_colab_link": true
    },
    "kernelspec": {
      "name": "python3",
      "display_name": "Python 3"
    },
    "accelerator": "GPU"
  },
  "cells": [
    {
      "cell_type": "markdown",
      "metadata": {
        "id": "view-in-github",
        "colab_type": "text"
      },
      "source": [
        "<a href=\"https://colab.research.google.com/github/AtharKharal/Data_science_with_python/blob/dev-branch/featuretools_and_TPOT_workflow_ver_0p2.ipynb\" target=\"_parent\"><img src=\"https://colab.research.google.com/assets/colab-badge.svg\" alt=\"Open In Colab\"/></a>"
      ]
    },
    {
      "metadata": {
        "id": "cZqXnIlKXRKg",
        "colab_type": "code",
        "colab": {}
      },
      "cell_type": "code",
      "source": [
        "# Run following line just once at the start of a new colab session\n",
        "#!pip install tpot"
      ],
      "execution_count": 0,
      "outputs": []
    },
    {
      "metadata": {
        "id": "wtCP7HPn67Mr",
        "colab_type": "code",
        "colab": {}
      },
      "cell_type": "code",
      "source": [
        "import numpy as np\n",
        "import pandas as pd\n",
        "import featuretools as ft\n",
        "import sklearn as sk\n",
        "import featuretools as ft\n",
        "import sklearn.model_selection\n",
        "import tpot"
      ],
      "execution_count": 0,
      "outputs": []
    },
    {
      "metadata": {
        "id": "ojhoYZrJcxkq",
        "colab_type": "text"
      },
      "cell_type": "markdown",
      "source": [
        "#Reading Data"
      ]
    },
    {
      "metadata": {
        "id": "aO81kqrbhrzg",
        "colab_type": "code",
        "colab": {}
      },
      "cell_type": "code",
      "source": [
        "# Go to the CSV file in Google Drive, right-click on it and select \n",
        "# “Get shareable link”. The link will be copied into your clipboard. \n",
        "# Paste this link into following a string variable i.e. link:\n",
        "\n",
        "link = 'https://drive.google.com/open?id=10JNCo2Opquuq2cwGiyGgvlds8U2wz3mW'  # The shareable link\n",
        "\n",
        "# Code to read csv file into Colaboratory:\n",
        "!pip install -U -q PyDrive\n",
        "from pydrive.auth import GoogleAuth\n",
        "from pydrive.drive import GoogleDrive\n",
        "from google.colab import auth\n",
        "from oauth2client.client import GoogleCredentials\n",
        "# Authenticate and create the PyDrive client.\n",
        "auth.authenticate_user()\n",
        "gauth = GoogleAuth()\n",
        "gauth.credentials = GoogleCredentials.get_application_default()\n",
        "drive = GoogleDrive(gauth)\n",
        "\n",
        "\n",
        "fluff, id = link.split('=')   # Verify that you have everything after '=' by using print(id)\n",
        "\n",
        "# Finally reading the data into a dataframe\n",
        "\n",
        "downloaded = drive.CreateFile({'id':id}) \n",
        "downloaded.GetContentFile('dummy_file_name.csv')  \n",
        "df = pd.read_csv('dummy_file_name.csv')"
      ],
      "execution_count": 0,
      "outputs": []
    },
    {
      "metadata": {
        "id": "ElMEt_KTknBC",
        "colab_type": "code",
        "outputId": "4d03d592-e5b7-4d12-cc01-fb97dacdad5f",
        "colab": {
          "base_uri": "https://localhost:8080/",
          "height": 321
        }
      },
      "cell_type": "code",
      "source": [
        "df.head()"
      ],
      "execution_count": 21,
      "outputs": [
        {
          "output_type": "execute_result",
          "data": {
            "text/html": [
              "<div>\n",
              "<style scoped>\n",
              "    .dataframe tbody tr th:only-of-type {\n",
              "        vertical-align: middle;\n",
              "    }\n",
              "\n",
              "    .dataframe tbody tr th {\n",
              "        vertical-align: top;\n",
              "    }\n",
              "\n",
              "    .dataframe thead th {\n",
              "        text-align: right;\n",
              "    }\n",
              "</style>\n",
              "<table border=\"1\" class=\"dataframe\">\n",
              "  <thead>\n",
              "    <tr style=\"text-align: right;\">\n",
              "      <th></th>\n",
              "      <th>Creditability</th>\n",
              "      <th>Account Balance</th>\n",
              "      <th>Duration of Credit (month)</th>\n",
              "      <th>Payment Status of Previous Credit</th>\n",
              "      <th>Purpose</th>\n",
              "      <th>Credit Amount</th>\n",
              "      <th>Value Savings/Stocks</th>\n",
              "      <th>Length of current employment</th>\n",
              "      <th>Instalment per cent</th>\n",
              "      <th>Sex &amp; Marital Status</th>\n",
              "      <th>...</th>\n",
              "      <th>Duration in Current address</th>\n",
              "      <th>Most valuable available asset</th>\n",
              "      <th>Age (years)</th>\n",
              "      <th>Concurrent Credits</th>\n",
              "      <th>Type of apartment</th>\n",
              "      <th>No of Credits at this Bank</th>\n",
              "      <th>Occupation</th>\n",
              "      <th>No of dependents</th>\n",
              "      <th>Telephone</th>\n",
              "      <th>Foreign Worker</th>\n",
              "    </tr>\n",
              "  </thead>\n",
              "  <tbody>\n",
              "    <tr>\n",
              "      <th>0</th>\n",
              "      <td>1</td>\n",
              "      <td>1</td>\n",
              "      <td>18</td>\n",
              "      <td>4</td>\n",
              "      <td>2</td>\n",
              "      <td>1049</td>\n",
              "      <td>1</td>\n",
              "      <td>2</td>\n",
              "      <td>4</td>\n",
              "      <td>2</td>\n",
              "      <td>...</td>\n",
              "      <td>4</td>\n",
              "      <td>2</td>\n",
              "      <td>21</td>\n",
              "      <td>3</td>\n",
              "      <td>1</td>\n",
              "      <td>1</td>\n",
              "      <td>3</td>\n",
              "      <td>1</td>\n",
              "      <td>1</td>\n",
              "      <td>1</td>\n",
              "    </tr>\n",
              "    <tr>\n",
              "      <th>1</th>\n",
              "      <td>1</td>\n",
              "      <td>1</td>\n",
              "      <td>9</td>\n",
              "      <td>4</td>\n",
              "      <td>0</td>\n",
              "      <td>2799</td>\n",
              "      <td>1</td>\n",
              "      <td>3</td>\n",
              "      <td>2</td>\n",
              "      <td>3</td>\n",
              "      <td>...</td>\n",
              "      <td>2</td>\n",
              "      <td>1</td>\n",
              "      <td>36</td>\n",
              "      <td>3</td>\n",
              "      <td>1</td>\n",
              "      <td>2</td>\n",
              "      <td>3</td>\n",
              "      <td>2</td>\n",
              "      <td>1</td>\n",
              "      <td>1</td>\n",
              "    </tr>\n",
              "    <tr>\n",
              "      <th>2</th>\n",
              "      <td>1</td>\n",
              "      <td>2</td>\n",
              "      <td>12</td>\n",
              "      <td>2</td>\n",
              "      <td>9</td>\n",
              "      <td>841</td>\n",
              "      <td>2</td>\n",
              "      <td>4</td>\n",
              "      <td>2</td>\n",
              "      <td>2</td>\n",
              "      <td>...</td>\n",
              "      <td>4</td>\n",
              "      <td>1</td>\n",
              "      <td>23</td>\n",
              "      <td>3</td>\n",
              "      <td>1</td>\n",
              "      <td>1</td>\n",
              "      <td>2</td>\n",
              "      <td>1</td>\n",
              "      <td>1</td>\n",
              "      <td>1</td>\n",
              "    </tr>\n",
              "    <tr>\n",
              "      <th>3</th>\n",
              "      <td>1</td>\n",
              "      <td>1</td>\n",
              "      <td>12</td>\n",
              "      <td>4</td>\n",
              "      <td>0</td>\n",
              "      <td>2122</td>\n",
              "      <td>1</td>\n",
              "      <td>3</td>\n",
              "      <td>3</td>\n",
              "      <td>3</td>\n",
              "      <td>...</td>\n",
              "      <td>2</td>\n",
              "      <td>1</td>\n",
              "      <td>39</td>\n",
              "      <td>3</td>\n",
              "      <td>1</td>\n",
              "      <td>2</td>\n",
              "      <td>2</td>\n",
              "      <td>2</td>\n",
              "      <td>1</td>\n",
              "      <td>2</td>\n",
              "    </tr>\n",
              "    <tr>\n",
              "      <th>4</th>\n",
              "      <td>1</td>\n",
              "      <td>1</td>\n",
              "      <td>12</td>\n",
              "      <td>4</td>\n",
              "      <td>0</td>\n",
              "      <td>2171</td>\n",
              "      <td>1</td>\n",
              "      <td>3</td>\n",
              "      <td>4</td>\n",
              "      <td>3</td>\n",
              "      <td>...</td>\n",
              "      <td>4</td>\n",
              "      <td>2</td>\n",
              "      <td>38</td>\n",
              "      <td>1</td>\n",
              "      <td>2</td>\n",
              "      <td>2</td>\n",
              "      <td>2</td>\n",
              "      <td>1</td>\n",
              "      <td>1</td>\n",
              "      <td>2</td>\n",
              "    </tr>\n",
              "  </tbody>\n",
              "</table>\n",
              "<p>5 rows × 21 columns</p>\n",
              "</div>"
            ],
            "text/plain": [
              "   Creditability  Account Balance  Duration of Credit (month)  \\\n",
              "0              1                1                          18   \n",
              "1              1                1                           9   \n",
              "2              1                2                          12   \n",
              "3              1                1                          12   \n",
              "4              1                1                          12   \n",
              "\n",
              "   Payment Status of Previous Credit  Purpose  Credit Amount  \\\n",
              "0                                  4        2           1049   \n",
              "1                                  4        0           2799   \n",
              "2                                  2        9            841   \n",
              "3                                  4        0           2122   \n",
              "4                                  4        0           2171   \n",
              "\n",
              "   Value Savings/Stocks  Length of current employment  Instalment per cent  \\\n",
              "0                     1                             2                    4   \n",
              "1                     1                             3                    2   \n",
              "2                     2                             4                    2   \n",
              "3                     1                             3                    3   \n",
              "4                     1                             3                    4   \n",
              "\n",
              "   Sex & Marital Status       ...        Duration in Current address  \\\n",
              "0                     2       ...                                  4   \n",
              "1                     3       ...                                  2   \n",
              "2                     2       ...                                  4   \n",
              "3                     3       ...                                  2   \n",
              "4                     3       ...                                  4   \n",
              "\n",
              "   Most valuable available asset  Age (years)  Concurrent Credits  \\\n",
              "0                              2           21                   3   \n",
              "1                              1           36                   3   \n",
              "2                              1           23                   3   \n",
              "3                              1           39                   3   \n",
              "4                              2           38                   1   \n",
              "\n",
              "   Type of apartment  No of Credits at this Bank  Occupation  \\\n",
              "0                  1                           1           3   \n",
              "1                  1                           2           3   \n",
              "2                  1                           1           2   \n",
              "3                  1                           2           2   \n",
              "4                  2                           2           2   \n",
              "\n",
              "   No of dependents  Telephone  Foreign Worker  \n",
              "0                 1          1               1  \n",
              "1                 2          1               1  \n",
              "2                 1          1               1  \n",
              "3                 2          1               2  \n",
              "4                 1          1               2  \n",
              "\n",
              "[5 rows x 21 columns]"
            ]
          },
          "metadata": {
            "tags": []
          },
          "execution_count": 21
        }
      ]
    },
    {
      "metadata": {
        "id": "_kqxhgrZ8TSL",
        "colab_type": "code",
        "colab": {}
      },
      "cell_type": "code",
      "source": [
        "target = df.Creditability\n",
        "df = df.drop(columns = target.name)\n",
        "#df['df_index'] = range(0,len(df))"
      ],
      "execution_count": 0,
      "outputs": []
    },
    {
      "metadata": {
        "id": "412Zo8EzBDY6",
        "colab_type": "code",
        "outputId": "121c9c2a-71d5-42de-9442-569792539141",
        "colab": {
          "base_uri": "https://localhost:8080/",
          "height": 170
        }
      },
      "cell_type": "code",
      "source": [
        "df.columns"
      ],
      "execution_count": 23,
      "outputs": [
        {
          "output_type": "execute_result",
          "data": {
            "text/plain": [
              "Index(['Account Balance', 'Duration of Credit (month)',\n",
              "       'Payment Status of Previous Credit', 'Purpose', 'Credit Amount',\n",
              "       'Value Savings/Stocks', 'Length of current employment',\n",
              "       'Instalment per cent', 'Sex & Marital Status', 'Guarantors',\n",
              "       'Duration in Current address', 'Most valuable available asset',\n",
              "       'Age (years)', 'Concurrent Credits', 'Type of apartment',\n",
              "       'No of Credits at this Bank', 'Occupation', 'No of dependents',\n",
              "       'Telephone', 'Foreign Worker'],\n",
              "      dtype='object')"
            ]
          },
          "metadata": {
            "tags": []
          },
          "execution_count": 23
        }
      ]
    },
    {
      "metadata": {
        "id": "8Unqz6elkvCf",
        "colab_type": "text"
      },
      "cell_type": "markdown",
      "source": [
        "#Pipeline Optimization"
      ]
    },
    {
      "metadata": {
        "id": "hmTfE_SEOUCk",
        "colab_type": "code",
        "outputId": "415a63cd-502f-4439-83ae-05714612e03b",
        "colab": {
          "base_uri": "https://localhost:8080/",
          "height": 139
        }
      },
      "cell_type": "code",
      "source": [
        "X, y = df, target\n",
        "\n",
        "X_train, X_test, y_train, y_test = sklearn.model_selection.train_test_split(X, y)\n",
        "\n",
        "tpot = tpot.TPOTClassifier(generations=4, population_size=500, verbosity=2)\n",
        "\n",
        "tpot.fit(X_train, y_train)\n",
        "y_hat = tpot.predict(X_test)\n"
      ],
      "execution_count": 24,
      "outputs": [
        {
          "output_type": "stream",
          "text": [
            "Optimization Progress:  40%|████      | 1000/2500 [08:06<08:00,  3.12pipeline/s]"
          ],
          "name": "stderr"
        },
        {
          "output_type": "stream",
          "text": [
            "Generation 1 - Current best internal CV score: 0.7786666666666666\n"
          ],
          "name": "stdout"
        },
        {
          "output_type": "stream",
          "text": [
            "Optimization Progress:  60%|██████    | 1500/2500 [14:27<12:05,  1.38pipeline/s]"
          ],
          "name": "stderr"
        },
        {
          "output_type": "stream",
          "text": [
            "Generation 2 - Current best internal CV score: 0.7786666666666666\n"
          ],
          "name": "stdout"
        },
        {
          "output_type": "stream",
          "text": [
            "Optimization Progress:  80%|████████  | 2000/2500 [22:31<04:37,  1.80pipeline/s]"
          ],
          "name": "stderr"
        },
        {
          "output_type": "stream",
          "text": [
            "Generation 3 - Current best internal CV score: 0.7786666666666666\n"
          ],
          "name": "stdout"
        },
        {
          "output_type": "stream",
          "text": [
            ""
          ],
          "name": "stderr"
        },
        {
          "output_type": "stream",
          "text": [
            "Generation 4 - Current best internal CV score: 0.7786666666666666\n",
            "\n",
            "Best pipeline: RandomForestClassifier(input_matrix, bootstrap=False, criterion=entropy, max_features=0.55, min_samples_leaf=2, min_samples_split=5, n_estimators=100)\n"
          ],
          "name": "stdout"
        }
      ]
    },
    {
      "metadata": {
        "id": "aj6kLB01ZQ1p",
        "colab_type": "code",
        "outputId": "8fdd9443-83b3-46b5-b20b-58b2485a0f64",
        "colab": {
          "base_uri": "https://localhost:8080/",
          "height": 34
        }
      },
      "cell_type": "code",
      "source": [
        "tpot.export('solution_to_german_credit_10.py')"
      ],
      "execution_count": 25,
      "outputs": [
        {
          "output_type": "execute_result",
          "data": {
            "text/plain": [
              "True"
            ]
          },
          "metadata": {
            "tags": []
          },
          "execution_count": 25
        }
      ]
    },
    {
      "metadata": {
        "id": "WEk6nNRJl-yE",
        "colab_type": "code",
        "outputId": "54f90a49-8c36-49d5-d7cf-2f575c3f1322",
        "colab": {
          "base_uri": "https://localhost:8080/",
          "height": 321
        }
      },
      "cell_type": "code",
      "source": [
        "tpot_data = pd.concat([X,y.rename(\"target\")], axis = 1)\n",
        "tpot_data.head()"
      ],
      "execution_count": 0,
      "outputs": [
        {
          "output_type": "execute_result",
          "data": {
            "text/html": [
              "<div>\n",
              "<style scoped>\n",
              "    .dataframe tbody tr th:only-of-type {\n",
              "        vertical-align: middle;\n",
              "    }\n",
              "\n",
              "    .dataframe tbody tr th {\n",
              "        vertical-align: top;\n",
              "    }\n",
              "\n",
              "    .dataframe thead th {\n",
              "        text-align: right;\n",
              "    }\n",
              "</style>\n",
              "<table border=\"1\" class=\"dataframe\">\n",
              "  <thead>\n",
              "    <tr style=\"text-align: right;\">\n",
              "      <th></th>\n",
              "      <th>Account Balance</th>\n",
              "      <th>Duration of Credit (month)</th>\n",
              "      <th>Payment Status of Previous Credit</th>\n",
              "      <th>Purpose</th>\n",
              "      <th>Credit Amount</th>\n",
              "      <th>Value Savings/Stocks</th>\n",
              "      <th>Length of current employment</th>\n",
              "      <th>Instalment per cent</th>\n",
              "      <th>Sex &amp; Marital Status</th>\n",
              "      <th>Guarantors</th>\n",
              "      <th>...</th>\n",
              "      <th>Age (years)</th>\n",
              "      <th>Concurrent Credits</th>\n",
              "      <th>Type of apartment</th>\n",
              "      <th>No of Credits at this Bank</th>\n",
              "      <th>Occupation</th>\n",
              "      <th>No of dependents</th>\n",
              "      <th>Telephone</th>\n",
              "      <th>Foreign Worker</th>\n",
              "      <th>df_index</th>\n",
              "      <th>target</th>\n",
              "    </tr>\n",
              "  </thead>\n",
              "  <tbody>\n",
              "    <tr>\n",
              "      <th>0</th>\n",
              "      <td>1</td>\n",
              "      <td>18</td>\n",
              "      <td>4</td>\n",
              "      <td>2</td>\n",
              "      <td>1049</td>\n",
              "      <td>1</td>\n",
              "      <td>2</td>\n",
              "      <td>4</td>\n",
              "      <td>2</td>\n",
              "      <td>1</td>\n",
              "      <td>...</td>\n",
              "      <td>21</td>\n",
              "      <td>3</td>\n",
              "      <td>1</td>\n",
              "      <td>1</td>\n",
              "      <td>3</td>\n",
              "      <td>1</td>\n",
              "      <td>1</td>\n",
              "      <td>1</td>\n",
              "      <td>0</td>\n",
              "      <td>1</td>\n",
              "    </tr>\n",
              "    <tr>\n",
              "      <th>1</th>\n",
              "      <td>1</td>\n",
              "      <td>9</td>\n",
              "      <td>4</td>\n",
              "      <td>0</td>\n",
              "      <td>2799</td>\n",
              "      <td>1</td>\n",
              "      <td>3</td>\n",
              "      <td>2</td>\n",
              "      <td>3</td>\n",
              "      <td>1</td>\n",
              "      <td>...</td>\n",
              "      <td>36</td>\n",
              "      <td>3</td>\n",
              "      <td>1</td>\n",
              "      <td>2</td>\n",
              "      <td>3</td>\n",
              "      <td>2</td>\n",
              "      <td>1</td>\n",
              "      <td>1</td>\n",
              "      <td>1</td>\n",
              "      <td>1</td>\n",
              "    </tr>\n",
              "    <tr>\n",
              "      <th>2</th>\n",
              "      <td>2</td>\n",
              "      <td>12</td>\n",
              "      <td>2</td>\n",
              "      <td>9</td>\n",
              "      <td>841</td>\n",
              "      <td>2</td>\n",
              "      <td>4</td>\n",
              "      <td>2</td>\n",
              "      <td>2</td>\n",
              "      <td>1</td>\n",
              "      <td>...</td>\n",
              "      <td>23</td>\n",
              "      <td>3</td>\n",
              "      <td>1</td>\n",
              "      <td>1</td>\n",
              "      <td>2</td>\n",
              "      <td>1</td>\n",
              "      <td>1</td>\n",
              "      <td>1</td>\n",
              "      <td>2</td>\n",
              "      <td>1</td>\n",
              "    </tr>\n",
              "    <tr>\n",
              "      <th>3</th>\n",
              "      <td>1</td>\n",
              "      <td>12</td>\n",
              "      <td>4</td>\n",
              "      <td>0</td>\n",
              "      <td>2122</td>\n",
              "      <td>1</td>\n",
              "      <td>3</td>\n",
              "      <td>3</td>\n",
              "      <td>3</td>\n",
              "      <td>1</td>\n",
              "      <td>...</td>\n",
              "      <td>39</td>\n",
              "      <td>3</td>\n",
              "      <td>1</td>\n",
              "      <td>2</td>\n",
              "      <td>2</td>\n",
              "      <td>2</td>\n",
              "      <td>1</td>\n",
              "      <td>2</td>\n",
              "      <td>3</td>\n",
              "      <td>1</td>\n",
              "    </tr>\n",
              "    <tr>\n",
              "      <th>4</th>\n",
              "      <td>1</td>\n",
              "      <td>12</td>\n",
              "      <td>4</td>\n",
              "      <td>0</td>\n",
              "      <td>2171</td>\n",
              "      <td>1</td>\n",
              "      <td>3</td>\n",
              "      <td>4</td>\n",
              "      <td>3</td>\n",
              "      <td>1</td>\n",
              "      <td>...</td>\n",
              "      <td>38</td>\n",
              "      <td>1</td>\n",
              "      <td>2</td>\n",
              "      <td>2</td>\n",
              "      <td>2</td>\n",
              "      <td>1</td>\n",
              "      <td>1</td>\n",
              "      <td>2</td>\n",
              "      <td>4</td>\n",
              "      <td>1</td>\n",
              "    </tr>\n",
              "  </tbody>\n",
              "</table>\n",
              "<p>5 rows × 22 columns</p>\n",
              "</div>"
            ],
            "text/plain": [
              "   Account Balance  Duration of Credit (month)  \\\n",
              "0                1                          18   \n",
              "1                1                           9   \n",
              "2                2                          12   \n",
              "3                1                          12   \n",
              "4                1                          12   \n",
              "\n",
              "   Payment Status of Previous Credit  Purpose  Credit Amount  \\\n",
              "0                                  4        2           1049   \n",
              "1                                  4        0           2799   \n",
              "2                                  2        9            841   \n",
              "3                                  4        0           2122   \n",
              "4                                  4        0           2171   \n",
              "\n",
              "   Value Savings/Stocks  Length of current employment  Instalment per cent  \\\n",
              "0                     1                             2                    4   \n",
              "1                     1                             3                    2   \n",
              "2                     2                             4                    2   \n",
              "3                     1                             3                    3   \n",
              "4                     1                             3                    4   \n",
              "\n",
              "   Sex & Marital Status  Guarantors   ...    Age (years)  Concurrent Credits  \\\n",
              "0                     2           1   ...             21                   3   \n",
              "1                     3           1   ...             36                   3   \n",
              "2                     2           1   ...             23                   3   \n",
              "3                     3           1   ...             39                   3   \n",
              "4                     3           1   ...             38                   1   \n",
              "\n",
              "   Type of apartment  No of Credits at this Bank  Occupation  \\\n",
              "0                  1                           1           3   \n",
              "1                  1                           2           3   \n",
              "2                  1                           1           2   \n",
              "3                  1                           2           2   \n",
              "4                  2                           2           2   \n",
              "\n",
              "   No of dependents  Telephone  Foreign Worker  df_index  target  \n",
              "0                 1          1               1         0       1  \n",
              "1                 2          1               1         1       1  \n",
              "2                 1          1               1         2       1  \n",
              "3                 2          1               2         3       1  \n",
              "4                 1          1               2         4       1  \n",
              "\n",
              "[5 rows x 22 columns]"
            ]
          },
          "metadata": {
            "tags": []
          },
          "execution_count": 21
        }
      ]
    },
    {
      "metadata": {
        "id": "i3aYZSkUiNdI",
        "colab_type": "code",
        "outputId": "eae0e437-865d-4c29-ede3-4e9b836d3b9c",
        "colab": {
          "base_uri": "https://localhost:8080/",
          "height": 119
        }
      },
      "cell_type": "code",
      "source": [
        "from sklearn.pipeline import make_pipeline\n",
        "from sklearn.ensemble import ExtraTreesClassifier, GradientBoostingClassifier\n",
        "from tpot.builtins import StackingEstimator\n",
        "\n",
        "# from the exported file by tpot.export copy two lines viz training_features and exported_pipeline\n",
        "\n",
        "tpot_data = pd.concat([X,y.rename(\"target\")], axis = 1)\n",
        "\n",
        "features = tpot_data.drop('target', axis=1).values\n",
        "\n",
        "\n",
        "training_features, testing_features, training_target, testing_target = \\\n",
        "            sklearn.model_selection.train_test_split(features, tpot_data['target'].values, random_state=42)\n",
        "\n",
        "\n",
        "exported_pipeline = make_pipeline(\n",
        "  \n",
        "  StackingEstimator(estimator=GradientBoostingClassifier(learning_rate=0.5, \n",
        "  max_depth=10, max_features=0.55, min_samples_leaf=18, min_samples_split=8, \n",
        "  n_estimators=100, subsample=0.8500000000000001) ),\n",
        "  \n",
        "  ExtraTreesClassifier(bootstrap=False, \n",
        "  criterion=\"gini\", max_features=0.3, min_samples_leaf=16, \n",
        "  min_samples_split=16, n_estimators=100)\n",
        "  \n",
        ")\n",
        "\n",
        "exported_pipeline.fit(training_features, training_target)"
      ],
      "execution_count": 0,
      "outputs": [
        {
          "output_type": "execute_result",
          "data": {
            "text/plain": [
              "Pipeline(memory=None,\n",
              "     steps=[('stackingestimator', StackingEstimator(estimator=GradientBoostingClassifier(criterion='friedman_mse', init=None,\n",
              "              learning_rate=0.5, loss='deviance', max_depth=10,\n",
              "              max_features=0.55, max_leaf_nodes=None,\n",
              "              min_impurity_decrease=0.0, min_impurity_split=N...tors=100, n_jobs=None,\n",
              "           oob_score=False, random_state=None, verbose=0, warm_start=False))])"
            ]
          },
          "metadata": {
            "tags": []
          },
          "execution_count": 24
        }
      ]
    },
    {
      "metadata": {
        "id": "CsR4OhOIm348",
        "colab_type": "code",
        "outputId": "4908d974-706b-47f7-945d-d4b4b39f2bfb",
        "colab": {
          "base_uri": "https://localhost:8080/",
          "height": 231
        }
      },
      "cell_type": "code",
      "source": [
        "#Show the features with each used coefficient:\n",
        "\n",
        "important_coefs = pd.Series(data=exported_pipeline.steps[1][1].coef_, \n",
        "                            index=X.columns)\n",
        "\n",
        "sorted_coef = important_coefs.sort_values(ascending=False)\n",
        "\n",
        "sorted_coef"
      ],
      "execution_count": 0,
      "outputs": [
        {
          "output_type": "error",
          "ename": "AttributeError",
          "evalue": "ignored",
          "traceback": [
            "\u001b[0;31m---------------------------------------------------------------------------\u001b[0m",
            "\u001b[0;31mAttributeError\u001b[0m                            Traceback (most recent call last)",
            "\u001b[0;32m<ipython-input-25-789180b54961>\u001b[0m in \u001b[0;36m<module>\u001b[0;34m()\u001b[0m\n\u001b[1;32m      1\u001b[0m \u001b[0;34m\u001b[0m\u001b[0m\n\u001b[0;32m----> 2\u001b[0;31m important_coefs = pd.Series(data=exported_pipeline.steps[1][1].coef_, \n\u001b[0m\u001b[1;32m      3\u001b[0m                             index=X.columns)\n\u001b[1;32m      4\u001b[0m \u001b[0;34m\u001b[0m\u001b[0m\n\u001b[1;32m      5\u001b[0m \u001b[0msorted_coef\u001b[0m \u001b[0;34m=\u001b[0m \u001b[0mimportant_coefs\u001b[0m\u001b[0;34m.\u001b[0m\u001b[0msort_values\u001b[0m\u001b[0;34m(\u001b[0m\u001b[0mascending\u001b[0m\u001b[0;34m=\u001b[0m\u001b[0;32mFalse\u001b[0m\u001b[0;34m)\u001b[0m\u001b[0;34m\u001b[0m\u001b[0;34m\u001b[0m\u001b[0m\n",
            "\u001b[0;31mAttributeError\u001b[0m: 'ExtraTreesClassifier' object has no attribute 'coef_'"
          ]
        }
      ]
    },
    {
      "metadata": {
        "id": "EQCUYfKzpH0S",
        "colab_type": "code",
        "outputId": "479b17d8-41e2-4750-851e-a50e24734d1d",
        "colab": {
          "base_uri": "https://localhost:8080/",
          "height": 1275
        }
      },
      "cell_type": "code",
      "source": [
        "exported_pipeline.get_params()"
      ],
      "execution_count": 0,
      "outputs": [
        {
          "output_type": "execute_result",
          "data": {
            "text/plain": [
              "{'extratreesclassifier': ExtraTreesClassifier(bootstrap=False, class_weight=None, criterion='gini',\n",
              "            max_depth=None, max_features=0.3, max_leaf_nodes=None,\n",
              "            min_impurity_decrease=0.0, min_impurity_split=None,\n",
              "            min_samples_leaf=16, min_samples_split=16,\n",
              "            min_weight_fraction_leaf=0.0, n_estimators=100, n_jobs=None,\n",
              "            oob_score=False, random_state=None, verbose=0, warm_start=False),\n",
              " 'extratreesclassifier__bootstrap': False,\n",
              " 'extratreesclassifier__class_weight': None,\n",
              " 'extratreesclassifier__criterion': 'gini',\n",
              " 'extratreesclassifier__max_depth': None,\n",
              " 'extratreesclassifier__max_features': 0.3,\n",
              " 'extratreesclassifier__max_leaf_nodes': None,\n",
              " 'extratreesclassifier__min_impurity_decrease': 0.0,\n",
              " 'extratreesclassifier__min_impurity_split': None,\n",
              " 'extratreesclassifier__min_samples_leaf': 16,\n",
              " 'extratreesclassifier__min_samples_split': 16,\n",
              " 'extratreesclassifier__min_weight_fraction_leaf': 0.0,\n",
              " 'extratreesclassifier__n_estimators': 100,\n",
              " 'extratreesclassifier__n_jobs': None,\n",
              " 'extratreesclassifier__oob_score': False,\n",
              " 'extratreesclassifier__random_state': None,\n",
              " 'extratreesclassifier__verbose': 0,\n",
              " 'extratreesclassifier__warm_start': False,\n",
              " 'memory': None,\n",
              " 'stackingestimator': StackingEstimator(estimator=GradientBoostingClassifier(criterion='friedman_mse', init=None,\n",
              "               learning_rate=0.5, loss='deviance', max_depth=10,\n",
              "               max_features=0.55, max_leaf_nodes=None,\n",
              "               min_impurity_decrease=0.0, min_impurity_split=None,\n",
              "               min_samples_leaf=18, min_sam...=0.8500000000000001, tol=0.0001,\n",
              "               validation_fraction=0.1, verbose=0, warm_start=False)),\n",
              " 'stackingestimator__estimator': GradientBoostingClassifier(criterion='friedman_mse', init=None,\n",
              "               learning_rate=0.5, loss='deviance', max_depth=10,\n",
              "               max_features=0.55, max_leaf_nodes=None,\n",
              "               min_impurity_decrease=0.0, min_impurity_split=None,\n",
              "               min_samples_leaf=18, min_samples_split=8,\n",
              "               min_weight_fraction_leaf=0.0, n_estimators=100,\n",
              "               n_iter_no_change=None, presort='auto', random_state=None,\n",
              "               subsample=0.8500000000000001, tol=0.0001,\n",
              "               validation_fraction=0.1, verbose=0, warm_start=False),\n",
              " 'stackingestimator__estimator__criterion': 'friedman_mse',\n",
              " 'stackingestimator__estimator__init': None,\n",
              " 'stackingestimator__estimator__learning_rate': 0.5,\n",
              " 'stackingestimator__estimator__loss': 'deviance',\n",
              " 'stackingestimator__estimator__max_depth': 10,\n",
              " 'stackingestimator__estimator__max_features': 0.55,\n",
              " 'stackingestimator__estimator__max_leaf_nodes': None,\n",
              " 'stackingestimator__estimator__min_impurity_decrease': 0.0,\n",
              " 'stackingestimator__estimator__min_impurity_split': None,\n",
              " 'stackingestimator__estimator__min_samples_leaf': 18,\n",
              " 'stackingestimator__estimator__min_samples_split': 8,\n",
              " 'stackingestimator__estimator__min_weight_fraction_leaf': 0.0,\n",
              " 'stackingestimator__estimator__n_estimators': 100,\n",
              " 'stackingestimator__estimator__n_iter_no_change': None,\n",
              " 'stackingestimator__estimator__presort': 'auto',\n",
              " 'stackingestimator__estimator__random_state': None,\n",
              " 'stackingestimator__estimator__subsample': 0.8500000000000001,\n",
              " 'stackingestimator__estimator__tol': 0.0001,\n",
              " 'stackingestimator__estimator__validation_fraction': 0.1,\n",
              " 'stackingestimator__estimator__verbose': 0,\n",
              " 'stackingestimator__estimator__warm_start': False,\n",
              " 'steps': [('stackingestimator',\n",
              "   StackingEstimator(estimator=GradientBoostingClassifier(criterion='friedman_mse', init=None,\n",
              "                 learning_rate=0.5, loss='deviance', max_depth=10,\n",
              "                 max_features=0.55, max_leaf_nodes=None,\n",
              "                 min_impurity_decrease=0.0, min_impurity_split=None,\n",
              "                 min_samples_leaf=18, min_sam...=0.8500000000000001, tol=0.0001,\n",
              "                 validation_fraction=0.1, verbose=0, warm_start=False))),\n",
              "  ('extratreesclassifier',\n",
              "   ExtraTreesClassifier(bootstrap=False, class_weight=None, criterion='gini',\n",
              "              max_depth=None, max_features=0.3, max_leaf_nodes=None,\n",
              "              min_impurity_decrease=0.0, min_impurity_split=None,\n",
              "              min_samples_leaf=16, min_samples_split=16,\n",
              "              min_weight_fraction_leaf=0.0, n_estimators=100, n_jobs=None,\n",
              "              oob_score=False, random_state=None, verbose=0, warm_start=False))]}"
            ]
          },
          "metadata": {
            "tags": []
          },
          "execution_count": 30
        }
      ]
    }
  ]
}