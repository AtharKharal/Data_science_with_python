{
  "nbformat": 4,
  "nbformat_minor": 0,
  "metadata": {
    "colab": {
      "name": "featuretools and TPOT workflow_ver_0p2.ipynb",
      "version": "0.3.2",
      "provenance": [],
      "collapsed_sections": [],
      "include_colab_link": true
    },
    "kernelspec": {
      "name": "python3",
      "display_name": "Python 3"
    },
    "accelerator": "GPU"
  },
  "cells": [
    {
      "cell_type": "markdown",
      "metadata": {
        "id": "view-in-github",
        "colab_type": "text"
      },
      "source": [
        "<a href=\"https://colab.research.google.com/github/AtharKharal/Data_science_with_python/blob/dev-branch/featuretools_and_TPOT_workflow_ver_0p2.ipynb\" target=\"_parent\"><img src=\"https://colab.research.google.com/assets/colab-badge.svg\" alt=\"Open In Colab\"/></a>"
      ]
    },
    {
      "metadata": {
        "id": "cZqXnIlKXRKg",
        "colab_type": "code",
        "colab": {}
      },
      "cell_type": "code",
      "source": [
        "!pip install tpot"
      ],
      "execution_count": 0,
      "outputs": []
    },
    {
      "metadata": {
        "id": "wtCP7HPn67Mr",
        "colab_type": "code",
        "colab": {}
      },
      "cell_type": "code",
      "source": [
        "import numpy as np\n",
        "import pandas as pd\n",
        "import featuretools as ft\n",
        "import sklearn as sk\n",
        "import featuretools as ft\n",
        "import sklearn.model_selection\n",
        "import tpot"
      ],
      "execution_count": 0,
      "outputs": []
    },
    {
      "metadata": {
        "id": "ojhoYZrJcxkq",
        "colab_type": "text"
      },
      "cell_type": "markdown",
      "source": [
        "#Reading Data"
      ]
    },
    {
      "metadata": {
        "id": "aO81kqrbhrzg",
        "colab_type": "code",
        "outputId": "9b0b0ee6-6421-4b49-dfb7-c7016ed598f9",
        "colab": {
          "base_uri": "https://localhost:8080/",
          "height": 51
        }
      },
      "cell_type": "code",
      "source": [
        "# Go to the CSV file in Google Drive, right-click on it and select \n",
        "# “Get shareable link”. The link will be copied into your clipboard. \n",
        "# Paste this link into following a string variable i.e. link:\n",
        "\n",
        "link = 'https://drive.google.com/open?id=10JNCo2Opquuq2cwGiyGgvlds8U2wz3mW'  # The shareable link\n",
        "\n",
        "# Code to read csv file into Colaboratory:\n",
        "!pip install -U -q PyDrive\n",
        "from pydrive.auth import GoogleAuth\n",
        "from pydrive.drive import GoogleDrive\n",
        "from google.colab import auth\n",
        "from oauth2client.client import GoogleCredentials\n",
        "# Authenticate and create the PyDrive client.\n",
        "auth.authenticate_user()\n",
        "gauth = GoogleAuth()\n",
        "gauth.credentials = GoogleCredentials.get_application_default()\n",
        "drive = GoogleDrive(gauth)\n",
        "\n",
        "\n",
        "fluff, id = link.split('=')   # Verify that you have everything after '=' by using print(id)\n",
        "\n",
        "# Finally reading the data into a dataframe\n",
        "\n",
        "downloaded = drive.CreateFile({'id':id}) \n",
        "downloaded.GetContentFile('dummy_file_name.csv')  \n",
        "df = pd.read_csv('dummy_file_name.csv')"
      ],
      "execution_count": 2,
      "outputs": [
        {
          "output_type": "stream",
          "text": [
            "\u001b[?25l\r\u001b[K    1% |▎                               | 10kB 22.2MB/s eta 0:00:01\r\u001b[K    2% |▋                               | 20kB 4.9MB/s eta 0:00:01\r\u001b[K    3% |█                               | 30kB 7.0MB/s eta 0:00:01\r\u001b[K    4% |█▎                              | 40kB 4.4MB/s eta 0:00:01\r\u001b[K    5% |█▋                              | 51kB 5.4MB/s eta 0:00:01\r\u001b[K    6% |██                              | 61kB 6.4MB/s eta 0:00:01\r\u001b[K    7% |██▎                             | 71kB 7.3MB/s eta 0:00:01\r\u001b[K    8% |██▋                             | 81kB 8.1MB/s eta 0:00:01\r\u001b[K    9% |███                             | 92kB 9.0MB/s eta 0:00:01\r\u001b[K    10% |███▎                            | 102kB 7.2MB/s eta 0:00:01\r\u001b[K    11% |███▋                            | 112kB 7.3MB/s eta 0:00:01\r\u001b[K    12% |████                            | 122kB 9.7MB/s eta 0:00:01\r\u001b[K    13% |████▎                           | 133kB 9.6MB/s eta 0:00:01\r\u001b[K    14% |████▋                           | 143kB 17.3MB/s eta 0:00:01\r\u001b[K    15% |█████                           | 153kB 17.5MB/s eta 0:00:01\r\u001b[K    16% |█████▎                          | 163kB 17.5MB/s eta 0:00:01\r\u001b[K    17% |█████▋                          | 174kB 17.0MB/s eta 0:00:01\r\u001b[K    18% |██████                          | 184kB 17.1MB/s eta 0:00:01\r\u001b[K    19% |██████▎                         | 194kB 17.2MB/s eta 0:00:01\r\u001b[K    20% |██████▋                         | 204kB 47.5MB/s eta 0:00:01\r\u001b[K    21% |███████                         | 215kB 20.7MB/s eta 0:00:01\r\u001b[K    22% |███████▎                        | 225kB 20.8MB/s eta 0:00:01\r\u001b[K    23% |███████▋                        | 235kB 21.2MB/s eta 0:00:01\r\u001b[K    24% |████████                        | 245kB 21.0MB/s eta 0:00:01\r\u001b[K    25% |████████▎                       | 256kB 21.2MB/s eta 0:00:01\r\u001b[K    26% |████████▋                       | 266kB 20.1MB/s eta 0:00:01\r\u001b[K    27% |█████████                       | 276kB 21.0MB/s eta 0:00:01\r\u001b[K    29% |█████████▎                      | 286kB 21.0MB/s eta 0:00:01\r\u001b[K    30% |█████████▋                      | 296kB 20.9MB/s eta 0:00:01\r\u001b[K    31% |██████████                      | 307kB 21.4MB/s eta 0:00:01\r\u001b[K    32% |██████████▎                     | 317kB 53.5MB/s eta 0:00:01\r\u001b[K    33% |██████████▋                     | 327kB 53.3MB/s eta 0:00:01\r\u001b[K    34% |███████████                     | 337kB 55.3MB/s eta 0:00:01\r\u001b[K    35% |███████████▎                    | 348kB 49.9MB/s eta 0:00:01\r\u001b[K    36% |███████████▋                    | 358kB 49.7MB/s eta 0:00:01\r\u001b[K    37% |████████████                    | 368kB 57.2MB/s eta 0:00:01\r\u001b[K    38% |████████████▎                   | 378kB 57.0MB/s eta 0:00:01\r\u001b[K    39% |████████████▋                   | 389kB 58.2MB/s eta 0:00:01\r\u001b[K    40% |█████████████                   | 399kB 29.4MB/s eta 0:00:01\r\u001b[K    41% |█████████████▎                  | 409kB 29.4MB/s eta 0:00:01\r\u001b[K    42% |█████████████▋                  | 419kB 29.2MB/s eta 0:00:01\r\u001b[K    43% |██████████████                  | 430kB 29.3MB/s eta 0:00:01\r\u001b[K    44% |██████████████▎                 | 440kB 29.2MB/s eta 0:00:01\r\u001b[K    45% |██████████████▋                 | 450kB 30.0MB/s eta 0:00:01\r\u001b[K    46% |███████████████                 | 460kB 29.9MB/s eta 0:00:01\r\u001b[K    47% |███████████████▎                | 471kB 30.2MB/s eta 0:00:01\r\u001b[K    48% |███████████████▋                | 481kB 30.1MB/s eta 0:00:01\r\u001b[K    49% |████████████████                | 491kB 30.0MB/s eta 0:00:01\r\u001b[K    50% |████████████████▎               | 501kB 61.3MB/s eta 0:00:01\r\u001b[K    51% |████████████████▋               | 512kB 57.8MB/s eta 0:00:01\r\u001b[K    52% |█████████████████               | 522kB 58.5MB/s eta 0:00:01\r\u001b[K    53% |█████████████████▎              | 532kB 58.6MB/s eta 0:00:01\r\u001b[K    54% |█████████████████▋              | 542kB 57.5MB/s eta 0:00:01\r\u001b[K    55% |██████████████████              | 552kB 62.9MB/s eta 0:00:01\r\u001b[K    57% |██████████████████▎             | 563kB 62.6MB/s eta 0:00:01\r\u001b[K    58% |██████████████████▋             | 573kB 62.0MB/s eta 0:00:01\r\u001b[K    59% |███████████████████             | 583kB 63.1MB/s eta 0:00:01\r\u001b[K    60% |███████████████████▎            | 593kB 63.0MB/s eta 0:00:01\r\u001b[K    61% |███████████████████▋            | 604kB 62.9MB/s eta 0:00:01\r\u001b[K    62% |████████████████████            | 614kB 68.1MB/s eta 0:00:01\r\u001b[K    63% |████████████████████▎           | 624kB 67.4MB/s eta 0:00:01\r\u001b[K    64% |████████████████████▋           | 634kB 66.8MB/s eta 0:00:01\r\u001b[K    65% |█████████████████████           | 645kB 38.6MB/s eta 0:00:01\r\u001b[K    66% |█████████████████████▎          | 655kB 37.4MB/s eta 0:00:01\r\u001b[K    67% |█████████████████████▋          | 665kB 32.3MB/s eta 0:00:01\r\u001b[K    68% |██████████████████████          | 675kB 32.0MB/s eta 0:00:01\r\u001b[K    69% |██████████████████████▎         | 686kB 32.1MB/s eta 0:00:01\r\u001b[K    70% |██████████████████████▋         | 696kB 31.9MB/s eta 0:00:01\r\u001b[K    71% |███████████████████████         | 706kB 31.9MB/s eta 0:00:01\r\u001b[K    72% |███████████████████████▎        | 716kB 31.9MB/s eta 0:00:01\r\u001b[K    73% |███████████████████████▋        | 727kB 31.9MB/s eta 0:00:01\r\u001b[K    74% |████████████████████████        | 737kB 32.0MB/s eta 0:00:01\r\u001b[K    75% |████████████████████████▎       | 747kB 50.2MB/s eta 0:00:01\r\u001b[K    76% |████████████████████████▋       | 757kB 51.3MB/s eta 0:00:01\r\u001b[K    77% |████████████████████████▉       | 768kB 66.6MB/s eta 0:00:01\r\u001b[K    78% |█████████████████████████▏      | 778kB 67.8MB/s eta 0:00:01\r\u001b[K    79% |█████████████████████████▌      | 788kB 65.9MB/s eta 0:00:01\r\u001b[K    80% |█████████████████████████▉      | 798kB 66.7MB/s eta 0:00:01\r\u001b[K    81% |██████████████████████████▏     | 808kB 67.2MB/s eta 0:00:01\r\u001b[K    82% |██████████████████████████▌     | 819kB 67.1MB/s eta 0:00:01\r\u001b[K    83% |██████████████████████████▉     | 829kB 67.1MB/s eta 0:00:01\r\u001b[K    85% |███████████████████████████▏    | 839kB 67.1MB/s eta 0:00:01\r\u001b[K    86% |███████████████████████████▌    | 849kB 66.7MB/s eta 0:00:01\r\u001b[K    87% |███████████████████████████▉    | 860kB 60.7MB/s eta 0:00:01\r\u001b[K    88% |████████████████████████████▏   | 870kB 60.1MB/s eta 0:00:01\r\u001b[K    89% |████████████████████████████▌   | 880kB 60.1MB/s eta 0:00:01\r\u001b[K    90% |████████████████████████████▉   | 890kB 61.4MB/s eta 0:00:01\r\u001b[K    91% |█████████████████████████████▏  | 901kB 61.2MB/s eta 0:00:01\r\u001b[K    92% |█████████████████████████████▌  | 911kB 60.9MB/s eta 0:00:01\r\u001b[K    93% |█████████████████████████████▉  | 921kB 60.9MB/s eta 0:00:01\r\u001b[K    94% |██████████████████████████████▏ | 931kB 61.7MB/s eta 0:00:01\r\u001b[K    95% |██████████████████████████████▌ | 942kB 62.0MB/s eta 0:00:01\r\u001b[K    96% |██████████████████████████████▉ | 952kB 61.2MB/s eta 0:00:01\r\u001b[K    97% |███████████████████████████████▏| 962kB 69.7MB/s eta 0:00:01\r\u001b[K    98% |███████████████████████████████▌| 972kB 70.1MB/s eta 0:00:01\r\u001b[K    99% |███████████████████████████████▉| 983kB 69.5MB/s eta 0:00:01\r\u001b[K    100% |████████████████████████████████| 993kB 22.5MB/s \n",
            "\u001b[?25h  Building wheel for PyDrive (setup.py) ... \u001b[?25ldone\n",
            "\u001b[?25h"
          ],
          "name": "stdout"
        }
      ]
    },
    {
      "metadata": {
        "id": "ElMEt_KTknBC",
        "colab_type": "code",
        "outputId": "06ccab87-da4d-47b7-84e7-a467928153ea",
        "colab": {
          "base_uri": "https://localhost:8080/",
          "height": 321
        }
      },
      "cell_type": "code",
      "source": [
        "df.head()"
      ],
      "execution_count": 3,
      "outputs": [
        {
          "output_type": "execute_result",
          "data": {
            "text/html": [
              "<div>\n",
              "<style scoped>\n",
              "    .dataframe tbody tr th:only-of-type {\n",
              "        vertical-align: middle;\n",
              "    }\n",
              "\n",
              "    .dataframe tbody tr th {\n",
              "        vertical-align: top;\n",
              "    }\n",
              "\n",
              "    .dataframe thead th {\n",
              "        text-align: right;\n",
              "    }\n",
              "</style>\n",
              "<table border=\"1\" class=\"dataframe\">\n",
              "  <thead>\n",
              "    <tr style=\"text-align: right;\">\n",
              "      <th></th>\n",
              "      <th>Creditability</th>\n",
              "      <th>Account Balance</th>\n",
              "      <th>Duration of Credit (month)</th>\n",
              "      <th>Payment Status of Previous Credit</th>\n",
              "      <th>Purpose</th>\n",
              "      <th>Credit Amount</th>\n",
              "      <th>Value Savings/Stocks</th>\n",
              "      <th>Length of current employment</th>\n",
              "      <th>Instalment per cent</th>\n",
              "      <th>Sex &amp; Marital Status</th>\n",
              "      <th>...</th>\n",
              "      <th>Duration in Current address</th>\n",
              "      <th>Most valuable available asset</th>\n",
              "      <th>Age (years)</th>\n",
              "      <th>Concurrent Credits</th>\n",
              "      <th>Type of apartment</th>\n",
              "      <th>No of Credits at this Bank</th>\n",
              "      <th>Occupation</th>\n",
              "      <th>No of dependents</th>\n",
              "      <th>Telephone</th>\n",
              "      <th>Foreign Worker</th>\n",
              "    </tr>\n",
              "  </thead>\n",
              "  <tbody>\n",
              "    <tr>\n",
              "      <th>0</th>\n",
              "      <td>1</td>\n",
              "      <td>1</td>\n",
              "      <td>18</td>\n",
              "      <td>4</td>\n",
              "      <td>2</td>\n",
              "      <td>1049</td>\n",
              "      <td>1</td>\n",
              "      <td>2</td>\n",
              "      <td>4</td>\n",
              "      <td>2</td>\n",
              "      <td>...</td>\n",
              "      <td>4</td>\n",
              "      <td>2</td>\n",
              "      <td>21</td>\n",
              "      <td>3</td>\n",
              "      <td>1</td>\n",
              "      <td>1</td>\n",
              "      <td>3</td>\n",
              "      <td>1</td>\n",
              "      <td>1</td>\n",
              "      <td>1</td>\n",
              "    </tr>\n",
              "    <tr>\n",
              "      <th>1</th>\n",
              "      <td>1</td>\n",
              "      <td>1</td>\n",
              "      <td>9</td>\n",
              "      <td>4</td>\n",
              "      <td>0</td>\n",
              "      <td>2799</td>\n",
              "      <td>1</td>\n",
              "      <td>3</td>\n",
              "      <td>2</td>\n",
              "      <td>3</td>\n",
              "      <td>...</td>\n",
              "      <td>2</td>\n",
              "      <td>1</td>\n",
              "      <td>36</td>\n",
              "      <td>3</td>\n",
              "      <td>1</td>\n",
              "      <td>2</td>\n",
              "      <td>3</td>\n",
              "      <td>2</td>\n",
              "      <td>1</td>\n",
              "      <td>1</td>\n",
              "    </tr>\n",
              "    <tr>\n",
              "      <th>2</th>\n",
              "      <td>1</td>\n",
              "      <td>2</td>\n",
              "      <td>12</td>\n",
              "      <td>2</td>\n",
              "      <td>9</td>\n",
              "      <td>841</td>\n",
              "      <td>2</td>\n",
              "      <td>4</td>\n",
              "      <td>2</td>\n",
              "      <td>2</td>\n",
              "      <td>...</td>\n",
              "      <td>4</td>\n",
              "      <td>1</td>\n",
              "      <td>23</td>\n",
              "      <td>3</td>\n",
              "      <td>1</td>\n",
              "      <td>1</td>\n",
              "      <td>2</td>\n",
              "      <td>1</td>\n",
              "      <td>1</td>\n",
              "      <td>1</td>\n",
              "    </tr>\n",
              "    <tr>\n",
              "      <th>3</th>\n",
              "      <td>1</td>\n",
              "      <td>1</td>\n",
              "      <td>12</td>\n",
              "      <td>4</td>\n",
              "      <td>0</td>\n",
              "      <td>2122</td>\n",
              "      <td>1</td>\n",
              "      <td>3</td>\n",
              "      <td>3</td>\n",
              "      <td>3</td>\n",
              "      <td>...</td>\n",
              "      <td>2</td>\n",
              "      <td>1</td>\n",
              "      <td>39</td>\n",
              "      <td>3</td>\n",
              "      <td>1</td>\n",
              "      <td>2</td>\n",
              "      <td>2</td>\n",
              "      <td>2</td>\n",
              "      <td>1</td>\n",
              "      <td>2</td>\n",
              "    </tr>\n",
              "    <tr>\n",
              "      <th>4</th>\n",
              "      <td>1</td>\n",
              "      <td>1</td>\n",
              "      <td>12</td>\n",
              "      <td>4</td>\n",
              "      <td>0</td>\n",
              "      <td>2171</td>\n",
              "      <td>1</td>\n",
              "      <td>3</td>\n",
              "      <td>4</td>\n",
              "      <td>3</td>\n",
              "      <td>...</td>\n",
              "      <td>4</td>\n",
              "      <td>2</td>\n",
              "      <td>38</td>\n",
              "      <td>1</td>\n",
              "      <td>2</td>\n",
              "      <td>2</td>\n",
              "      <td>2</td>\n",
              "      <td>1</td>\n",
              "      <td>1</td>\n",
              "      <td>2</td>\n",
              "    </tr>\n",
              "  </tbody>\n",
              "</table>\n",
              "<p>5 rows × 21 columns</p>\n",
              "</div>"
            ],
            "text/plain": [
              "   Creditability  Account Balance  Duration of Credit (month)  \\\n",
              "0              1                1                          18   \n",
              "1              1                1                           9   \n",
              "2              1                2                          12   \n",
              "3              1                1                          12   \n",
              "4              1                1                          12   \n",
              "\n",
              "   Payment Status of Previous Credit  Purpose  Credit Amount  \\\n",
              "0                                  4        2           1049   \n",
              "1                                  4        0           2799   \n",
              "2                                  2        9            841   \n",
              "3                                  4        0           2122   \n",
              "4                                  4        0           2171   \n",
              "\n",
              "   Value Savings/Stocks  Length of current employment  Instalment per cent  \\\n",
              "0                     1                             2                    4   \n",
              "1                     1                             3                    2   \n",
              "2                     2                             4                    2   \n",
              "3                     1                             3                    3   \n",
              "4                     1                             3                    4   \n",
              "\n",
              "   Sex & Marital Status       ...        Duration in Current address  \\\n",
              "0                     2       ...                                  4   \n",
              "1                     3       ...                                  2   \n",
              "2                     2       ...                                  4   \n",
              "3                     3       ...                                  2   \n",
              "4                     3       ...                                  4   \n",
              "\n",
              "   Most valuable available asset  Age (years)  Concurrent Credits  \\\n",
              "0                              2           21                   3   \n",
              "1                              1           36                   3   \n",
              "2                              1           23                   3   \n",
              "3                              1           39                   3   \n",
              "4                              2           38                   1   \n",
              "\n",
              "   Type of apartment  No of Credits at this Bank  Occupation  \\\n",
              "0                  1                           1           3   \n",
              "1                  1                           2           3   \n",
              "2                  1                           1           2   \n",
              "3                  1                           2           2   \n",
              "4                  2                           2           2   \n",
              "\n",
              "   No of dependents  Telephone  Foreign Worker  \n",
              "0                 1          1               1  \n",
              "1                 2          1               1  \n",
              "2                 1          1               1  \n",
              "3                 2          1               2  \n",
              "4                 1          1               2  \n",
              "\n",
              "[5 rows x 21 columns]"
            ]
          },
          "metadata": {
            "tags": []
          },
          "execution_count": 3
        }
      ]
    },
    {
      "metadata": {
        "id": "_kqxhgrZ8TSL",
        "colab_type": "code",
        "colab": {}
      },
      "cell_type": "code",
      "source": [
        "target = df.Creditability\n",
        "df = df.drop(columns = target.name)\n",
        "df['df_index'] = range(0,len(df))"
      ],
      "execution_count": 0,
      "outputs": []
    },
    {
      "metadata": {
        "id": "412Zo8EzBDY6",
        "colab_type": "code",
        "outputId": "4636451a-f2ad-459b-99cb-e5af189f8977",
        "colab": {
          "base_uri": "https://localhost:8080/",
          "height": 170
        }
      },
      "cell_type": "code",
      "source": [
        "df.columns"
      ],
      "execution_count": 5,
      "outputs": [
        {
          "output_type": "execute_result",
          "data": {
            "text/plain": [
              "Index(['Account Balance', 'Duration of Credit (month)',\n",
              "       'Payment Status of Previous Credit', 'Purpose', 'Credit Amount',\n",
              "       'Value Savings/Stocks', 'Length of current employment',\n",
              "       'Instalment per cent', 'Sex & Marital Status', 'Guarantors',\n",
              "       'Duration in Current address', 'Most valuable available asset',\n",
              "       'Age (years)', 'Concurrent Credits', 'Type of apartment',\n",
              "       'No of Credits at this Bank', 'Occupation', 'No of dependents',\n",
              "       'Telephone', 'Foreign Worker', 'df_index'],\n",
              "      dtype='object')"
            ]
          },
          "metadata": {
            "tags": []
          },
          "execution_count": 5
        }
      ]
    },
    {
      "metadata": {
        "id": "8Unqz6elkvCf",
        "colab_type": "text"
      },
      "cell_type": "markdown",
      "source": [
        "#Pipeline Optimization"
      ]
    },
    {
      "metadata": {
        "id": "Mo2YGE-9VdXQ",
        "colab_type": "code",
        "colab": {}
      },
      "cell_type": "code",
      "source": [
        "sk.cross_validation."
      ],
      "execution_count": 0,
      "outputs": []
    },
    {
      "metadata": {
        "id": "hmTfE_SEOUCk",
        "colab_type": "code",
        "outputId": "f885d3eb-09ca-4e60-db9d-d4189d313373",
        "colab": {
          "base_uri": "https://localhost:8080/",
          "height": 156
        }
      },
      "cell_type": "code",
      "source": [
        "X, y = df, target\n",
        "\n",
        "X_train, X_test, y_train, y_test = sklearn.model_selection.train_test_split(X, y, random_state=1)\n",
        "\n",
        "tpot = tpot.TPOTClassifier(generations=5, population_size=50, verbosity=2, random_state=42)\n",
        "\n",
        "tpot.fit(X_train, y_train)\n",
        "y_hat = tpot.predict(X_test)\n"
      ],
      "execution_count": 13,
      "outputs": [
        {
          "output_type": "stream",
          "text": [
            "Optimization Progress:  33%|███▎      | 100/300 [00:42<02:23,  1.39pipeline/s]"
          ],
          "name": "stderr"
        },
        {
          "output_type": "stream",
          "text": [
            "Generation 1 - Current best internal CV score: 0.9493236736447546\n"
          ],
          "name": "stdout"
        },
        {
          "output_type": "stream",
          "text": [
            "Optimization Progress:  50%|█████     | 150/300 [01:23<00:36,  4.07pipeline/s]"
          ],
          "name": "stderr"
        },
        {
          "output_type": "stream",
          "text": [
            "Generation 2 - Current best internal CV score: 0.950657006978088\n"
          ],
          "name": "stdout"
        },
        {
          "output_type": "stream",
          "text": [
            "Optimization Progress:  67%|██████▋   | 200/300 [01:58<01:13,  1.37pipeline/s]"
          ],
          "name": "stderr"
        },
        {
          "output_type": "stream",
          "text": [
            "Generation 3 - Current best internal CV score: 0.950657006978088\n"
          ],
          "name": "stdout"
        },
        {
          "output_type": "stream",
          "text": [
            "Optimization Progress:  83%|████████▎ | 250/300 [02:53<00:43,  1.14pipeline/s]"
          ],
          "name": "stderr"
        },
        {
          "output_type": "stream",
          "text": [
            "Generation 4 - Current best internal CV score: 0.9506747855460242\n"
          ],
          "name": "stdout"
        },
        {
          "output_type": "stream",
          "text": [
            ""
          ],
          "name": "stderr"
        },
        {
          "output_type": "stream",
          "text": [
            "Generation 5 - Current best internal CV score: 0.9519813917655598\n",
            "\n",
            "Best pipeline: ExtraTreesClassifier(GradientBoostingClassifier(input_matrix, learning_rate=0.5, max_depth=10, max_features=0.55, min_samples_leaf=18, min_samples_split=8, n_estimators=100, subsample=0.8500000000000001), bootstrap=False, criterion=gini, max_features=0.3, min_samples_leaf=16, min_samples_split=16, n_estimators=100)\n"
          ],
          "name": "stdout"
        }
      ]
    },
    {
      "metadata": {
        "id": "aj6kLB01ZQ1p",
        "colab_type": "code",
        "colab": {
          "base_uri": "https://localhost:8080/",
          "height": 34
        },
        "outputId": "b4ef643b-9421-431d-cab3-7f31581cf1a2"
      },
      "cell_type": "code",
      "source": [
        "tpot.export('solution_to_german_credit.py')"
      ],
      "execution_count": 14,
      "outputs": [
        {
          "output_type": "execute_result",
          "data": {
            "text/plain": [
              "True"
            ]
          },
          "metadata": {
            "tags": []
          },
          "execution_count": 14
        }
      ]
    },
    {
      "metadata": {
        "id": "CsR4OhOIm348",
        "colab_type": "code",
        "colab": {}
      },
      "cell_type": "code",
      "source": [
        "#Show the features with each used coefficient:\n",
        "\n",
        "important_coefs = pd.Series(data=exported_pipeline.steps[1][1].coef_, \n",
        "                            index=X.columns)\n",
        "\n",
        "sorted_coef = important_coefs.sort_values(ascending=False)\n",
        "\n",
        "sorted_coef"
      ],
      "execution_count": 0,
      "outputs": []
    }
  ]
}